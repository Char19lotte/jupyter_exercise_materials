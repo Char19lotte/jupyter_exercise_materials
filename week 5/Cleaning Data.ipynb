{
 "cells": [
  {
   "cell_type": "markdown",
   "source": [
    "# Cleaning Data - due thu 09/30 | *by Charlotte*\n",
    "---\n",
    "### Exercise 1\n",
    "For our data cleaning exercises, we will return one last time to our ACS data here. Download and import the 10percent ACS sample."
   ],
   "metadata": {}
  },
  {
   "cell_type": "code",
   "execution_count": 299,
   "source": [
    "import pandas as pd\n",
    "acs = pd.read_stata('US_ACS_2017_10pct_sample.dta')"
   ],
   "outputs": [],
   "metadata": {}
  },
  {
   "cell_type": "markdown",
   "source": [
    "---\n",
    "### Exercise 2\n",
    "For our exercises today, we’ll focus on age, gender, sex, and inctot. Subset your data to those variables, and quickly look at a sample of 10 rows."
   ],
   "metadata": {}
  },
  {
   "cell_type": "code",
   "execution_count": 300,
   "source": [
    "sub_acs = acs.loc[:, (acs.columns == 'age') | (acs.columns == 'sex') | (acs.columns == 'inctot')  | (acs.columns == 'educ')]\n",
    "sub_acs\n",
    "import numpy.random as npr\n",
    "npr.seed(42)\n",
    "sub_acs.sample(10)"
   ],
   "outputs": [
    {
     "output_type": "execute_result",
     "data": {
      "text/html": [
       "<div>\n",
       "<style scoped>\n",
       "    .dataframe tbody tr th:only-of-type {\n",
       "        vertical-align: middle;\n",
       "    }\n",
       "\n",
       "    .dataframe tbody tr th {\n",
       "        vertical-align: top;\n",
       "    }\n",
       "\n",
       "    .dataframe thead th {\n",
       "        text-align: right;\n",
       "    }\n",
       "</style>\n",
       "<table border=\"1\" class=\"dataframe\">\n",
       "  <thead>\n",
       "    <tr style=\"text-align: right;\">\n",
       "      <th></th>\n",
       "      <th>sex</th>\n",
       "      <th>age</th>\n",
       "      <th>educ</th>\n",
       "      <th>inctot</th>\n",
       "    </tr>\n",
       "  </thead>\n",
       "  <tbody>\n",
       "    <tr>\n",
       "      <th>166590</th>\n",
       "      <td>male</td>\n",
       "      <td>62</td>\n",
       "      <td>1 year of college</td>\n",
       "      <td>170000</td>\n",
       "    </tr>\n",
       "    <tr>\n",
       "      <th>207895</th>\n",
       "      <td>female</td>\n",
       "      <td>6</td>\n",
       "      <td>nursery school to grade 4</td>\n",
       "      <td>9999999</td>\n",
       "    </tr>\n",
       "    <tr>\n",
       "      <th>214500</th>\n",
       "      <td>male</td>\n",
       "      <td>18</td>\n",
       "      <td>grade 12</td>\n",
       "      <td>0</td>\n",
       "    </tr>\n",
       "    <tr>\n",
       "      <th>28863</th>\n",
       "      <td>female</td>\n",
       "      <td>less than 1 year old</td>\n",
       "      <td>n/a or no schooling</td>\n",
       "      <td>9999999</td>\n",
       "    </tr>\n",
       "    <tr>\n",
       "      <th>18280</th>\n",
       "      <td>female</td>\n",
       "      <td>11</td>\n",
       "      <td>grade 5, 6, 7, or 8</td>\n",
       "      <td>9999999</td>\n",
       "    </tr>\n",
       "    <tr>\n",
       "      <th>40280</th>\n",
       "      <td>male</td>\n",
       "      <td>56</td>\n",
       "      <td>4 years of college</td>\n",
       "      <td>60000</td>\n",
       "    </tr>\n",
       "    <tr>\n",
       "      <th>131910</th>\n",
       "      <td>male</td>\n",
       "      <td>9</td>\n",
       "      <td>nursery school to grade 4</td>\n",
       "      <td>9999999</td>\n",
       "    </tr>\n",
       "    <tr>\n",
       "      <th>207176</th>\n",
       "      <td>male</td>\n",
       "      <td>28</td>\n",
       "      <td>grade 12</td>\n",
       "      <td>0</td>\n",
       "    </tr>\n",
       "    <tr>\n",
       "      <th>50852</th>\n",
       "      <td>female</td>\n",
       "      <td>10</td>\n",
       "      <td>nursery school to grade 4</td>\n",
       "      <td>9999999</td>\n",
       "    </tr>\n",
       "    <tr>\n",
       "      <th>42735</th>\n",
       "      <td>male</td>\n",
       "      <td>65</td>\n",
       "      <td>2 years of college</td>\n",
       "      <td>350200</td>\n",
       "    </tr>\n",
       "  </tbody>\n",
       "</table>\n",
       "</div>"
      ],
      "text/plain": [
       "           sex                   age                       educ   inctot\n",
       "166590    male                    62          1 year of college   170000\n",
       "207895  female                     6  nursery school to grade 4  9999999\n",
       "214500    male                    18                   grade 12        0\n",
       "28863   female  less than 1 year old        n/a or no schooling  9999999\n",
       "18280   female                    11        grade 5, 6, 7, or 8  9999999\n",
       "40280     male                    56         4 years of college    60000\n",
       "131910    male                     9  nursery school to grade 4  9999999\n",
       "207176    male                    28                   grade 12        0\n",
       "50852   female                    10  nursery school to grade 4  9999999\n",
       "42735     male                    65         2 years of college   350200"
      ]
     },
     "metadata": {},
     "execution_count": 300
    }
   ],
   "metadata": {}
  },
  {
   "cell_type": "markdown",
   "source": [
    "---\n",
    "### Exercise 3\n",
    "First, replace all the values of inctot that are 9999999 with np.nan"
   ],
   "metadata": {}
  },
  {
   "cell_type": "code",
   "execution_count": 301,
   "source": [
    "import numpy as np\n",
    "sub_acs['inctot'].replace(9999999, np.nan)\n",
    "sub_acs['inctot']"
   ],
   "outputs": [
    {
     "output_type": "execute_result",
     "data": {
      "text/plain": [
       "0         9999999\n",
       "1            6000\n",
       "2            6150\n",
       "3           14000\n",
       "4         9999999\n",
       "           ...   \n",
       "318999      22130\n",
       "319000    9999999\n",
       "319001       5000\n",
       "319002     240000\n",
       "319003      48000\n",
       "Name: inctot, Length: 319004, dtype: int32"
      ]
     },
     "metadata": {},
     "execution_count": 301
    }
   ],
   "metadata": {}
  },
  {
   "cell_type": "markdown",
   "source": [
    "---\n",
    "### Exercise 4\n",
    "Calculate the average age of people in our data. What do you get?"
   ],
   "metadata": {}
  },
  {
   "cell_type": "code",
   "execution_count": 302,
   "source": [
    "f'Mean age is ${small_acs[\"age\"].mean()}'"
   ],
   "outputs": [
    {
     "output_type": "error",
     "ename": "TypeError",
     "evalue": "'Categorical' does not implement reduction 'mean'",
     "traceback": [
      "\u001b[0;31m---------------------------------------------------------------------------\u001b[0m",
      "\u001b[0;31mTypeError\u001b[0m                                 Traceback (most recent call last)",
      "\u001b[0;32m/var/folders/h9/g02cmrsn6y571zb1v96gs56c0000gn/T/ipykernel_10859/1239298680.py\u001b[0m in \u001b[0;36m<module>\u001b[0;34m\u001b[0m\n\u001b[0;32m----> 1\u001b[0;31m \u001b[0;34mf'Mean age is ${small_acs[\"age\"].mean()}'\u001b[0m\u001b[0;34m\u001b[0m\u001b[0;34m\u001b[0m\u001b[0m\n\u001b[0m",
      "\u001b[0;32m~/miniforge3/lib/python3.9/site-packages/pandas/core/generic.py\u001b[0m in \u001b[0;36mmean\u001b[0;34m(self, axis, skipna, level, numeric_only, **kwargs)\u001b[0m\n\u001b[1;32m  10749\u001b[0m         )\n\u001b[1;32m  10750\u001b[0m         \u001b[0;32mdef\u001b[0m \u001b[0mmean\u001b[0m\u001b[0;34m(\u001b[0m\u001b[0mself\u001b[0m\u001b[0;34m,\u001b[0m \u001b[0maxis\u001b[0m\u001b[0;34m=\u001b[0m\u001b[0;32mNone\u001b[0m\u001b[0;34m,\u001b[0m \u001b[0mskipna\u001b[0m\u001b[0;34m=\u001b[0m\u001b[0;32mNone\u001b[0m\u001b[0;34m,\u001b[0m \u001b[0mlevel\u001b[0m\u001b[0;34m=\u001b[0m\u001b[0;32mNone\u001b[0m\u001b[0;34m,\u001b[0m \u001b[0mnumeric_only\u001b[0m\u001b[0;34m=\u001b[0m\u001b[0;32mNone\u001b[0m\u001b[0;34m,\u001b[0m \u001b[0;34m**\u001b[0m\u001b[0mkwargs\u001b[0m\u001b[0;34m)\u001b[0m\u001b[0;34m:\u001b[0m\u001b[0;34m\u001b[0m\u001b[0;34m\u001b[0m\u001b[0m\n\u001b[0;32m> 10751\u001b[0;31m             \u001b[0;32mreturn\u001b[0m \u001b[0mNDFrame\u001b[0m\u001b[0;34m.\u001b[0m\u001b[0mmean\u001b[0m\u001b[0;34m(\u001b[0m\u001b[0mself\u001b[0m\u001b[0;34m,\u001b[0m \u001b[0maxis\u001b[0m\u001b[0;34m,\u001b[0m \u001b[0mskipna\u001b[0m\u001b[0;34m,\u001b[0m \u001b[0mlevel\u001b[0m\u001b[0;34m,\u001b[0m \u001b[0mnumeric_only\u001b[0m\u001b[0;34m,\u001b[0m \u001b[0;34m**\u001b[0m\u001b[0mkwargs\u001b[0m\u001b[0;34m)\u001b[0m\u001b[0;34m\u001b[0m\u001b[0;34m\u001b[0m\u001b[0m\n\u001b[0m\u001b[1;32m  10752\u001b[0m \u001b[0;34m\u001b[0m\u001b[0m\n\u001b[1;32m  10753\u001b[0m         \u001b[0msetattr\u001b[0m\u001b[0;34m(\u001b[0m\u001b[0mcls\u001b[0m\u001b[0;34m,\u001b[0m \u001b[0;34m\"mean\"\u001b[0m\u001b[0;34m,\u001b[0m \u001b[0mmean\u001b[0m\u001b[0;34m)\u001b[0m\u001b[0;34m\u001b[0m\u001b[0;34m\u001b[0m\u001b[0m\n",
      "\u001b[0;32m~/miniforge3/lib/python3.9/site-packages/pandas/core/generic.py\u001b[0m in \u001b[0;36mmean\u001b[0;34m(self, axis, skipna, level, numeric_only, **kwargs)\u001b[0m\n\u001b[1;32m  10367\u001b[0m \u001b[0;34m\u001b[0m\u001b[0m\n\u001b[1;32m  10368\u001b[0m     \u001b[0;32mdef\u001b[0m \u001b[0mmean\u001b[0m\u001b[0;34m(\u001b[0m\u001b[0mself\u001b[0m\u001b[0;34m,\u001b[0m \u001b[0maxis\u001b[0m\u001b[0;34m=\u001b[0m\u001b[0;32mNone\u001b[0m\u001b[0;34m,\u001b[0m \u001b[0mskipna\u001b[0m\u001b[0;34m=\u001b[0m\u001b[0;32mNone\u001b[0m\u001b[0;34m,\u001b[0m \u001b[0mlevel\u001b[0m\u001b[0;34m=\u001b[0m\u001b[0;32mNone\u001b[0m\u001b[0;34m,\u001b[0m \u001b[0mnumeric_only\u001b[0m\u001b[0;34m=\u001b[0m\u001b[0;32mNone\u001b[0m\u001b[0;34m,\u001b[0m \u001b[0;34m**\u001b[0m\u001b[0mkwargs\u001b[0m\u001b[0;34m)\u001b[0m\u001b[0;34m:\u001b[0m\u001b[0;34m\u001b[0m\u001b[0;34m\u001b[0m\u001b[0m\n\u001b[0;32m> 10369\u001b[0;31m         return self._stat_function(\n\u001b[0m\u001b[1;32m  10370\u001b[0m             \u001b[0;34m\"mean\"\u001b[0m\u001b[0;34m,\u001b[0m \u001b[0mnanops\u001b[0m\u001b[0;34m.\u001b[0m\u001b[0mnanmean\u001b[0m\u001b[0;34m,\u001b[0m \u001b[0maxis\u001b[0m\u001b[0;34m,\u001b[0m \u001b[0mskipna\u001b[0m\u001b[0;34m,\u001b[0m \u001b[0mlevel\u001b[0m\u001b[0;34m,\u001b[0m \u001b[0mnumeric_only\u001b[0m\u001b[0;34m,\u001b[0m \u001b[0;34m**\u001b[0m\u001b[0mkwargs\u001b[0m\u001b[0;34m\u001b[0m\u001b[0;34m\u001b[0m\u001b[0m\n\u001b[1;32m  10371\u001b[0m         )\n",
      "\u001b[0;32m~/miniforge3/lib/python3.9/site-packages/pandas/core/generic.py\u001b[0m in \u001b[0;36m_stat_function\u001b[0;34m(self, name, func, axis, skipna, level, numeric_only, **kwargs)\u001b[0m\n\u001b[1;32m  10352\u001b[0m                 \u001b[0mname\u001b[0m\u001b[0;34m,\u001b[0m \u001b[0maxis\u001b[0m\u001b[0;34m=\u001b[0m\u001b[0maxis\u001b[0m\u001b[0;34m,\u001b[0m \u001b[0mlevel\u001b[0m\u001b[0;34m=\u001b[0m\u001b[0mlevel\u001b[0m\u001b[0;34m,\u001b[0m \u001b[0mskipna\u001b[0m\u001b[0;34m=\u001b[0m\u001b[0mskipna\u001b[0m\u001b[0;34m,\u001b[0m \u001b[0mnumeric_only\u001b[0m\u001b[0;34m=\u001b[0m\u001b[0mnumeric_only\u001b[0m\u001b[0;34m\u001b[0m\u001b[0;34m\u001b[0m\u001b[0m\n\u001b[1;32m  10353\u001b[0m             )\n\u001b[0;32m> 10354\u001b[0;31m         return self._reduce(\n\u001b[0m\u001b[1;32m  10355\u001b[0m             \u001b[0mfunc\u001b[0m\u001b[0;34m,\u001b[0m \u001b[0mname\u001b[0m\u001b[0;34m=\u001b[0m\u001b[0mname\u001b[0m\u001b[0;34m,\u001b[0m \u001b[0maxis\u001b[0m\u001b[0;34m=\u001b[0m\u001b[0maxis\u001b[0m\u001b[0;34m,\u001b[0m \u001b[0mskipna\u001b[0m\u001b[0;34m=\u001b[0m\u001b[0mskipna\u001b[0m\u001b[0;34m,\u001b[0m \u001b[0mnumeric_only\u001b[0m\u001b[0;34m=\u001b[0m\u001b[0mnumeric_only\u001b[0m\u001b[0;34m\u001b[0m\u001b[0;34m\u001b[0m\u001b[0m\n\u001b[1;32m  10356\u001b[0m         )\n",
      "\u001b[0;32m~/miniforge3/lib/python3.9/site-packages/pandas/core/series.py\u001b[0m in \u001b[0;36m_reduce\u001b[0;34m(self, op, name, axis, skipna, numeric_only, filter_type, **kwds)\u001b[0m\n\u001b[1;32m   4381\u001b[0m         \u001b[0;32mif\u001b[0m \u001b[0misinstance\u001b[0m\u001b[0;34m(\u001b[0m\u001b[0mdelegate\u001b[0m\u001b[0;34m,\u001b[0m \u001b[0mExtensionArray\u001b[0m\u001b[0;34m)\u001b[0m\u001b[0;34m:\u001b[0m\u001b[0;34m\u001b[0m\u001b[0;34m\u001b[0m\u001b[0m\n\u001b[1;32m   4382\u001b[0m             \u001b[0;31m# dispatch to ExtensionArray interface\u001b[0m\u001b[0;34m\u001b[0m\u001b[0;34m\u001b[0m\u001b[0;34m\u001b[0m\u001b[0m\n\u001b[0;32m-> 4383\u001b[0;31m             \u001b[0;32mreturn\u001b[0m \u001b[0mdelegate\u001b[0m\u001b[0;34m.\u001b[0m\u001b[0m_reduce\u001b[0m\u001b[0;34m(\u001b[0m\u001b[0mname\u001b[0m\u001b[0;34m,\u001b[0m \u001b[0mskipna\u001b[0m\u001b[0;34m=\u001b[0m\u001b[0mskipna\u001b[0m\u001b[0;34m,\u001b[0m \u001b[0;34m**\u001b[0m\u001b[0mkwds\u001b[0m\u001b[0;34m)\u001b[0m\u001b[0;34m\u001b[0m\u001b[0;34m\u001b[0m\u001b[0m\n\u001b[0m\u001b[1;32m   4384\u001b[0m \u001b[0;34m\u001b[0m\u001b[0m\n\u001b[1;32m   4385\u001b[0m         \u001b[0;32melse\u001b[0m\u001b[0;34m:\u001b[0m\u001b[0;34m\u001b[0m\u001b[0;34m\u001b[0m\u001b[0m\n",
      "\u001b[0;32m~/miniforge3/lib/python3.9/site-packages/pandas/core/arrays/_mixins.py\u001b[0m in \u001b[0;36m_reduce\u001b[0;34m(self, name, skipna, **kwargs)\u001b[0m\n\u001b[1;32m    258\u001b[0m         \u001b[0;32melse\u001b[0m\u001b[0;34m:\u001b[0m\u001b[0;34m\u001b[0m\u001b[0;34m\u001b[0m\u001b[0m\n\u001b[1;32m    259\u001b[0m             \u001b[0mmsg\u001b[0m \u001b[0;34m=\u001b[0m \u001b[0;34mf\"'{type(self).__name__}' does not implement reduction '{name}'\"\u001b[0m\u001b[0;34m\u001b[0m\u001b[0;34m\u001b[0m\u001b[0m\n\u001b[0;32m--> 260\u001b[0;31m             \u001b[0;32mraise\u001b[0m \u001b[0mTypeError\u001b[0m\u001b[0;34m(\u001b[0m\u001b[0mmsg\u001b[0m\u001b[0;34m)\u001b[0m\u001b[0;34m\u001b[0m\u001b[0;34m\u001b[0m\u001b[0m\n\u001b[0m\u001b[1;32m    261\u001b[0m \u001b[0;34m\u001b[0m\u001b[0m\n\u001b[1;32m    262\u001b[0m     \u001b[0;32mdef\u001b[0m \u001b[0m_wrap_reduction_result\u001b[0m\u001b[0;34m(\u001b[0m\u001b[0mself\u001b[0m\u001b[0;34m,\u001b[0m \u001b[0maxis\u001b[0m\u001b[0;34m:\u001b[0m \u001b[0mint\u001b[0m \u001b[0;34m|\u001b[0m \u001b[0;32mNone\u001b[0m\u001b[0;34m,\u001b[0m \u001b[0mresult\u001b[0m\u001b[0;34m)\u001b[0m\u001b[0;34m:\u001b[0m\u001b[0;34m\u001b[0m\u001b[0;34m\u001b[0m\u001b[0m\n",
      "\u001b[0;31mTypeError\u001b[0m: 'Categorical' does not implement reduction 'mean'"
     ]
    }
   ],
   "metadata": {}
  },
  {
   "cell_type": "markdown",
   "source": [
    "*Problematic.*"
   ],
   "metadata": {}
  },
  {
   "cell_type": "markdown",
   "source": [
    "---\n",
    "### Exercise 5 \n",
    "We want to be able to calculate things using age, so we need it to be a numeric type. Check all the values of age to figure out why it’s categorical and not numeric. You should find two problematic categories."
   ],
   "metadata": {}
  },
  {
   "cell_type": "code",
   "execution_count": null,
   "source": [
    "age_list = sub_acs['age'].tolist()\n",
    "print(age_list)"
   ],
   "outputs": [],
   "metadata": {}
  },
  {
   "cell_type": "markdown",
   "source": [
    "- The two problematic values I find are: \"less than 1 year old\" and \"90 (90+ in 1980 and 1990)\"\n",
    "- Should be strings, i.e. not numeric"
   ],
   "metadata": {}
  },
  {
   "cell_type": "markdown",
   "source": [
    "---\n",
    "### Exercise 6\n",
    "In order to convert age into a numeric variable, we need to replace those problematic entries with values that pandas can later convert into numbers. Pick appropriate substitutions for the existing values and replace the current values. Hint 1: Categorical variables act like strings, so you might want to use string methods! Hint 2: Remember that characters like parentheses, pluses, asterices, etc. are special in Python strings, and you have to escape them if you want them to be interpreted literally!"
   ],
   "metadata": {}
  },
  {
   "cell_type": "code",
   "execution_count": 304,
   "source": [
    "sub_acs[\"age\"] = sub_acs[\"age\"].replace(\"90 (90+ in 1980 and 1990)\" , \"90\").copy()\n",
    "sub_acs[\"age\"] = sub_acs[\"age\"].replace(\"less than 1 year old\", \"0\").copy()\n",
    "sub_acs = sub_acs.copy()"
   ],
   "outputs": [
    {
     "output_type": "stream",
     "name": "stderr",
     "text": [
      "/var/folders/h9/g02cmrsn6y571zb1v96gs56c0000gn/T/ipykernel_10859/1377460654.py:1: SettingWithCopyWarning: \n",
      "A value is trying to be set on a copy of a slice from a DataFrame.\n",
      "Try using .loc[row_indexer,col_indexer] = value instead\n",
      "\n",
      "See the caveats in the documentation: https://pandas.pydata.org/pandas-docs/stable/user_guide/indexing.html#returning-a-view-versus-a-copy\n",
      "  sub_acs[\"age\"] = sub_acs[\"age\"].replace(\"90 (90+ in 1980 and 1990)\" , \"90\").copy()\n",
      "/var/folders/h9/g02cmrsn6y571zb1v96gs56c0000gn/T/ipykernel_10859/1377460654.py:2: SettingWithCopyWarning: \n",
      "A value is trying to be set on a copy of a slice from a DataFrame.\n",
      "Try using .loc[row_indexer,col_indexer] = value instead\n",
      "\n",
      "See the caveats in the documentation: https://pandas.pydata.org/pandas-docs/stable/user_guide/indexing.html#returning-a-view-versus-a-copy\n",
      "  sub_acs[\"age\"] = sub_acs[\"age\"].replace(\"less than 1 year old\", \"0\").copy()\n"
     ]
    }
   ],
   "metadata": {}
  },
  {
   "cell_type": "markdown",
   "source": [
    "---\n",
    "### Exercise 7\n",
    "Now convert age from a categorical to numeric."
   ],
   "metadata": {}
  },
  {
   "cell_type": "code",
   "execution_count": 305,
   "source": [
    "sub_acs[\"age\"] = pd.to_numeric(sub_acs[\"age\"])\n",
    "sub_acs.dtypes\n"
   ],
   "outputs": [
    {
     "output_type": "execute_result",
     "data": {
      "text/plain": [
       "sex       category\n",
       "age          int64\n",
       "educ      category\n",
       "inctot       int32\n",
       "dtype: object"
      ]
     },
     "metadata": {},
     "execution_count": 305
    }
   ],
   "metadata": {}
  },
  {
   "cell_type": "markdown",
   "source": [
    "---\n",
    "### Exercise 8\n",
    "Let’s now filter out anyone in our data whose age is less than than 18. Note that before made age a numeric variable, we couldn’t do this!"
   ],
   "metadata": {}
  },
  {
   "cell_type": "code",
   "execution_count": 306,
   "source": [
    "print(\"Subsetting the dataset for the people who are above 18 years old:\")\n",
    "adult = sub_acs.loc[sub_acs[\"age\"] > 18]\n",
    "adult"
   ],
   "outputs": [
    {
     "output_type": "stream",
     "name": "stdout",
     "text": [
      "Subsetting the dataset for the people who are above 18 years old:\n"
     ]
    },
    {
     "output_type": "execute_result",
     "data": {
      "text/html": [
       "<div>\n",
       "<style scoped>\n",
       "    .dataframe tbody tr th:only-of-type {\n",
       "        vertical-align: middle;\n",
       "    }\n",
       "\n",
       "    .dataframe tbody tr th {\n",
       "        vertical-align: top;\n",
       "    }\n",
       "\n",
       "    .dataframe thead th {\n",
       "        text-align: right;\n",
       "    }\n",
       "</style>\n",
       "<table border=\"1\" class=\"dataframe\">\n",
       "  <thead>\n",
       "    <tr style=\"text-align: right;\">\n",
       "      <th></th>\n",
       "      <th>sex</th>\n",
       "      <th>age</th>\n",
       "      <th>educ</th>\n",
       "      <th>inctot</th>\n",
       "    </tr>\n",
       "  </thead>\n",
       "  <tbody>\n",
       "    <tr>\n",
       "      <th>2</th>\n",
       "      <td>male</td>\n",
       "      <td>63</td>\n",
       "      <td>4 years of college</td>\n",
       "      <td>6150</td>\n",
       "    </tr>\n",
       "    <tr>\n",
       "      <th>3</th>\n",
       "      <td>female</td>\n",
       "      <td>66</td>\n",
       "      <td>grade 12</td>\n",
       "      <td>14000</td>\n",
       "    </tr>\n",
       "    <tr>\n",
       "      <th>5</th>\n",
       "      <td>male</td>\n",
       "      <td>50</td>\n",
       "      <td>grade 12</td>\n",
       "      <td>50000</td>\n",
       "    </tr>\n",
       "    <tr>\n",
       "      <th>6</th>\n",
       "      <td>male</td>\n",
       "      <td>82</td>\n",
       "      <td>1 year of college</td>\n",
       "      <td>27100</td>\n",
       "    </tr>\n",
       "    <tr>\n",
       "      <th>10</th>\n",
       "      <td>male</td>\n",
       "      <td>47</td>\n",
       "      <td>n/a or no schooling</td>\n",
       "      <td>18000</td>\n",
       "    </tr>\n",
       "    <tr>\n",
       "      <th>...</th>\n",
       "      <td>...</td>\n",
       "      <td>...</td>\n",
       "      <td>...</td>\n",
       "      <td>...</td>\n",
       "    </tr>\n",
       "    <tr>\n",
       "      <th>318998</th>\n",
       "      <td>female</td>\n",
       "      <td>31</td>\n",
       "      <td>5+ years of college</td>\n",
       "      <td>0</td>\n",
       "    </tr>\n",
       "    <tr>\n",
       "      <th>318999</th>\n",
       "      <td>female</td>\n",
       "      <td>33</td>\n",
       "      <td>4 years of college</td>\n",
       "      <td>22130</td>\n",
       "    </tr>\n",
       "    <tr>\n",
       "      <th>319001</th>\n",
       "      <td>male</td>\n",
       "      <td>20</td>\n",
       "      <td>grade 12</td>\n",
       "      <td>5000</td>\n",
       "    </tr>\n",
       "    <tr>\n",
       "      <th>319002</th>\n",
       "      <td>male</td>\n",
       "      <td>47</td>\n",
       "      <td>5+ years of college</td>\n",
       "      <td>240000</td>\n",
       "    </tr>\n",
       "    <tr>\n",
       "      <th>319003</th>\n",
       "      <td>male</td>\n",
       "      <td>33</td>\n",
       "      <td>5+ years of college</td>\n",
       "      <td>48000</td>\n",
       "    </tr>\n",
       "  </tbody>\n",
       "</table>\n",
       "<p>248538 rows × 4 columns</p>\n",
       "</div>"
      ],
      "text/plain": [
       "           sex  age                 educ  inctot\n",
       "2         male   63   4 years of college    6150\n",
       "3       female   66             grade 12   14000\n",
       "5         male   50             grade 12   50000\n",
       "6         male   82    1 year of college   27100\n",
       "10        male   47  n/a or no schooling   18000\n",
       "...        ...  ...                  ...     ...\n",
       "318998  female   31  5+ years of college       0\n",
       "318999  female   33   4 years of college   22130\n",
       "319001    male   20             grade 12    5000\n",
       "319002    male   47  5+ years of college  240000\n",
       "319003    male   33  5+ years of college   48000\n",
       "\n",
       "[248538 rows x 4 columns]"
      ]
     },
     "metadata": {},
     "execution_count": 306
    }
   ],
   "metadata": {}
  },
  {
   "cell_type": "markdown",
   "source": [
    "---\n",
    "### Exercise 9\n",
    "Create an indicator variable for whether each person has at least a college degree called college_degree"
   ],
   "metadata": {}
  },
  {
   "cell_type": "code",
   "execution_count": 307,
   "source": [
    "print(\"Check values again for education variable\")\n",
    "adult['educ'].value_counts()"
   ],
   "outputs": [
    {
     "output_type": "stream",
     "name": "stdout",
     "text": [
      "Check values again for education variable\n"
     ]
    },
    {
     "output_type": "execute_result",
     "data": {
      "text/plain": [
       "grade 12                     89743\n",
       "4 years of college           47212\n",
       "1 year of college            38384\n",
       "5+ years of college          29801\n",
       "2 years of college           20731\n",
       "grade 5, 6, 7, or 8           5942\n",
       "grade 11                      4763\n",
       "grade 10                      3942\n",
       "n/a or no schooling           3627\n",
       "grade 9                       3105\n",
       "nursery school to grade 4     1288\n",
       "Name: educ, dtype: int64"
      ]
     },
     "metadata": {},
     "execution_count": 307
    }
   ],
   "metadata": {}
  },
  {
   "cell_type": "code",
   "execution_count": 308,
   "source": [
    "print(\"Create Boolean indicator\")\n",
    "adult['college_degree'] = (adult['educ'] == '4 years of college') | (adult['educ'] =='5+ years of college')\n",
    "adult['college_degree']\n",
    "adult"
   ],
   "outputs": [
    {
     "output_type": "stream",
     "name": "stdout",
     "text": [
      "Create Boolean indicator\n"
     ]
    },
    {
     "output_type": "stream",
     "name": "stderr",
     "text": [
      "/var/folders/h9/g02cmrsn6y571zb1v96gs56c0000gn/T/ipykernel_10859/1651839132.py:2: SettingWithCopyWarning: \n",
      "A value is trying to be set on a copy of a slice from a DataFrame.\n",
      "Try using .loc[row_indexer,col_indexer] = value instead\n",
      "\n",
      "See the caveats in the documentation: https://pandas.pydata.org/pandas-docs/stable/user_guide/indexing.html#returning-a-view-versus-a-copy\n",
      "  adult['college_degree'] = (adult['educ'] == '4 years of college') | (adult['educ'] =='5+ years of college')\n"
     ]
    },
    {
     "output_type": "execute_result",
     "data": {
      "text/html": [
       "<div>\n",
       "<style scoped>\n",
       "    .dataframe tbody tr th:only-of-type {\n",
       "        vertical-align: middle;\n",
       "    }\n",
       "\n",
       "    .dataframe tbody tr th {\n",
       "        vertical-align: top;\n",
       "    }\n",
       "\n",
       "    .dataframe thead th {\n",
       "        text-align: right;\n",
       "    }\n",
       "</style>\n",
       "<table border=\"1\" class=\"dataframe\">\n",
       "  <thead>\n",
       "    <tr style=\"text-align: right;\">\n",
       "      <th></th>\n",
       "      <th>sex</th>\n",
       "      <th>age</th>\n",
       "      <th>educ</th>\n",
       "      <th>inctot</th>\n",
       "      <th>college_degree</th>\n",
       "    </tr>\n",
       "  </thead>\n",
       "  <tbody>\n",
       "    <tr>\n",
       "      <th>2</th>\n",
       "      <td>male</td>\n",
       "      <td>63</td>\n",
       "      <td>4 years of college</td>\n",
       "      <td>6150</td>\n",
       "      <td>True</td>\n",
       "    </tr>\n",
       "    <tr>\n",
       "      <th>3</th>\n",
       "      <td>female</td>\n",
       "      <td>66</td>\n",
       "      <td>grade 12</td>\n",
       "      <td>14000</td>\n",
       "      <td>False</td>\n",
       "    </tr>\n",
       "    <tr>\n",
       "      <th>5</th>\n",
       "      <td>male</td>\n",
       "      <td>50</td>\n",
       "      <td>grade 12</td>\n",
       "      <td>50000</td>\n",
       "      <td>False</td>\n",
       "    </tr>\n",
       "    <tr>\n",
       "      <th>6</th>\n",
       "      <td>male</td>\n",
       "      <td>82</td>\n",
       "      <td>1 year of college</td>\n",
       "      <td>27100</td>\n",
       "      <td>False</td>\n",
       "    </tr>\n",
       "    <tr>\n",
       "      <th>10</th>\n",
       "      <td>male</td>\n",
       "      <td>47</td>\n",
       "      <td>n/a or no schooling</td>\n",
       "      <td>18000</td>\n",
       "      <td>False</td>\n",
       "    </tr>\n",
       "    <tr>\n",
       "      <th>...</th>\n",
       "      <td>...</td>\n",
       "      <td>...</td>\n",
       "      <td>...</td>\n",
       "      <td>...</td>\n",
       "      <td>...</td>\n",
       "    </tr>\n",
       "    <tr>\n",
       "      <th>318998</th>\n",
       "      <td>female</td>\n",
       "      <td>31</td>\n",
       "      <td>5+ years of college</td>\n",
       "      <td>0</td>\n",
       "      <td>True</td>\n",
       "    </tr>\n",
       "    <tr>\n",
       "      <th>318999</th>\n",
       "      <td>female</td>\n",
       "      <td>33</td>\n",
       "      <td>4 years of college</td>\n",
       "      <td>22130</td>\n",
       "      <td>True</td>\n",
       "    </tr>\n",
       "    <tr>\n",
       "      <th>319001</th>\n",
       "      <td>male</td>\n",
       "      <td>20</td>\n",
       "      <td>grade 12</td>\n",
       "      <td>5000</td>\n",
       "      <td>False</td>\n",
       "    </tr>\n",
       "    <tr>\n",
       "      <th>319002</th>\n",
       "      <td>male</td>\n",
       "      <td>47</td>\n",
       "      <td>5+ years of college</td>\n",
       "      <td>240000</td>\n",
       "      <td>True</td>\n",
       "    </tr>\n",
       "    <tr>\n",
       "      <th>319003</th>\n",
       "      <td>male</td>\n",
       "      <td>33</td>\n",
       "      <td>5+ years of college</td>\n",
       "      <td>48000</td>\n",
       "      <td>True</td>\n",
       "    </tr>\n",
       "  </tbody>\n",
       "</table>\n",
       "<p>248538 rows × 5 columns</p>\n",
       "</div>"
      ],
      "text/plain": [
       "           sex  age                 educ  inctot  college_degree\n",
       "2         male   63   4 years of college    6150            True\n",
       "3       female   66             grade 12   14000           False\n",
       "5         male   50             grade 12   50000           False\n",
       "6         male   82    1 year of college   27100           False\n",
       "10        male   47  n/a or no schooling   18000           False\n",
       "...        ...  ...                  ...     ...             ...\n",
       "318998  female   31  5+ years of college       0            True\n",
       "318999  female   33   4 years of college   22130            True\n",
       "319001    male   20             grade 12    5000           False\n",
       "319002    male   47  5+ years of college  240000            True\n",
       "319003    male   33  5+ years of college   48000            True\n",
       "\n",
       "[248538 rows x 5 columns]"
      ]
     },
     "metadata": {},
     "execution_count": 308
    }
   ],
   "metadata": {}
  },
  {
   "cell_type": "markdown",
   "source": [
    "---\n",
    "### Exercise 10\n",
    "Let’s examine how the educational gender gap. Use pd.crosstab to create a cross-tabulation of sex and college_degree. pd.crosstab will give you the number of people who have each combination of sex and college_degree (so in this case, it will give us a 2x2 table with Male and Female as rows, and college_degree True and False as columns, or vice versa."
   ],
   "metadata": {}
  },
  {
   "cell_type": "code",
   "execution_count": 309,
   "source": [
    "pd.crosstab(adult['sex'], adult['college_degree'])"
   ],
   "outputs": [
    {
     "output_type": "execute_result",
     "data": {
      "text/html": [
       "<div>\n",
       "<style scoped>\n",
       "    .dataframe tbody tr th:only-of-type {\n",
       "        vertical-align: middle;\n",
       "    }\n",
       "\n",
       "    .dataframe tbody tr th {\n",
       "        vertical-align: top;\n",
       "    }\n",
       "\n",
       "    .dataframe thead th {\n",
       "        text-align: right;\n",
       "    }\n",
       "</style>\n",
       "<table border=\"1\" class=\"dataframe\">\n",
       "  <thead>\n",
       "    <tr style=\"text-align: right;\">\n",
       "      <th>college_degree</th>\n",
       "      <th>False</th>\n",
       "      <th>True</th>\n",
       "    </tr>\n",
       "    <tr>\n",
       "      <th>sex</th>\n",
       "      <th></th>\n",
       "      <th></th>\n",
       "    </tr>\n",
       "  </thead>\n",
       "  <tbody>\n",
       "    <tr>\n",
       "      <th>male</th>\n",
       "      <td>83581</td>\n",
       "      <td>36181</td>\n",
       "    </tr>\n",
       "    <tr>\n",
       "      <th>female</th>\n",
       "      <td>87944</td>\n",
       "      <td>40832</td>\n",
       "    </tr>\n",
       "  </tbody>\n",
       "</table>\n",
       "</div>"
      ],
      "text/plain": [
       "college_degree  False   True\n",
       "sex                         \n",
       "male            83581  36181\n",
       "female          87944  40832"
      ]
     },
     "metadata": {},
     "execution_count": 309
    }
   ],
   "metadata": {}
  },
  {
   "cell_type": "markdown",
   "source": [
    "---\n",
    "### Exercise 11\n",
    "Counts are kind of hard to interpret. pd.crosstab can also normalize values to give percentages. Look at the pd.crosstab help file to figure out how to normalize the values in the table. Normalize them so that you get the share of men with and without college degree, and the share of women with and without college degrees."
   ],
   "metadata": {}
  },
  {
   "cell_type": "code",
   "execution_count": 310,
   "source": [
    "pd.crosstab(adult['sex'], adult['college_degree'], normalize='columns')"
   ],
   "outputs": [
    {
     "output_type": "execute_result",
     "data": {
      "text/html": [
       "<div>\n",
       "<style scoped>\n",
       "    .dataframe tbody tr th:only-of-type {\n",
       "        vertical-align: middle;\n",
       "    }\n",
       "\n",
       "    .dataframe tbody tr th {\n",
       "        vertical-align: top;\n",
       "    }\n",
       "\n",
       "    .dataframe thead th {\n",
       "        text-align: right;\n",
       "    }\n",
       "</style>\n",
       "<table border=\"1\" class=\"dataframe\">\n",
       "  <thead>\n",
       "    <tr style=\"text-align: right;\">\n",
       "      <th>college_degree</th>\n",
       "      <th>False</th>\n",
       "      <th>True</th>\n",
       "    </tr>\n",
       "    <tr>\n",
       "      <th>sex</th>\n",
       "      <th></th>\n",
       "      <th></th>\n",
       "    </tr>\n",
       "  </thead>\n",
       "  <tbody>\n",
       "    <tr>\n",
       "      <th>male</th>\n",
       "      <td>0.487282</td>\n",
       "      <td>0.469804</td>\n",
       "    </tr>\n",
       "    <tr>\n",
       "      <th>female</th>\n",
       "      <td>0.512718</td>\n",
       "      <td>0.530196</td>\n",
       "    </tr>\n",
       "  </tbody>\n",
       "</table>\n",
       "</div>"
      ],
      "text/plain": [
       "college_degree     False      True\n",
       "sex                               \n",
       "male            0.487282  0.469804\n",
       "female          0.512718  0.530196"
      ]
     },
     "metadata": {},
     "execution_count": 310
    }
   ],
   "metadata": {}
  },
  {
   "cell_type": "markdown",
   "source": [
    "---\n",
    "### Exercise 12\n",
    "Now, let’s recreate that table for people over 40 and people under 40. Has the difference between men and women in terms of getting a college degree impoved, stayed the same, or worsened?"
   ],
   "metadata": {}
  },
  {
   "cell_type": "code",
   "execution_count": 312,
   "source": [
    "below_acs = adult.loc[adult['age'] < 40]\n",
    "pd.crosstab(below_acs['sex'], below_acs['college_degree'], normalize='columns')"
   ],
   "outputs": [
    {
     "output_type": "execute_result",
     "data": {
      "text/html": [
       "<div>\n",
       "<style scoped>\n",
       "    .dataframe tbody tr th:only-of-type {\n",
       "        vertical-align: middle;\n",
       "    }\n",
       "\n",
       "    .dataframe tbody tr th {\n",
       "        vertical-align: top;\n",
       "    }\n",
       "\n",
       "    .dataframe thead th {\n",
       "        text-align: right;\n",
       "    }\n",
       "</style>\n",
       "<table border=\"1\" class=\"dataframe\">\n",
       "  <thead>\n",
       "    <tr style=\"text-align: right;\">\n",
       "      <th>college_degree</th>\n",
       "      <th>False</th>\n",
       "      <th>True</th>\n",
       "    </tr>\n",
       "    <tr>\n",
       "      <th>sex</th>\n",
       "      <th></th>\n",
       "      <th></th>\n",
       "    </tr>\n",
       "  </thead>\n",
       "  <tbody>\n",
       "    <tr>\n",
       "      <th>male</th>\n",
       "      <td>0.532658</td>\n",
       "      <td>0.437058</td>\n",
       "    </tr>\n",
       "    <tr>\n",
       "      <th>female</th>\n",
       "      <td>0.467342</td>\n",
       "      <td>0.562942</td>\n",
       "    </tr>\n",
       "  </tbody>\n",
       "</table>\n",
       "</div>"
      ],
      "text/plain": [
       "college_degree     False      True\n",
       "sex                               \n",
       "male            0.532658  0.437058\n",
       "female          0.467342  0.562942"
      ]
     },
     "metadata": {},
     "execution_count": 312
    }
   ],
   "metadata": {}
  },
  {
   "cell_type": "markdown",
   "source": [
    "Comparing the overall sample to the subset of those below 40, on the first look the gap has overall stayed pretty much the same. However, marginally, the majority attribution for those without a degree have changed: \n",
    "- We find that in the full sample, 51% (i.e. the majority) of those who did not have a degree were women, while in the subset the majority without a degree are men (53%). \n",
    "When looking at those with a degree the majority attribution has stayed the same but distribution has changed:\n",
    "- In the full model, 53% of those with a degree were female, in the subset that number increases to 56%."
   ],
   "metadata": {}
  },
  {
   "cell_type": "code",
   "execution_count": 314,
   "source": [
    "above_acs = adult.loc[adult['age'] > 40]\n",
    "pd.crosstab(above_acs['sex'], above_acs['college_degree'], normalize='columns')"
   ],
   "outputs": [
    {
     "output_type": "execute_result",
     "data": {
      "text/html": [
       "<div>\n",
       "<style scoped>\n",
       "    .dataframe tbody tr th:only-of-type {\n",
       "        vertical-align: middle;\n",
       "    }\n",
       "\n",
       "    .dataframe tbody tr th {\n",
       "        vertical-align: top;\n",
       "    }\n",
       "\n",
       "    .dataframe thead th {\n",
       "        text-align: right;\n",
       "    }\n",
       "</style>\n",
       "<table border=\"1\" class=\"dataframe\">\n",
       "  <thead>\n",
       "    <tr style=\"text-align: right;\">\n",
       "      <th>college_degree</th>\n",
       "      <th>False</th>\n",
       "      <th>True</th>\n",
       "    </tr>\n",
       "    <tr>\n",
       "      <th>sex</th>\n",
       "      <th></th>\n",
       "      <th></th>\n",
       "    </tr>\n",
       "  </thead>\n",
       "  <tbody>\n",
       "    <tr>\n",
       "      <th>male</th>\n",
       "      <td>0.464684</td>\n",
       "      <td>0.487035</td>\n",
       "    </tr>\n",
       "    <tr>\n",
       "      <th>female</th>\n",
       "      <td>0.535316</td>\n",
       "      <td>0.512965</td>\n",
       "    </tr>\n",
       "  </tbody>\n",
       "</table>\n",
       "</div>"
      ],
      "text/plain": [
       "college_degree     False      True\n",
       "sex                               \n",
       "male            0.464684  0.487035\n",
       "female          0.535316  0.512965"
      ]
     },
     "metadata": {},
     "execution_count": 314
    }
   ],
   "metadata": {}
  },
  {
   "cell_type": "markdown",
   "source": [
    "Comparing the overall sample to the subset of those above 40, on the first look the gap has overall stayed pretty much the same. THE majority attribution has stayed the same but distribution has changed:\n",
    "- We find that in the full sample, 51% (i.e. the majority) of those who did not have a degree were women, while in the subset that number increases to 53%. \n",
    "- In the full model, 53% of those with a degree were female, in the subset that number decreases to 51%."
   ],
   "metadata": {}
  },
  {
   "cell_type": "markdown",
   "source": [
    "#### Conclusion\n",
    "As we see the age gap is generally not very strong but it is interesting to see how the age gap behaves across generations. We find differences in the majority attribution for those above and below 40. On a first glance we can state that women are more likely than men to have a degree in the age group below 40. This would require further investigation."
   ],
   "metadata": {}
  }
 ],
 "metadata": {
  "orig_nbformat": 4,
  "language_info": {
   "name": "python",
   "version": "3.9.6",
   "mimetype": "text/x-python",
   "codemirror_mode": {
    "name": "ipython",
    "version": 3
   },
   "pygments_lexer": "ipython3",
   "nbconvert_exporter": "python",
   "file_extension": ".py"
  },
  "kernelspec": {
   "name": "python3",
   "display_name": "Python 3.9.6 64-bit ('base': conda)"
  },
  "interpreter": {
   "hash": "f5a15aebcfd6cf31746d094300eea13bdb53fd306d473f894a87d69a4b32cf89"
  }
 },
 "nbformat": 4,
 "nbformat_minor": 2
}