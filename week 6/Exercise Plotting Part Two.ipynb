{
 "cells": [
  {
   "cell_type": "markdown",
   "source": [
    "# Plotting II - due 10/07 *by Charlotte*\n",
    "\n",
    "---"
   ],
   "metadata": {}
  },
  {
   "cell_type": "code",
   "execution_count": 145,
   "source": [
    "import pandas as pd\n",
    "\n",
    "wdi = pd.read_csv(\n",
    "    \"https://raw.githubusercontent.com/nickeubank/practicaldatascience\"\n",
    "    \"/master/Example_Data/world-small.csv\"\n",
    ")"
   ],
   "outputs": [],
   "metadata": {}
  },
  {
   "cell_type": "code",
   "execution_count": 146,
   "source": [
    "wdi.head()"
   ],
   "outputs": [
    {
     "output_type": "execute_result",
     "data": {
      "text/html": [
       "<div>\n",
       "<style scoped>\n",
       "    .dataframe tbody tr th:only-of-type {\n",
       "        vertical-align: middle;\n",
       "    }\n",
       "\n",
       "    .dataframe tbody tr th {\n",
       "        vertical-align: top;\n",
       "    }\n",
       "\n",
       "    .dataframe thead th {\n",
       "        text-align: right;\n",
       "    }\n",
       "</style>\n",
       "<table border=\"1\" class=\"dataframe\">\n",
       "  <thead>\n",
       "    <tr style=\"text-align: right;\">\n",
       "      <th></th>\n",
       "      <th>country</th>\n",
       "      <th>region</th>\n",
       "      <th>gdppcap08</th>\n",
       "      <th>polityIV</th>\n",
       "    </tr>\n",
       "  </thead>\n",
       "  <tbody>\n",
       "    <tr>\n",
       "      <th>0</th>\n",
       "      <td>Albania</td>\n",
       "      <td>C&amp;E Europe</td>\n",
       "      <td>7715</td>\n",
       "      <td>17.8</td>\n",
       "    </tr>\n",
       "    <tr>\n",
       "      <th>1</th>\n",
       "      <td>Algeria</td>\n",
       "      <td>Africa</td>\n",
       "      <td>8033</td>\n",
       "      <td>10.0</td>\n",
       "    </tr>\n",
       "    <tr>\n",
       "      <th>2</th>\n",
       "      <td>Angola</td>\n",
       "      <td>Africa</td>\n",
       "      <td>5899</td>\n",
       "      <td>8.0</td>\n",
       "    </tr>\n",
       "    <tr>\n",
       "      <th>3</th>\n",
       "      <td>Argentina</td>\n",
       "      <td>S. America</td>\n",
       "      <td>14333</td>\n",
       "      <td>18.0</td>\n",
       "    </tr>\n",
       "    <tr>\n",
       "      <th>4</th>\n",
       "      <td>Armenia</td>\n",
       "      <td>C&amp;E Europe</td>\n",
       "      <td>6070</td>\n",
       "      <td>15.0</td>\n",
       "    </tr>\n",
       "  </tbody>\n",
       "</table>\n",
       "</div>"
      ],
      "text/plain": [
       "     country      region  gdppcap08  polityIV\n",
       "0    Albania  C&E Europe       7715      17.8\n",
       "1    Algeria      Africa       8033      10.0\n",
       "2     Angola      Africa       5899       8.0\n",
       "3  Argentina  S. America      14333      18.0\n",
       "4    Armenia  C&E Europe       6070      15.0"
      ]
     },
     "metadata": {},
     "execution_count": 146
    }
   ],
   "metadata": {}
  },
  {
   "cell_type": "markdown",
   "source": [
    "---\n",
    "### Exercise 1\n",
    "Let’s being analyzing this data by estimating a simple linear model (“ordinary least squares”) of the relationship between GDP per capita (gdppcap08) and democracy scores (polityIV). We will do so using the statsmodel package, which we’ll discuss in detail later is this course. For the momement, just use this code:"
   ],
   "metadata": {}
  },
  {
   "cell_type": "code",
   "execution_count": 147,
   "source": [
    "import statsmodels.formula.api as smf\n",
    "results = smf.ols('polityIV ~ gdppcap08',\n",
    "                   data=wdi).fit()\n",
    "print(\"OLS Model Polity IV regressed on gdppcap08:\")\n",
    "print(results.summary())"
   ],
   "outputs": [
    {
     "output_type": "stream",
     "name": "stdout",
     "text": [
      "OLS Model Polity IV regressed on gdppcap08:\n",
      "                            OLS Regression Results                            \n",
      "==============================================================================\n",
      "Dep. Variable:               polityIV   R-squared:                       0.047\n",
      "Model:                            OLS   Adj. R-squared:                  0.040\n",
      "Method:                 Least Squares   F-statistic:                     6.981\n",
      "Date:                Sun, 10 Oct 2021   Prob (F-statistic):            0.00915\n",
      "Time:                        11:29:36   Log-Likelihood:                -475.14\n",
      "No. Observations:                 145   AIC:                             954.3\n",
      "Df Residuals:                     143   BIC:                             960.2\n",
      "Df Model:                           1                                         \n",
      "Covariance Type:            nonrobust                                         \n",
      "==============================================================================\n",
      "                 coef    std err          t      P>|t|      [0.025      0.975]\n",
      "------------------------------------------------------------------------------\n",
      "Intercept     12.1354      0.721     16.841      0.000      10.711      13.560\n",
      "gdppcap08   9.602e-05   3.63e-05      2.642      0.009    2.42e-05       0.000\n",
      "==============================================================================\n",
      "Omnibus:                       17.820   Durbin-Watson:                   1.939\n",
      "Prob(Omnibus):                  0.000   Jarque-Bera (JB):               20.393\n",
      "Skew:                          -0.887   Prob(JB):                     3.73e-05\n",
      "Kurtosis:                       2.524   Cond. No.                     2.67e+04\n",
      "==============================================================================\n",
      "\n",
      "Notes:\n",
      "[1] Standard Errors assume that the covariance matrix of the errors is correctly specified.\n",
      "[2] The condition number is large, 2.67e+04. This might indicate that there are\n",
      "strong multicollinearity or other numerical problems.\n"
     ]
    }
   ],
   "metadata": {}
  },
  {
   "cell_type": "markdown",
   "source": [
    "---\n",
    "### Exercise 2\n",
    "Based on the results of this analysis, what would you conclude about about the relationship between gdppcap08 and polityIV?\n",
    "\n",
    "- **The relationship is marginally positive and significant**: With a one unit increase in the gdppcap08 variable, the polity IV index increases by 9.602e-05, i.e. 0.00009062. In a more understandable interpretation this means that with an increase of $10,000 GDP per cap, the Polity IV Democracy Score would increase by 0.9 units. The coefficient is significant at the 99% level with a p-value of 0.009. "
   ],
   "metadata": {}
  },
  {
   "cell_type": "markdown",
   "source": [
    "---\n",
    "### Exercise 3\n",
    "Now let’s plot the relationship you just estimated statistically. First, use Altair to create a scatter plot of polityIV and gdppcap08.\n"
   ],
   "metadata": {}
  },
  {
   "cell_type": "code",
   "execution_count": 148,
   "source": [
    "import altair as alt\n",
    "alt.Chart(wdi, title=\"Relationship between GDP per capita and the Polity IV Score\").mark_point().encode(\n",
    "    x=alt.X(\"gdppcap08\", title=\"GDP per Capita\", scale=alt.Scale(zero=False)),\n",
    "    y=alt.Y(\"polityIV\", title=\"Polity IV Democracy Score\", scale=alt.Scale(zero=False)),\n",
    ")\n"
   ],
   "outputs": [
    {
     "output_type": "execute_result",
     "data": {
      "text/html": [
       "\n",
       "<div id=\"altair-viz-750b75a92bdf4201b5a7c57fd87d76dc\"></div>\n",
       "<script type=\"text/javascript\">\n",
       "  (function(spec, embedOpt){\n",
       "    let outputDiv = document.currentScript.previousElementSibling;\n",
       "    if (outputDiv.id !== \"altair-viz-750b75a92bdf4201b5a7c57fd87d76dc\") {\n",
       "      outputDiv = document.getElementById(\"altair-viz-750b75a92bdf4201b5a7c57fd87d76dc\");\n",
       "    }\n",
       "    const paths = {\n",
       "      \"vega\": \"https://cdn.jsdelivr.net/npm//vega@5?noext\",\n",
       "      \"vega-lib\": \"https://cdn.jsdelivr.net/npm//vega-lib?noext\",\n",
       "      \"vega-lite\": \"https://cdn.jsdelivr.net/npm//vega-lite@4.8.1?noext\",\n",
       "      \"vega-embed\": \"https://cdn.jsdelivr.net/npm//vega-embed@6?noext\",\n",
       "    };\n",
       "\n",
       "    function loadScript(lib) {\n",
       "      return new Promise(function(resolve, reject) {\n",
       "        var s = document.createElement('script');\n",
       "        s.src = paths[lib];\n",
       "        s.async = true;\n",
       "        s.onload = () => resolve(paths[lib]);\n",
       "        s.onerror = () => reject(`Error loading script: ${paths[lib]}`);\n",
       "        document.getElementsByTagName(\"head\")[0].appendChild(s);\n",
       "      });\n",
       "    }\n",
       "\n",
       "    function showError(err) {\n",
       "      outputDiv.innerHTML = `<div class=\"error\" style=\"color:red;\">${err}</div>`;\n",
       "      throw err;\n",
       "    }\n",
       "\n",
       "    function displayChart(vegaEmbed) {\n",
       "      vegaEmbed(outputDiv, spec, embedOpt)\n",
       "        .catch(err => showError(`Javascript Error: ${err.message}<br>This usually means there's a typo in your chart specification. See the javascript console for the full traceback.`));\n",
       "    }\n",
       "\n",
       "    if(typeof define === \"function\" && define.amd) {\n",
       "      requirejs.config({paths});\n",
       "      require([\"vega-embed\"], displayChart, err => showError(`Error loading script: ${err.message}`));\n",
       "    } else if (typeof vegaEmbed === \"function\") {\n",
       "      displayChart(vegaEmbed);\n",
       "    } else {\n",
       "      loadScript(\"vega\")\n",
       "        .then(() => loadScript(\"vega-lite\"))\n",
       "        .then(() => loadScript(\"vega-embed\"))\n",
       "        .catch(showError)\n",
       "        .then(() => displayChart(vegaEmbed));\n",
       "    }\n",
       "  })({\"config\": {\"view\": {\"continuousWidth\": 400, \"continuousHeight\": 300}}, \"data\": {\"name\": \"data-50afffcb03ca16fbefb225cc29275795\"}, \"mark\": \"point\", \"encoding\": {\"x\": {\"type\": \"quantitative\", \"field\": \"gdppcap08\", \"scale\": {\"zero\": false}, \"title\": \"GDP per Capita\"}, \"y\": {\"type\": \"quantitative\", \"field\": \"polityIV\", \"scale\": {\"zero\": false}, \"title\": \"Polity IV Democracy Score\"}}, \"title\": \"Relationship between GDP per capita and the Polity IV Score\", \"$schema\": \"https://vega.github.io/schema/vega-lite/v4.8.1.json\", \"datasets\": {\"data-50afffcb03ca16fbefb225cc29275795\": [{\"country\": \"Albania\", \"region\": \"C&E Europe\", \"gdppcap08\": 7715, \"polityIV\": 17.8}, {\"country\": \"Algeria\", \"region\": \"Africa\", \"gdppcap08\": 8033, \"polityIV\": 10.0}, {\"country\": \"Angola\", \"region\": \"Africa\", \"gdppcap08\": 5899, \"polityIV\": 8.0}, {\"country\": \"Argentina\", \"region\": \"S. America\", \"gdppcap08\": 14333, \"polityIV\": 18.0}, {\"country\": \"Armenia\", \"region\": \"C&E Europe\", \"gdppcap08\": 6070, \"polityIV\": 15.0}, {\"country\": \"Australia\", \"region\": \"Asia-Pacific\", \"gdppcap08\": 35677, \"polityIV\": 20.0}, {\"country\": \"Austria\", \"region\": \"W. Europe\", \"gdppcap08\": 38152, \"polityIV\": 20.0}, {\"country\": \"Azerbaijan\", \"region\": \"C&E Europe\", \"gdppcap08\": 8765, \"polityIV\": 3.0}, {\"country\": \"Bahrain\", \"region\": \"Middle East\", \"gdppcap08\": 34605, \"polityIV\": 3.0}, {\"country\": \"Bangladesh\", \"region\": \"Asia-Pacific\", \"gdppcap08\": 1334, \"polityIV\": 16.0}, {\"country\": \"Belarus\", \"region\": \"C&E Europe\", \"gdppcap08\": 12261, \"polityIV\": 3.0}, {\"country\": \"Belgium\", \"region\": \"W. Europe\", \"gdppcap08\": 34493, \"polityIV\": 20.0}, {\"country\": \"Benin\", \"region\": \"Africa\", \"gdppcap08\": 1468, \"polityIV\": 16.2}, {\"country\": \"Bhutan\", \"region\": \"Asia-Pacific\", \"gdppcap08\": 4755, \"polityIV\": 2.0}, {\"country\": \"Bolivia\", \"region\": \"S. America\", \"gdppcap08\": 4278, \"polityIV\": 18.2}, {\"country\": \"Botswana\", \"region\": \"Africa\", \"gdppcap08\": 13392, \"polityIV\": 19.0}, {\"country\": \"Brazil\", \"region\": \"S. America\", \"gdppcap08\": 10296, \"polityIV\": 18.0}, {\"country\": \"Bulgaria\", \"region\": \"C&E Europe\", \"gdppcap08\": 12393, \"polityIV\": 19.0}, {\"country\": \"Burkina Faso\", \"region\": \"Africa\", \"gdppcap08\": 1161, \"polityIV\": 10.0}, {\"country\": \"Cambodia\", \"region\": \"Asia-Pacific\", \"gdppcap08\": 1905, \"polityIV\": 12.0}, {\"country\": \"Cameroon\", \"region\": \"Africa\", \"gdppcap08\": 2215, \"polityIV\": 6.0}, {\"country\": \"Canada\", \"region\": \"N. America\", \"gdppcap08\": 36444, \"polityIV\": 20.0}, {\"country\": \"Central African Republic\", \"region\": \"Africa\", \"gdppcap08\": 736, \"polityIV\": 10.2}, {\"country\": \"Chad\", \"region\": \"Africa\", \"gdppcap08\": 1455, \"polityIV\": 8.0}, {\"country\": \"Chile\", \"region\": \"S. America\", \"gdppcap08\": 14465, \"polityIV\": 19.2}, {\"country\": \"China\", \"region\": \"Asia-Pacific\", \"gdppcap08\": 5962, \"polityIV\": 3.0}, {\"country\": \"Colombia\", \"region\": \"S. America\", \"gdppcap08\": 8885, \"polityIV\": 17.0}, {\"country\": \"Comoros\", \"region\": \"Africa\", \"gdppcap08\": 1169, \"polityIV\": 15.8}, {\"country\": \"Congo Brazzaville\", \"region\": \"Africa\", \"gdppcap08\": 3946, \"polityIV\": 6.0}, {\"country\": \"Congo Kinshasa\", \"region\": \"Africa\", \"gdppcap08\": 321, \"polityIV\": 15.0}, {\"country\": \"Costa Rica\", \"region\": \"S. America\", \"gdppcap08\": 11241, \"polityIV\": 20.0}, {\"country\": \"Croatia\", \"region\": \"C&E Europe\", \"gdppcap08\": 19084, \"polityIV\": 18.4}, {\"country\": \"Cuba\", \"region\": \"S. America\", \"gdppcap08\": 9500, \"polityIV\": 3.0}, {\"country\": \"Czech Republic\", \"region\": \"C&E Europe\", \"gdppcap08\": 24712, \"polityIV\": 20.0}, {\"country\": \"Denmark\", \"region\": \"Scandinavia\", \"gdppcap08\": 36607, \"polityIV\": 20.0}, {\"country\": \"Djibouti\", \"region\": \"Africa\", \"gdppcap08\": 2140, \"polityIV\": 12.0}, {\"country\": \"Ecuador\", \"region\": \"S. America\", \"gdppcap08\": 8009, \"polityIV\": 16.2}, {\"country\": \"Egypt\", \"region\": \"Middle East\", \"gdppcap08\": 5416, \"polityIV\": 4.0}, {\"country\": \"El Salvador\", \"region\": \"S. America\", \"gdppcap08\": 6794, \"polityIV\": 17.0}, {\"country\": \"Equatorial Guinea\", \"region\": \"Africa\", \"gdppcap08\": 33873, \"polityIV\": 5.0}, {\"country\": \"Eritrea\", \"region\": \"Africa\", \"gdppcap08\": 632, \"polityIV\": 3.0}, {\"country\": \"Estonia\", \"region\": \"C&E Europe\", \"gdppcap08\": 20662, \"polityIV\": 16.0}, {\"country\": \"Fiji\", \"region\": \"Asia-Pacific\", \"gdppcap08\": 4382, \"polityIV\": 13.8}, {\"country\": \"Finland\", \"region\": \"Scandinavia\", \"gdppcap08\": 35427, \"polityIV\": 20.0}, {\"country\": \"France\", \"region\": \"W. Europe\", \"gdppcap08\": 34045, \"polityIV\": 19.0}, {\"country\": \"Gabon\", \"region\": \"Africa\", \"gdppcap08\": 14527, \"polityIV\": 6.0}, {\"country\": \"Gambia\", \"region\": \"Africa\", \"gdppcap08\": 1363, \"polityIV\": 5.0}, {\"country\": \"Georgia\", \"region\": \"C&E Europe\", \"gdppcap08\": 4896, \"polityIV\": 15.666667}, {\"country\": \"Germany\", \"region\": \"W. Europe\", \"gdppcap08\": 35613, \"polityIV\": 20.0}, {\"country\": \"Ghana\", \"region\": \"Africa\", \"gdppcap08\": 1452, \"polityIV\": 16.666667}, {\"country\": \"Greece\", \"region\": \"W. Europe\", \"gdppcap08\": 29361, \"polityIV\": 20.0}, {\"country\": \"Guatemala\", \"region\": \"S. America\", \"gdppcap08\": 4760, \"polityIV\": 18.0}, {\"country\": \"Guinea\", \"region\": \"Africa\", \"gdppcap08\": 1204, \"polityIV\": 9.0}, {\"country\": \"Guinea-Bissau\", \"region\": \"Africa\", \"gdppcap08\": 538, \"polityIV\": 11.0}, {\"country\": \"Guyana\", \"region\": \"S. America\", \"gdppcap08\": 2542, \"polityIV\": 16.0}, {\"country\": \"Haiti\", \"region\": \"S. America\", \"gdppcap08\": 1177, \"polityIV\": 8.0}, {\"country\": \"Honduras\", \"region\": \"S. America\", \"gdppcap08\": 3965, \"polityIV\": 17.0}, {\"country\": \"Hungary\", \"region\": \"C&E Europe\", \"gdppcap08\": 19330, \"polityIV\": 20.0}, {\"country\": \"India\", \"region\": \"Asia-Pacific\", \"gdppcap08\": 2972, \"polityIV\": 19.0}, {\"country\": \"Indonesia\", \"region\": \"Asia-Pacific\", \"gdppcap08\": 3975, \"polityIV\": 16.666667}, {\"country\": \"Iran\", \"region\": \"Middle East\", \"gdppcap08\": 11666, \"polityIV\": 10.0}, {\"country\": \"Iraq\", \"region\": \"Middle East\", \"gdppcap08\": 3570, \"polityIV\": 1.0}, {\"country\": \"Ireland\", \"region\": \"W. Europe\", \"gdppcap08\": 44200, \"polityIV\": 20.0}, {\"country\": \"Israel\", \"region\": \"Middle East\", \"gdppcap08\": 27548, \"polityIV\": 20.0}, {\"country\": \"Italy\", \"region\": \"W. Europe\", \"gdppcap08\": 30756, \"polityIV\": 20.0}, {\"country\": \"Jamaica\", \"region\": \"S. America\", \"gdppcap08\": 7705, \"polityIV\": 19.0}, {\"country\": \"Japan\", \"region\": \"Asia-Pacific\", \"gdppcap08\": 34099, \"polityIV\": 20.0}, {\"country\": \"Jordan\", \"region\": \"Middle East\", \"gdppcap08\": 5283, \"polityIV\": 8.0}, {\"country\": \"Kazakhstan\", \"region\": \"C&E Europe\", \"gdppcap08\": 11315, \"polityIV\": 4.0}, {\"country\": \"Kenya\", \"region\": \"Africa\", \"gdppcap08\": 1590, \"polityIV\": 18.0}, {\"country\": \"Korea South\", \"region\": \"Asia-Pacific\", \"gdppcap08\": 27939, \"polityIV\": 18.0}, {\"country\": \"Kuwait\", \"region\": \"Middle East\", \"gdppcap08\": 39914, \"polityIV\": 3.0}, {\"country\": \"Kyrgyzstan\", \"region\": \"C&E Europe\", \"gdppcap08\": 2188, \"polityIV\": 7.0}, {\"country\": \"Laos\", \"region\": \"Asia-Pacific\", \"gdppcap08\": 2134, \"polityIV\": 3.0}, {\"country\": \"Latvia\", \"region\": \"C&E Europe\", \"gdppcap08\": 17100, \"polityIV\": 18.0}, {\"country\": \"Lesotho\", \"region\": \"Africa\", \"gdppcap08\": 1588, \"polityIV\": 18.0}, {\"country\": \"Liberia\", \"region\": \"Africa\", \"gdppcap08\": 388, \"polityIV\": 10.0}, {\"country\": \"Libya\", \"region\": \"Middle East\", \"gdppcap08\": 15402, \"polityIV\": 3.0}, {\"country\": \"Lithuania\", \"region\": \"C&E Europe\", \"gdppcap08\": 18824, \"polityIV\": 20.0}, {\"country\": \"Macedonia\", \"region\": \"C&E Europe\", \"gdppcap08\": 10041, \"polityIV\": 19.0}, {\"country\": \"Madagascar\", \"region\": \"Africa\", \"gdppcap08\": 1049, \"polityIV\": 17.0}, {\"country\": \"Malawi\", \"region\": \"Africa\", \"gdppcap08\": 837, \"polityIV\": 15.0}, {\"country\": \"Malaysia\", \"region\": \"Asia-Pacific\", \"gdppcap08\": 14215, \"polityIV\": 13.0}, {\"country\": \"Mali\", \"region\": \"Africa\", \"gdppcap08\": 1128, \"polityIV\": 16.0}, {\"country\": \"Mauritania\", \"region\": \"Africa\", \"gdppcap08\": 2052, \"polityIV\": 4.0}, {\"country\": \"Mauritius\", \"region\": \"Africa\", \"gdppcap08\": 12079, \"polityIV\": 20.0}, {\"country\": \"Mexico\", \"region\": \"N. America\", \"gdppcap08\": 14495, \"polityIV\": 18.0}, {\"country\": \"Moldova\", \"region\": \"C&E Europe\", \"gdppcap08\": 2925, \"polityIV\": 18.0}, {\"country\": \"Mongolia\", \"region\": \"Asia-Pacific\", \"gdppcap08\": 3566, \"polityIV\": 20.0}, {\"country\": \"Morocco\", \"region\": \"Middle East\", \"gdppcap08\": 4388, \"polityIV\": 4.0}, {\"country\": \"Mozambique\", \"region\": \"Africa\", \"gdppcap08\": 855, \"polityIV\": 16.0}, {\"country\": \"Namibia\", \"region\": \"Africa\", \"gdppcap08\": 6343, \"polityIV\": 16.0}, {\"country\": \"Nepal\", \"region\": \"Asia-Pacific\", \"gdppcap08\": 1112, \"polityIV\": 4.0}, {\"country\": \"Netherlands\", \"region\": \"W. Europe\", \"gdppcap08\": 40849, \"polityIV\": 20.0}, {\"country\": \"New Zealand\", \"region\": \"Asia-Pacific\", \"gdppcap08\": 27029, \"polityIV\": 20.0}, {\"country\": \"Nicaragua\", \"region\": \"S. America\", \"gdppcap08\": 2682, \"polityIV\": 18.0}, {\"country\": \"Niger\", \"region\": \"Africa\", \"gdppcap08\": 684, \"polityIV\": 15.333333}, {\"country\": \"Nigeria\", \"region\": \"Africa\", \"gdppcap08\": 2082, \"polityIV\": 14.0}, {\"country\": \"Norway\", \"region\": \"Scandinavia\", \"gdppcap08\": 58138, \"polityIV\": 20.0}, {\"country\": \"Oman\", \"region\": \"Middle East\", \"gdppcap08\": 22478, \"polityIV\": 2.0}, {\"country\": \"Pakistan\", \"region\": \"Asia-Pacific\", \"gdppcap08\": 2644, \"polityIV\": 5.0}, {\"country\": \"Papua New Guinea\", \"region\": \"Asia-Pacific\", \"gdppcap08\": 2208, \"polityIV\": 20.0}, {\"country\": \"Paraguay\", \"region\": \"S. America\", \"gdppcap08\": 4709, \"polityIV\": 17.666667}, {\"country\": \"Peru\", \"region\": \"S. America\", \"gdppcap08\": 8507, \"polityIV\": 19.0}, {\"country\": \"Philippines\", \"region\": \"Asia-Pacific\", \"gdppcap08\": 3510, \"polityIV\": 18.0}, {\"country\": \"Poland\", \"region\": \"C&E Europe\", \"gdppcap08\": 17625, \"polityIV\": 20.0}, {\"country\": \"Portugal\", \"region\": \"W. Europe\", \"gdppcap08\": 23074, \"polityIV\": 20.0}, {\"country\": \"Qatar\", \"region\": \"Middle East\", \"gdppcap08\": 85868, \"polityIV\": 0.0}, {\"country\": \"Romania\", \"region\": \"C&E Europe\", \"gdppcap08\": 14065, \"polityIV\": 18.333333}, {\"country\": \"Russia\", \"region\": \"C&E Europe\", \"gdppcap08\": 16139, \"polityIV\": 17.0}, {\"country\": \"Rwanda\", \"region\": \"Africa\", \"gdppcap08\": 1022, \"polityIV\": 6.6666667}, {\"country\": \"Saudi Arabia\", \"region\": \"Middle East\", \"gdppcap08\": 23920, \"polityIV\": 0.0}, {\"country\": \"Senegal\", \"region\": \"Africa\", \"gdppcap08\": 1772, \"polityIV\": 18.0}, {\"country\": \"Sierra Leone\", \"region\": \"Africa\", \"gdppcap08\": 766, \"polityIV\": 15.0}, {\"country\": \"Singapore\", \"region\": \"Asia-Pacific\", \"gdppcap08\": 49284, \"polityIV\": 8.0}, {\"country\": \"Slovakia\", \"region\": \"C&E Europe\", \"gdppcap08\": 22081, \"polityIV\": 19.0}, {\"country\": \"Slovenia\", \"region\": \"C&E Europe\", \"gdppcap08\": 27605, \"polityIV\": 20.0}, {\"country\": \"Solomon Islands\", \"region\": \"Asia-Pacific\", \"gdppcap08\": 2610, \"polityIV\": 18.0}, {\"country\": \"South Africa\", \"region\": \"Africa\", \"gdppcap08\": 10109, \"polityIV\": 19.0}, {\"country\": \"Spain\", \"region\": \"W. Europe\", \"gdppcap08\": 31954, \"polityIV\": 20.0}, {\"country\": \"Sri Lanka\", \"region\": \"Asia-Pacific\", \"gdppcap08\": 4560, \"polityIV\": 15.333333}, {\"country\": \"Sudan\", \"region\": \"Africa\", \"gdppcap08\": 2153, \"polityIV\": 4.0}, {\"country\": \"Swaziland\", \"region\": \"Africa\", \"gdppcap08\": 4928, \"polityIV\": 1.0}, {\"country\": \"Sweden\", \"region\": \"Scandinavia\", \"gdppcap08\": 37383, \"polityIV\": 20.0}, {\"country\": \"Switzerland\", \"region\": \"W. Europe\", \"gdppcap08\": 42536, \"polityIV\": 20.0}, {\"country\": \"Taiwan\", \"region\": \"Asia-Pacific\", \"gdppcap08\": 30881, \"polityIV\": 19.333333}, {\"country\": \"Tajikistan\", \"region\": \"C&E Europe\", \"gdppcap08\": 1906, \"polityIV\": 7.6666667}, {\"country\": \"Tanzania\", \"region\": \"Africa\", \"gdppcap08\": 1263, \"polityIV\": 11.0}, {\"country\": \"Thailand\", \"region\": \"Asia-Pacific\", \"gdppcap08\": 7703, \"polityIV\": 19.0}, {\"country\": \"Togo\", \"region\": \"Africa\", \"gdppcap08\": 829, \"polityIV\": 8.0}, {\"country\": \"Tunisia\", \"region\": \"Middle East\", \"gdppcap08\": 7996, \"polityIV\": 6.0}, {\"country\": \"Turkey\", \"region\": \"Middle East\", \"gdppcap08\": 13920, \"polityIV\": 17.0}, {\"country\": \"Turkmenistan\", \"region\": \"C&E Europe\", \"gdppcap08\": 6641, \"polityIV\": 1.0}, {\"country\": \"UAE\", \"region\": \"Middle East\", \"gdppcap08\": 38830, \"polityIV\": 2.0}, {\"country\": \"Uganda\", \"region\": \"Africa\", \"gdppcap08\": 1165, \"polityIV\": 6.0}, {\"country\": \"Ukraine\", \"region\": \"C&E Europe\", \"gdppcap08\": 7271, \"polityIV\": 16.0}, {\"country\": \"United Kingdom\", \"region\": \"W. Europe\", \"gdppcap08\": 35445, \"polityIV\": 20.0}, {\"country\": \"United States\", \"region\": \"N. America\", \"gdppcap08\": 46716, \"polityIV\": 20.0}, {\"country\": \"Uruguay\", \"region\": \"S. America\", \"gdppcap08\": 12734, \"polityIV\": 20.0}, {\"country\": \"Uzbekistan\", \"region\": \"C&E Europe\", \"gdppcap08\": 2656, \"polityIV\": 1.0}, {\"country\": \"Venezuela\", \"region\": \"S. America\", \"gdppcap08\": 12804, \"polityIV\": 16.0}, {\"country\": \"Vietnam\", \"region\": \"Asia-Pacific\", \"gdppcap08\": 2785, \"polityIV\": 3.0}, {\"country\": \"Yemen\", \"region\": \"Middle East\", \"gdppcap08\": 2400, \"polityIV\": 8.0}, {\"country\": \"Zambia\", \"region\": \"Africa\", \"gdppcap08\": 1356, \"polityIV\": 15.0}, {\"country\": \"Zimbabwe\", \"region\": \"Africa\", \"gdppcap08\": 188, \"polityIV\": 6.0}]}}, {\"mode\": \"vega-lite\"});\n",
       "</script>"
      ],
      "text/plain": [
       "alt.Chart(...)"
      ]
     },
     "metadata": {},
     "execution_count": 148
    }
   ],
   "metadata": {}
  },
  {
   "cell_type": "markdown",
   "source": [
    "---\n",
    "### Exercise 4\n",
    "Now overlay the linear model you just estimated."
   ],
   "metadata": {}
  },
  {
   "cell_type": "code",
   "execution_count": 149,
   "source": [
    "base = (\n",
    "    alt.Chart(wdi, title=\"Relationship between GDP per capita and the Polity IV Score\")\n",
    "    .mark_point()\n",
    "    .encode(\n",
    "        x=alt.X(\"gdppcap08\", title=\"GDP per Capita\", scale=alt.Scale(zero=False)),\n",
    "        y=alt.Y(\"polityIV\", title=\"Polity IV Democracy Score\", scale=alt.Scale(zero=False)),\n",
    "    )\n",
    ")\n",
    "fit0 = base.transform_regression(\n",
    "        \"gdppcap08\", \"polityIV\"\n",
    "    ).mark_line()\n",
    "\n",
    "text = (alt.Chart(wdi)\n",
    "    .encode(\n",
    "        x=alt.X(\"gdppcap08\", scale=alt.Scale(zero=False)),\n",
    "        y=\"polityIV\",\n",
    "    )\n",
    "    .mark_text(size=5))\n",
    "\n",
    "base + fit0 + text"
   ],
   "outputs": [
    {
     "output_type": "execute_result",
     "data": {
      "text/html": [
       "\n",
       "<div id=\"altair-viz-7b2fb6b96044484e92ef3c31e945ec98\"></div>\n",
       "<script type=\"text/javascript\">\n",
       "  (function(spec, embedOpt){\n",
       "    let outputDiv = document.currentScript.previousElementSibling;\n",
       "    if (outputDiv.id !== \"altair-viz-7b2fb6b96044484e92ef3c31e945ec98\") {\n",
       "      outputDiv = document.getElementById(\"altair-viz-7b2fb6b96044484e92ef3c31e945ec98\");\n",
       "    }\n",
       "    const paths = {\n",
       "      \"vega\": \"https://cdn.jsdelivr.net/npm//vega@5?noext\",\n",
       "      \"vega-lib\": \"https://cdn.jsdelivr.net/npm//vega-lib?noext\",\n",
       "      \"vega-lite\": \"https://cdn.jsdelivr.net/npm//vega-lite@4.8.1?noext\",\n",
       "      \"vega-embed\": \"https://cdn.jsdelivr.net/npm//vega-embed@6?noext\",\n",
       "    };\n",
       "\n",
       "    function loadScript(lib) {\n",
       "      return new Promise(function(resolve, reject) {\n",
       "        var s = document.createElement('script');\n",
       "        s.src = paths[lib];\n",
       "        s.async = true;\n",
       "        s.onload = () => resolve(paths[lib]);\n",
       "        s.onerror = () => reject(`Error loading script: ${paths[lib]}`);\n",
       "        document.getElementsByTagName(\"head\")[0].appendChild(s);\n",
       "      });\n",
       "    }\n",
       "\n",
       "    function showError(err) {\n",
       "      outputDiv.innerHTML = `<div class=\"error\" style=\"color:red;\">${err}</div>`;\n",
       "      throw err;\n",
       "    }\n",
       "\n",
       "    function displayChart(vegaEmbed) {\n",
       "      vegaEmbed(outputDiv, spec, embedOpt)\n",
       "        .catch(err => showError(`Javascript Error: ${err.message}<br>This usually means there's a typo in your chart specification. See the javascript console for the full traceback.`));\n",
       "    }\n",
       "\n",
       "    if(typeof define === \"function\" && define.amd) {\n",
       "      requirejs.config({paths});\n",
       "      require([\"vega-embed\"], displayChart, err => showError(`Error loading script: ${err.message}`));\n",
       "    } else if (typeof vegaEmbed === \"function\") {\n",
       "      displayChart(vegaEmbed);\n",
       "    } else {\n",
       "      loadScript(\"vega\")\n",
       "        .then(() => loadScript(\"vega-lite\"))\n",
       "        .then(() => loadScript(\"vega-embed\"))\n",
       "        .catch(showError)\n",
       "        .then(() => displayChart(vegaEmbed));\n",
       "    }\n",
       "  })({\"config\": {\"view\": {\"continuousWidth\": 400, \"continuousHeight\": 300}}, \"layer\": [{\"mark\": \"point\", \"encoding\": {\"x\": {\"type\": \"quantitative\", \"field\": \"gdppcap08\", \"scale\": {\"zero\": false}, \"title\": \"GDP per Capita\"}, \"y\": {\"type\": \"quantitative\", \"field\": \"polityIV\", \"scale\": {\"zero\": false}, \"title\": \"Polity IV Democracy Score\"}}, \"title\": \"Relationship between GDP per capita and the Polity IV Score\"}, {\"mark\": \"line\", \"encoding\": {\"x\": {\"type\": \"quantitative\", \"field\": \"gdppcap08\", \"scale\": {\"zero\": false}, \"title\": \"GDP per Capita\"}, \"y\": {\"type\": \"quantitative\", \"field\": \"polityIV\", \"scale\": {\"zero\": false}, \"title\": \"Polity IV Democracy Score\"}}, \"title\": \"Relationship between GDP per capita and the Polity IV Score\", \"transform\": [{\"on\": \"gdppcap08\", \"regression\": \"polityIV\"}]}, {\"mark\": {\"type\": \"text\", \"size\": 5}, \"encoding\": {\"x\": {\"type\": \"quantitative\", \"field\": \"gdppcap08\", \"scale\": {\"zero\": false}}, \"y\": {\"type\": \"quantitative\", \"field\": \"polityIV\"}}}], \"data\": {\"name\": \"data-50afffcb03ca16fbefb225cc29275795\"}, \"$schema\": \"https://vega.github.io/schema/vega-lite/v4.8.1.json\", \"datasets\": {\"data-50afffcb03ca16fbefb225cc29275795\": [{\"country\": \"Albania\", \"region\": \"C&E Europe\", \"gdppcap08\": 7715, \"polityIV\": 17.8}, {\"country\": \"Algeria\", \"region\": \"Africa\", \"gdppcap08\": 8033, \"polityIV\": 10.0}, {\"country\": \"Angola\", \"region\": \"Africa\", \"gdppcap08\": 5899, \"polityIV\": 8.0}, {\"country\": \"Argentina\", \"region\": \"S. America\", \"gdppcap08\": 14333, \"polityIV\": 18.0}, {\"country\": \"Armenia\", \"region\": \"C&E Europe\", \"gdppcap08\": 6070, \"polityIV\": 15.0}, {\"country\": \"Australia\", \"region\": \"Asia-Pacific\", \"gdppcap08\": 35677, \"polityIV\": 20.0}, {\"country\": \"Austria\", \"region\": \"W. Europe\", \"gdppcap08\": 38152, \"polityIV\": 20.0}, {\"country\": \"Azerbaijan\", \"region\": \"C&E Europe\", \"gdppcap08\": 8765, \"polityIV\": 3.0}, {\"country\": \"Bahrain\", \"region\": \"Middle East\", \"gdppcap08\": 34605, \"polityIV\": 3.0}, {\"country\": \"Bangladesh\", \"region\": \"Asia-Pacific\", \"gdppcap08\": 1334, \"polityIV\": 16.0}, {\"country\": \"Belarus\", \"region\": \"C&E Europe\", \"gdppcap08\": 12261, \"polityIV\": 3.0}, {\"country\": \"Belgium\", \"region\": \"W. Europe\", \"gdppcap08\": 34493, \"polityIV\": 20.0}, {\"country\": \"Benin\", \"region\": \"Africa\", \"gdppcap08\": 1468, \"polityIV\": 16.2}, {\"country\": \"Bhutan\", \"region\": \"Asia-Pacific\", \"gdppcap08\": 4755, \"polityIV\": 2.0}, {\"country\": \"Bolivia\", \"region\": \"S. America\", \"gdppcap08\": 4278, \"polityIV\": 18.2}, {\"country\": \"Botswana\", \"region\": \"Africa\", \"gdppcap08\": 13392, \"polityIV\": 19.0}, {\"country\": \"Brazil\", \"region\": \"S. America\", \"gdppcap08\": 10296, \"polityIV\": 18.0}, {\"country\": \"Bulgaria\", \"region\": \"C&E Europe\", \"gdppcap08\": 12393, \"polityIV\": 19.0}, {\"country\": \"Burkina Faso\", \"region\": \"Africa\", \"gdppcap08\": 1161, \"polityIV\": 10.0}, {\"country\": \"Cambodia\", \"region\": \"Asia-Pacific\", \"gdppcap08\": 1905, \"polityIV\": 12.0}, {\"country\": \"Cameroon\", \"region\": \"Africa\", \"gdppcap08\": 2215, \"polityIV\": 6.0}, {\"country\": \"Canada\", \"region\": \"N. America\", \"gdppcap08\": 36444, \"polityIV\": 20.0}, {\"country\": \"Central African Republic\", \"region\": \"Africa\", \"gdppcap08\": 736, \"polityIV\": 10.2}, {\"country\": \"Chad\", \"region\": \"Africa\", \"gdppcap08\": 1455, \"polityIV\": 8.0}, {\"country\": \"Chile\", \"region\": \"S. America\", \"gdppcap08\": 14465, \"polityIV\": 19.2}, {\"country\": \"China\", \"region\": \"Asia-Pacific\", \"gdppcap08\": 5962, \"polityIV\": 3.0}, {\"country\": \"Colombia\", \"region\": \"S. America\", \"gdppcap08\": 8885, \"polityIV\": 17.0}, {\"country\": \"Comoros\", \"region\": \"Africa\", \"gdppcap08\": 1169, \"polityIV\": 15.8}, {\"country\": \"Congo Brazzaville\", \"region\": \"Africa\", \"gdppcap08\": 3946, \"polityIV\": 6.0}, {\"country\": \"Congo Kinshasa\", \"region\": \"Africa\", \"gdppcap08\": 321, \"polityIV\": 15.0}, {\"country\": \"Costa Rica\", \"region\": \"S. America\", \"gdppcap08\": 11241, \"polityIV\": 20.0}, {\"country\": \"Croatia\", \"region\": \"C&E Europe\", \"gdppcap08\": 19084, \"polityIV\": 18.4}, {\"country\": \"Cuba\", \"region\": \"S. America\", \"gdppcap08\": 9500, \"polityIV\": 3.0}, {\"country\": \"Czech Republic\", \"region\": \"C&E Europe\", \"gdppcap08\": 24712, \"polityIV\": 20.0}, {\"country\": \"Denmark\", \"region\": \"Scandinavia\", \"gdppcap08\": 36607, \"polityIV\": 20.0}, {\"country\": \"Djibouti\", \"region\": \"Africa\", \"gdppcap08\": 2140, \"polityIV\": 12.0}, {\"country\": \"Ecuador\", \"region\": \"S. America\", \"gdppcap08\": 8009, \"polityIV\": 16.2}, {\"country\": \"Egypt\", \"region\": \"Middle East\", \"gdppcap08\": 5416, \"polityIV\": 4.0}, {\"country\": \"El Salvador\", \"region\": \"S. America\", \"gdppcap08\": 6794, \"polityIV\": 17.0}, {\"country\": \"Equatorial Guinea\", \"region\": \"Africa\", \"gdppcap08\": 33873, \"polityIV\": 5.0}, {\"country\": \"Eritrea\", \"region\": \"Africa\", \"gdppcap08\": 632, \"polityIV\": 3.0}, {\"country\": \"Estonia\", \"region\": \"C&E Europe\", \"gdppcap08\": 20662, \"polityIV\": 16.0}, {\"country\": \"Fiji\", \"region\": \"Asia-Pacific\", \"gdppcap08\": 4382, \"polityIV\": 13.8}, {\"country\": \"Finland\", \"region\": \"Scandinavia\", \"gdppcap08\": 35427, \"polityIV\": 20.0}, {\"country\": \"France\", \"region\": \"W. Europe\", \"gdppcap08\": 34045, \"polityIV\": 19.0}, {\"country\": \"Gabon\", \"region\": \"Africa\", \"gdppcap08\": 14527, \"polityIV\": 6.0}, {\"country\": \"Gambia\", \"region\": \"Africa\", \"gdppcap08\": 1363, \"polityIV\": 5.0}, {\"country\": \"Georgia\", \"region\": \"C&E Europe\", \"gdppcap08\": 4896, \"polityIV\": 15.666667}, {\"country\": \"Germany\", \"region\": \"W. Europe\", \"gdppcap08\": 35613, \"polityIV\": 20.0}, {\"country\": \"Ghana\", \"region\": \"Africa\", \"gdppcap08\": 1452, \"polityIV\": 16.666667}, {\"country\": \"Greece\", \"region\": \"W. Europe\", \"gdppcap08\": 29361, \"polityIV\": 20.0}, {\"country\": \"Guatemala\", \"region\": \"S. America\", \"gdppcap08\": 4760, \"polityIV\": 18.0}, {\"country\": \"Guinea\", \"region\": \"Africa\", \"gdppcap08\": 1204, \"polityIV\": 9.0}, {\"country\": \"Guinea-Bissau\", \"region\": \"Africa\", \"gdppcap08\": 538, \"polityIV\": 11.0}, {\"country\": \"Guyana\", \"region\": \"S. America\", \"gdppcap08\": 2542, \"polityIV\": 16.0}, {\"country\": \"Haiti\", \"region\": \"S. America\", \"gdppcap08\": 1177, \"polityIV\": 8.0}, {\"country\": \"Honduras\", \"region\": \"S. America\", \"gdppcap08\": 3965, \"polityIV\": 17.0}, {\"country\": \"Hungary\", \"region\": \"C&E Europe\", \"gdppcap08\": 19330, \"polityIV\": 20.0}, {\"country\": \"India\", \"region\": \"Asia-Pacific\", \"gdppcap08\": 2972, \"polityIV\": 19.0}, {\"country\": \"Indonesia\", \"region\": \"Asia-Pacific\", \"gdppcap08\": 3975, \"polityIV\": 16.666667}, {\"country\": \"Iran\", \"region\": \"Middle East\", \"gdppcap08\": 11666, \"polityIV\": 10.0}, {\"country\": \"Iraq\", \"region\": \"Middle East\", \"gdppcap08\": 3570, \"polityIV\": 1.0}, {\"country\": \"Ireland\", \"region\": \"W. Europe\", \"gdppcap08\": 44200, \"polityIV\": 20.0}, {\"country\": \"Israel\", \"region\": \"Middle East\", \"gdppcap08\": 27548, \"polityIV\": 20.0}, {\"country\": \"Italy\", \"region\": \"W. Europe\", \"gdppcap08\": 30756, \"polityIV\": 20.0}, {\"country\": \"Jamaica\", \"region\": \"S. America\", \"gdppcap08\": 7705, \"polityIV\": 19.0}, {\"country\": \"Japan\", \"region\": \"Asia-Pacific\", \"gdppcap08\": 34099, \"polityIV\": 20.0}, {\"country\": \"Jordan\", \"region\": \"Middle East\", \"gdppcap08\": 5283, \"polityIV\": 8.0}, {\"country\": \"Kazakhstan\", \"region\": \"C&E Europe\", \"gdppcap08\": 11315, \"polityIV\": 4.0}, {\"country\": \"Kenya\", \"region\": \"Africa\", \"gdppcap08\": 1590, \"polityIV\": 18.0}, {\"country\": \"Korea South\", \"region\": \"Asia-Pacific\", \"gdppcap08\": 27939, \"polityIV\": 18.0}, {\"country\": \"Kuwait\", \"region\": \"Middle East\", \"gdppcap08\": 39914, \"polityIV\": 3.0}, {\"country\": \"Kyrgyzstan\", \"region\": \"C&E Europe\", \"gdppcap08\": 2188, \"polityIV\": 7.0}, {\"country\": \"Laos\", \"region\": \"Asia-Pacific\", \"gdppcap08\": 2134, \"polityIV\": 3.0}, {\"country\": \"Latvia\", \"region\": \"C&E Europe\", \"gdppcap08\": 17100, \"polityIV\": 18.0}, {\"country\": \"Lesotho\", \"region\": \"Africa\", \"gdppcap08\": 1588, \"polityIV\": 18.0}, {\"country\": \"Liberia\", \"region\": \"Africa\", \"gdppcap08\": 388, \"polityIV\": 10.0}, {\"country\": \"Libya\", \"region\": \"Middle East\", \"gdppcap08\": 15402, \"polityIV\": 3.0}, {\"country\": \"Lithuania\", \"region\": \"C&E Europe\", \"gdppcap08\": 18824, \"polityIV\": 20.0}, {\"country\": \"Macedonia\", \"region\": \"C&E Europe\", \"gdppcap08\": 10041, \"polityIV\": 19.0}, {\"country\": \"Madagascar\", \"region\": \"Africa\", \"gdppcap08\": 1049, \"polityIV\": 17.0}, {\"country\": \"Malawi\", \"region\": \"Africa\", \"gdppcap08\": 837, \"polityIV\": 15.0}, {\"country\": \"Malaysia\", \"region\": \"Asia-Pacific\", \"gdppcap08\": 14215, \"polityIV\": 13.0}, {\"country\": \"Mali\", \"region\": \"Africa\", \"gdppcap08\": 1128, \"polityIV\": 16.0}, {\"country\": \"Mauritania\", \"region\": \"Africa\", \"gdppcap08\": 2052, \"polityIV\": 4.0}, {\"country\": \"Mauritius\", \"region\": \"Africa\", \"gdppcap08\": 12079, \"polityIV\": 20.0}, {\"country\": \"Mexico\", \"region\": \"N. America\", \"gdppcap08\": 14495, \"polityIV\": 18.0}, {\"country\": \"Moldova\", \"region\": \"C&E Europe\", \"gdppcap08\": 2925, \"polityIV\": 18.0}, {\"country\": \"Mongolia\", \"region\": \"Asia-Pacific\", \"gdppcap08\": 3566, \"polityIV\": 20.0}, {\"country\": \"Morocco\", \"region\": \"Middle East\", \"gdppcap08\": 4388, \"polityIV\": 4.0}, {\"country\": \"Mozambique\", \"region\": \"Africa\", \"gdppcap08\": 855, \"polityIV\": 16.0}, {\"country\": \"Namibia\", \"region\": \"Africa\", \"gdppcap08\": 6343, \"polityIV\": 16.0}, {\"country\": \"Nepal\", \"region\": \"Asia-Pacific\", \"gdppcap08\": 1112, \"polityIV\": 4.0}, {\"country\": \"Netherlands\", \"region\": \"W. Europe\", \"gdppcap08\": 40849, \"polityIV\": 20.0}, {\"country\": \"New Zealand\", \"region\": \"Asia-Pacific\", \"gdppcap08\": 27029, \"polityIV\": 20.0}, {\"country\": \"Nicaragua\", \"region\": \"S. America\", \"gdppcap08\": 2682, \"polityIV\": 18.0}, {\"country\": \"Niger\", \"region\": \"Africa\", \"gdppcap08\": 684, \"polityIV\": 15.333333}, {\"country\": \"Nigeria\", \"region\": \"Africa\", \"gdppcap08\": 2082, \"polityIV\": 14.0}, {\"country\": \"Norway\", \"region\": \"Scandinavia\", \"gdppcap08\": 58138, \"polityIV\": 20.0}, {\"country\": \"Oman\", \"region\": \"Middle East\", \"gdppcap08\": 22478, \"polityIV\": 2.0}, {\"country\": \"Pakistan\", \"region\": \"Asia-Pacific\", \"gdppcap08\": 2644, \"polityIV\": 5.0}, {\"country\": \"Papua New Guinea\", \"region\": \"Asia-Pacific\", \"gdppcap08\": 2208, \"polityIV\": 20.0}, {\"country\": \"Paraguay\", \"region\": \"S. America\", \"gdppcap08\": 4709, \"polityIV\": 17.666667}, {\"country\": \"Peru\", \"region\": \"S. America\", \"gdppcap08\": 8507, \"polityIV\": 19.0}, {\"country\": \"Philippines\", \"region\": \"Asia-Pacific\", \"gdppcap08\": 3510, \"polityIV\": 18.0}, {\"country\": \"Poland\", \"region\": \"C&E Europe\", \"gdppcap08\": 17625, \"polityIV\": 20.0}, {\"country\": \"Portugal\", \"region\": \"W. Europe\", \"gdppcap08\": 23074, \"polityIV\": 20.0}, {\"country\": \"Qatar\", \"region\": \"Middle East\", \"gdppcap08\": 85868, \"polityIV\": 0.0}, {\"country\": \"Romania\", \"region\": \"C&E Europe\", \"gdppcap08\": 14065, \"polityIV\": 18.333333}, {\"country\": \"Russia\", \"region\": \"C&E Europe\", \"gdppcap08\": 16139, \"polityIV\": 17.0}, {\"country\": \"Rwanda\", \"region\": \"Africa\", \"gdppcap08\": 1022, \"polityIV\": 6.6666667}, {\"country\": \"Saudi Arabia\", \"region\": \"Middle East\", \"gdppcap08\": 23920, \"polityIV\": 0.0}, {\"country\": \"Senegal\", \"region\": \"Africa\", \"gdppcap08\": 1772, \"polityIV\": 18.0}, {\"country\": \"Sierra Leone\", \"region\": \"Africa\", \"gdppcap08\": 766, \"polityIV\": 15.0}, {\"country\": \"Singapore\", \"region\": \"Asia-Pacific\", \"gdppcap08\": 49284, \"polityIV\": 8.0}, {\"country\": \"Slovakia\", \"region\": \"C&E Europe\", \"gdppcap08\": 22081, \"polityIV\": 19.0}, {\"country\": \"Slovenia\", \"region\": \"C&E Europe\", \"gdppcap08\": 27605, \"polityIV\": 20.0}, {\"country\": \"Solomon Islands\", \"region\": \"Asia-Pacific\", \"gdppcap08\": 2610, \"polityIV\": 18.0}, {\"country\": \"South Africa\", \"region\": \"Africa\", \"gdppcap08\": 10109, \"polityIV\": 19.0}, {\"country\": \"Spain\", \"region\": \"W. Europe\", \"gdppcap08\": 31954, \"polityIV\": 20.0}, {\"country\": \"Sri Lanka\", \"region\": \"Asia-Pacific\", \"gdppcap08\": 4560, \"polityIV\": 15.333333}, {\"country\": \"Sudan\", \"region\": \"Africa\", \"gdppcap08\": 2153, \"polityIV\": 4.0}, {\"country\": \"Swaziland\", \"region\": \"Africa\", \"gdppcap08\": 4928, \"polityIV\": 1.0}, {\"country\": \"Sweden\", \"region\": \"Scandinavia\", \"gdppcap08\": 37383, \"polityIV\": 20.0}, {\"country\": \"Switzerland\", \"region\": \"W. Europe\", \"gdppcap08\": 42536, \"polityIV\": 20.0}, {\"country\": \"Taiwan\", \"region\": \"Asia-Pacific\", \"gdppcap08\": 30881, \"polityIV\": 19.333333}, {\"country\": \"Tajikistan\", \"region\": \"C&E Europe\", \"gdppcap08\": 1906, \"polityIV\": 7.6666667}, {\"country\": \"Tanzania\", \"region\": \"Africa\", \"gdppcap08\": 1263, \"polityIV\": 11.0}, {\"country\": \"Thailand\", \"region\": \"Asia-Pacific\", \"gdppcap08\": 7703, \"polityIV\": 19.0}, {\"country\": \"Togo\", \"region\": \"Africa\", \"gdppcap08\": 829, \"polityIV\": 8.0}, {\"country\": \"Tunisia\", \"region\": \"Middle East\", \"gdppcap08\": 7996, \"polityIV\": 6.0}, {\"country\": \"Turkey\", \"region\": \"Middle East\", \"gdppcap08\": 13920, \"polityIV\": 17.0}, {\"country\": \"Turkmenistan\", \"region\": \"C&E Europe\", \"gdppcap08\": 6641, \"polityIV\": 1.0}, {\"country\": \"UAE\", \"region\": \"Middle East\", \"gdppcap08\": 38830, \"polityIV\": 2.0}, {\"country\": \"Uganda\", \"region\": \"Africa\", \"gdppcap08\": 1165, \"polityIV\": 6.0}, {\"country\": \"Ukraine\", \"region\": \"C&E Europe\", \"gdppcap08\": 7271, \"polityIV\": 16.0}, {\"country\": \"United Kingdom\", \"region\": \"W. Europe\", \"gdppcap08\": 35445, \"polityIV\": 20.0}, {\"country\": \"United States\", \"region\": \"N. America\", \"gdppcap08\": 46716, \"polityIV\": 20.0}, {\"country\": \"Uruguay\", \"region\": \"S. America\", \"gdppcap08\": 12734, \"polityIV\": 20.0}, {\"country\": \"Uzbekistan\", \"region\": \"C&E Europe\", \"gdppcap08\": 2656, \"polityIV\": 1.0}, {\"country\": \"Venezuela\", \"region\": \"S. America\", \"gdppcap08\": 12804, \"polityIV\": 16.0}, {\"country\": \"Vietnam\", \"region\": \"Asia-Pacific\", \"gdppcap08\": 2785, \"polityIV\": 3.0}, {\"country\": \"Yemen\", \"region\": \"Middle East\", \"gdppcap08\": 2400, \"polityIV\": 8.0}, {\"country\": \"Zambia\", \"region\": \"Africa\", \"gdppcap08\": 1356, \"polityIV\": 15.0}, {\"country\": \"Zimbabwe\", \"region\": \"Africa\", \"gdppcap08\": 188, \"polityIV\": 6.0}]}}, {\"mode\": \"vega-lite\"});\n",
       "</script>"
      ],
      "text/plain": [
       "alt.LayerChart(...)"
      ]
     },
     "metadata": {},
     "execution_count": 149
    }
   ],
   "metadata": {}
  },
  {
   "cell_type": "markdown",
   "source": [
    "---\n",
    "### Exercise 5\n",
    "Does it seem like the linear model you estimated fits the data well?\n",
    "\n",
    "- No, the model does not fit our data well. The relationship is not linear."
   ],
   "metadata": {}
  },
  {
   "cell_type": "markdown",
   "source": [
    "---\n",
    "### Exercise 6\n",
    "Linear models impose a very strict functional form on the model they use: they try to draw a straight line through the data, no matter what.\n",
    "\n",
    "Can you think of a transform for your data that would make the data a little more sane?"
   ],
   "metadata": {}
  },
  {
   "cell_type": "code",
   "execution_count": 150,
   "source": [
    "print(\"We could try to fit a quadratic form:\")\n",
    "import numpy as np\n",
    "model = np.poly1d(np.polyfit(wdi[\"gdppcap08\"], wdi[\"polityIV\"], 2))\n",
    "\n",
    "base = (\n",
    "    alt.Chart(wdi, title=\"Relationship between GDP per capita and the Polity IV Score\")\n",
    "    .mark_point()\n",
    "    .encode(\n",
    "        x=alt.X(\"gdppcap08\", title=\"GDP per Capita\", scale=alt.Scale(zero=False)),\n",
    "        y=alt.Y(\"polityIV\", title=\"Polity IV Democracy Score\", scale=alt.Scale(zero=False)),\n",
    "    )\n",
    ")\n",
    "fit = base.transform_regression(\n",
    "        \"gdppcap08\", \"polityIV\", \n",
    "        method=\"quad\"\n",
    "    ).mark_line()\n",
    "\n",
    "text = (alt.Chart(wdi)\n",
    "    .encode(\n",
    "        x=alt.X(\"gdppcap08\", scale=alt.Scale(zero=False)),\n",
    "        y=\"polityIV\",\n",
    "    )\n",
    "    .mark_text(size=5))\n",
    "\n",
    "base + fit + text"
   ],
   "outputs": [
    {
     "output_type": "stream",
     "name": "stdout",
     "text": [
      "We could try to fit a quadratic form:\n"
     ]
    },
    {
     "output_type": "execute_result",
     "data": {
      "text/html": [
       "\n",
       "<div id=\"altair-viz-0157001eafbe40c196224a14c49b6df9\"></div>\n",
       "<script type=\"text/javascript\">\n",
       "  (function(spec, embedOpt){\n",
       "    let outputDiv = document.currentScript.previousElementSibling;\n",
       "    if (outputDiv.id !== \"altair-viz-0157001eafbe40c196224a14c49b6df9\") {\n",
       "      outputDiv = document.getElementById(\"altair-viz-0157001eafbe40c196224a14c49b6df9\");\n",
       "    }\n",
       "    const paths = {\n",
       "      \"vega\": \"https://cdn.jsdelivr.net/npm//vega@5?noext\",\n",
       "      \"vega-lib\": \"https://cdn.jsdelivr.net/npm//vega-lib?noext\",\n",
       "      \"vega-lite\": \"https://cdn.jsdelivr.net/npm//vega-lite@4.8.1?noext\",\n",
       "      \"vega-embed\": \"https://cdn.jsdelivr.net/npm//vega-embed@6?noext\",\n",
       "    };\n",
       "\n",
       "    function loadScript(lib) {\n",
       "      return new Promise(function(resolve, reject) {\n",
       "        var s = document.createElement('script');\n",
       "        s.src = paths[lib];\n",
       "        s.async = true;\n",
       "        s.onload = () => resolve(paths[lib]);\n",
       "        s.onerror = () => reject(`Error loading script: ${paths[lib]}`);\n",
       "        document.getElementsByTagName(\"head\")[0].appendChild(s);\n",
       "      });\n",
       "    }\n",
       "\n",
       "    function showError(err) {\n",
       "      outputDiv.innerHTML = `<div class=\"error\" style=\"color:red;\">${err}</div>`;\n",
       "      throw err;\n",
       "    }\n",
       "\n",
       "    function displayChart(vegaEmbed) {\n",
       "      vegaEmbed(outputDiv, spec, embedOpt)\n",
       "        .catch(err => showError(`Javascript Error: ${err.message}<br>This usually means there's a typo in your chart specification. See the javascript console for the full traceback.`));\n",
       "    }\n",
       "\n",
       "    if(typeof define === \"function\" && define.amd) {\n",
       "      requirejs.config({paths});\n",
       "      require([\"vega-embed\"], displayChart, err => showError(`Error loading script: ${err.message}`));\n",
       "    } else if (typeof vegaEmbed === \"function\") {\n",
       "      displayChart(vegaEmbed);\n",
       "    } else {\n",
       "      loadScript(\"vega\")\n",
       "        .then(() => loadScript(\"vega-lite\"))\n",
       "        .then(() => loadScript(\"vega-embed\"))\n",
       "        .catch(showError)\n",
       "        .then(() => displayChart(vegaEmbed));\n",
       "    }\n",
       "  })({\"config\": {\"view\": {\"continuousWidth\": 400, \"continuousHeight\": 300}}, \"layer\": [{\"mark\": \"point\", \"encoding\": {\"x\": {\"type\": \"quantitative\", \"field\": \"gdppcap08\", \"scale\": {\"zero\": false}, \"title\": \"GDP per Capita\"}, \"y\": {\"type\": \"quantitative\", \"field\": \"polityIV\", \"scale\": {\"zero\": false}, \"title\": \"Polity IV Democracy Score\"}}, \"title\": \"Relationship between GDP per capita and the Polity IV Score\"}, {\"mark\": \"line\", \"encoding\": {\"x\": {\"type\": \"quantitative\", \"field\": \"gdppcap08\", \"scale\": {\"zero\": false}, \"title\": \"GDP per Capita\"}, \"y\": {\"type\": \"quantitative\", \"field\": \"polityIV\", \"scale\": {\"zero\": false}, \"title\": \"Polity IV Democracy Score\"}}, \"title\": \"Relationship between GDP per capita and the Polity IV Score\", \"transform\": [{\"on\": \"gdppcap08\", \"regression\": \"polityIV\", \"method\": \"quad\"}]}, {\"mark\": {\"type\": \"text\", \"size\": 5}, \"encoding\": {\"x\": {\"type\": \"quantitative\", \"field\": \"gdppcap08\", \"scale\": {\"zero\": false}}, \"y\": {\"type\": \"quantitative\", \"field\": \"polityIV\"}}}], \"data\": {\"name\": \"data-50afffcb03ca16fbefb225cc29275795\"}, \"$schema\": \"https://vega.github.io/schema/vega-lite/v4.8.1.json\", \"datasets\": {\"data-50afffcb03ca16fbefb225cc29275795\": [{\"country\": \"Albania\", \"region\": \"C&E Europe\", \"gdppcap08\": 7715, \"polityIV\": 17.8}, {\"country\": \"Algeria\", \"region\": \"Africa\", \"gdppcap08\": 8033, \"polityIV\": 10.0}, {\"country\": \"Angola\", \"region\": \"Africa\", \"gdppcap08\": 5899, \"polityIV\": 8.0}, {\"country\": \"Argentina\", \"region\": \"S. America\", \"gdppcap08\": 14333, \"polityIV\": 18.0}, {\"country\": \"Armenia\", \"region\": \"C&E Europe\", \"gdppcap08\": 6070, \"polityIV\": 15.0}, {\"country\": \"Australia\", \"region\": \"Asia-Pacific\", \"gdppcap08\": 35677, \"polityIV\": 20.0}, {\"country\": \"Austria\", \"region\": \"W. Europe\", \"gdppcap08\": 38152, \"polityIV\": 20.0}, {\"country\": \"Azerbaijan\", \"region\": \"C&E Europe\", \"gdppcap08\": 8765, \"polityIV\": 3.0}, {\"country\": \"Bahrain\", \"region\": \"Middle East\", \"gdppcap08\": 34605, \"polityIV\": 3.0}, {\"country\": \"Bangladesh\", \"region\": \"Asia-Pacific\", \"gdppcap08\": 1334, \"polityIV\": 16.0}, {\"country\": \"Belarus\", \"region\": \"C&E Europe\", \"gdppcap08\": 12261, \"polityIV\": 3.0}, {\"country\": \"Belgium\", \"region\": \"W. Europe\", \"gdppcap08\": 34493, \"polityIV\": 20.0}, {\"country\": \"Benin\", \"region\": \"Africa\", \"gdppcap08\": 1468, \"polityIV\": 16.2}, {\"country\": \"Bhutan\", \"region\": \"Asia-Pacific\", \"gdppcap08\": 4755, \"polityIV\": 2.0}, {\"country\": \"Bolivia\", \"region\": \"S. America\", \"gdppcap08\": 4278, \"polityIV\": 18.2}, {\"country\": \"Botswana\", \"region\": \"Africa\", \"gdppcap08\": 13392, \"polityIV\": 19.0}, {\"country\": \"Brazil\", \"region\": \"S. America\", \"gdppcap08\": 10296, \"polityIV\": 18.0}, {\"country\": \"Bulgaria\", \"region\": \"C&E Europe\", \"gdppcap08\": 12393, \"polityIV\": 19.0}, {\"country\": \"Burkina Faso\", \"region\": \"Africa\", \"gdppcap08\": 1161, \"polityIV\": 10.0}, {\"country\": \"Cambodia\", \"region\": \"Asia-Pacific\", \"gdppcap08\": 1905, \"polityIV\": 12.0}, {\"country\": \"Cameroon\", \"region\": \"Africa\", \"gdppcap08\": 2215, \"polityIV\": 6.0}, {\"country\": \"Canada\", \"region\": \"N. America\", \"gdppcap08\": 36444, \"polityIV\": 20.0}, {\"country\": \"Central African Republic\", \"region\": \"Africa\", \"gdppcap08\": 736, \"polityIV\": 10.2}, {\"country\": \"Chad\", \"region\": \"Africa\", \"gdppcap08\": 1455, \"polityIV\": 8.0}, {\"country\": \"Chile\", \"region\": \"S. America\", \"gdppcap08\": 14465, \"polityIV\": 19.2}, {\"country\": \"China\", \"region\": \"Asia-Pacific\", \"gdppcap08\": 5962, \"polityIV\": 3.0}, {\"country\": \"Colombia\", \"region\": \"S. America\", \"gdppcap08\": 8885, \"polityIV\": 17.0}, {\"country\": \"Comoros\", \"region\": \"Africa\", \"gdppcap08\": 1169, \"polityIV\": 15.8}, {\"country\": \"Congo Brazzaville\", \"region\": \"Africa\", \"gdppcap08\": 3946, \"polityIV\": 6.0}, {\"country\": \"Congo Kinshasa\", \"region\": \"Africa\", \"gdppcap08\": 321, \"polityIV\": 15.0}, {\"country\": \"Costa Rica\", \"region\": \"S. America\", \"gdppcap08\": 11241, \"polityIV\": 20.0}, {\"country\": \"Croatia\", \"region\": \"C&E Europe\", \"gdppcap08\": 19084, \"polityIV\": 18.4}, {\"country\": \"Cuba\", \"region\": \"S. America\", \"gdppcap08\": 9500, \"polityIV\": 3.0}, {\"country\": \"Czech Republic\", \"region\": \"C&E Europe\", \"gdppcap08\": 24712, \"polityIV\": 20.0}, {\"country\": \"Denmark\", \"region\": \"Scandinavia\", \"gdppcap08\": 36607, \"polityIV\": 20.0}, {\"country\": \"Djibouti\", \"region\": \"Africa\", \"gdppcap08\": 2140, \"polityIV\": 12.0}, {\"country\": \"Ecuador\", \"region\": \"S. America\", \"gdppcap08\": 8009, \"polityIV\": 16.2}, {\"country\": \"Egypt\", \"region\": \"Middle East\", \"gdppcap08\": 5416, \"polityIV\": 4.0}, {\"country\": \"El Salvador\", \"region\": \"S. America\", \"gdppcap08\": 6794, \"polityIV\": 17.0}, {\"country\": \"Equatorial Guinea\", \"region\": \"Africa\", \"gdppcap08\": 33873, \"polityIV\": 5.0}, {\"country\": \"Eritrea\", \"region\": \"Africa\", \"gdppcap08\": 632, \"polityIV\": 3.0}, {\"country\": \"Estonia\", \"region\": \"C&E Europe\", \"gdppcap08\": 20662, \"polityIV\": 16.0}, {\"country\": \"Fiji\", \"region\": \"Asia-Pacific\", \"gdppcap08\": 4382, \"polityIV\": 13.8}, {\"country\": \"Finland\", \"region\": \"Scandinavia\", \"gdppcap08\": 35427, \"polityIV\": 20.0}, {\"country\": \"France\", \"region\": \"W. Europe\", \"gdppcap08\": 34045, \"polityIV\": 19.0}, {\"country\": \"Gabon\", \"region\": \"Africa\", \"gdppcap08\": 14527, \"polityIV\": 6.0}, {\"country\": \"Gambia\", \"region\": \"Africa\", \"gdppcap08\": 1363, \"polityIV\": 5.0}, {\"country\": \"Georgia\", \"region\": \"C&E Europe\", \"gdppcap08\": 4896, \"polityIV\": 15.666667}, {\"country\": \"Germany\", \"region\": \"W. Europe\", \"gdppcap08\": 35613, \"polityIV\": 20.0}, {\"country\": \"Ghana\", \"region\": \"Africa\", \"gdppcap08\": 1452, \"polityIV\": 16.666667}, {\"country\": \"Greece\", \"region\": \"W. Europe\", \"gdppcap08\": 29361, \"polityIV\": 20.0}, {\"country\": \"Guatemala\", \"region\": \"S. America\", \"gdppcap08\": 4760, \"polityIV\": 18.0}, {\"country\": \"Guinea\", \"region\": \"Africa\", \"gdppcap08\": 1204, \"polityIV\": 9.0}, {\"country\": \"Guinea-Bissau\", \"region\": \"Africa\", \"gdppcap08\": 538, \"polityIV\": 11.0}, {\"country\": \"Guyana\", \"region\": \"S. America\", \"gdppcap08\": 2542, \"polityIV\": 16.0}, {\"country\": \"Haiti\", \"region\": \"S. America\", \"gdppcap08\": 1177, \"polityIV\": 8.0}, {\"country\": \"Honduras\", \"region\": \"S. America\", \"gdppcap08\": 3965, \"polityIV\": 17.0}, {\"country\": \"Hungary\", \"region\": \"C&E Europe\", \"gdppcap08\": 19330, \"polityIV\": 20.0}, {\"country\": \"India\", \"region\": \"Asia-Pacific\", \"gdppcap08\": 2972, \"polityIV\": 19.0}, {\"country\": \"Indonesia\", \"region\": \"Asia-Pacific\", \"gdppcap08\": 3975, \"polityIV\": 16.666667}, {\"country\": \"Iran\", \"region\": \"Middle East\", \"gdppcap08\": 11666, \"polityIV\": 10.0}, {\"country\": \"Iraq\", \"region\": \"Middle East\", \"gdppcap08\": 3570, \"polityIV\": 1.0}, {\"country\": \"Ireland\", \"region\": \"W. Europe\", \"gdppcap08\": 44200, \"polityIV\": 20.0}, {\"country\": \"Israel\", \"region\": \"Middle East\", \"gdppcap08\": 27548, \"polityIV\": 20.0}, {\"country\": \"Italy\", \"region\": \"W. Europe\", \"gdppcap08\": 30756, \"polityIV\": 20.0}, {\"country\": \"Jamaica\", \"region\": \"S. America\", \"gdppcap08\": 7705, \"polityIV\": 19.0}, {\"country\": \"Japan\", \"region\": \"Asia-Pacific\", \"gdppcap08\": 34099, \"polityIV\": 20.0}, {\"country\": \"Jordan\", \"region\": \"Middle East\", \"gdppcap08\": 5283, \"polityIV\": 8.0}, {\"country\": \"Kazakhstan\", \"region\": \"C&E Europe\", \"gdppcap08\": 11315, \"polityIV\": 4.0}, {\"country\": \"Kenya\", \"region\": \"Africa\", \"gdppcap08\": 1590, \"polityIV\": 18.0}, {\"country\": \"Korea South\", \"region\": \"Asia-Pacific\", \"gdppcap08\": 27939, \"polityIV\": 18.0}, {\"country\": \"Kuwait\", \"region\": \"Middle East\", \"gdppcap08\": 39914, \"polityIV\": 3.0}, {\"country\": \"Kyrgyzstan\", \"region\": \"C&E Europe\", \"gdppcap08\": 2188, \"polityIV\": 7.0}, {\"country\": \"Laos\", \"region\": \"Asia-Pacific\", \"gdppcap08\": 2134, \"polityIV\": 3.0}, {\"country\": \"Latvia\", \"region\": \"C&E Europe\", \"gdppcap08\": 17100, \"polityIV\": 18.0}, {\"country\": \"Lesotho\", \"region\": \"Africa\", \"gdppcap08\": 1588, \"polityIV\": 18.0}, {\"country\": \"Liberia\", \"region\": \"Africa\", \"gdppcap08\": 388, \"polityIV\": 10.0}, {\"country\": \"Libya\", \"region\": \"Middle East\", \"gdppcap08\": 15402, \"polityIV\": 3.0}, {\"country\": \"Lithuania\", \"region\": \"C&E Europe\", \"gdppcap08\": 18824, \"polityIV\": 20.0}, {\"country\": \"Macedonia\", \"region\": \"C&E Europe\", \"gdppcap08\": 10041, \"polityIV\": 19.0}, {\"country\": \"Madagascar\", \"region\": \"Africa\", \"gdppcap08\": 1049, \"polityIV\": 17.0}, {\"country\": \"Malawi\", \"region\": \"Africa\", \"gdppcap08\": 837, \"polityIV\": 15.0}, {\"country\": \"Malaysia\", \"region\": \"Asia-Pacific\", \"gdppcap08\": 14215, \"polityIV\": 13.0}, {\"country\": \"Mali\", \"region\": \"Africa\", \"gdppcap08\": 1128, \"polityIV\": 16.0}, {\"country\": \"Mauritania\", \"region\": \"Africa\", \"gdppcap08\": 2052, \"polityIV\": 4.0}, {\"country\": \"Mauritius\", \"region\": \"Africa\", \"gdppcap08\": 12079, \"polityIV\": 20.0}, {\"country\": \"Mexico\", \"region\": \"N. America\", \"gdppcap08\": 14495, \"polityIV\": 18.0}, {\"country\": \"Moldova\", \"region\": \"C&E Europe\", \"gdppcap08\": 2925, \"polityIV\": 18.0}, {\"country\": \"Mongolia\", \"region\": \"Asia-Pacific\", \"gdppcap08\": 3566, \"polityIV\": 20.0}, {\"country\": \"Morocco\", \"region\": \"Middle East\", \"gdppcap08\": 4388, \"polityIV\": 4.0}, {\"country\": \"Mozambique\", \"region\": \"Africa\", \"gdppcap08\": 855, \"polityIV\": 16.0}, {\"country\": \"Namibia\", \"region\": \"Africa\", \"gdppcap08\": 6343, \"polityIV\": 16.0}, {\"country\": \"Nepal\", \"region\": \"Asia-Pacific\", \"gdppcap08\": 1112, \"polityIV\": 4.0}, {\"country\": \"Netherlands\", \"region\": \"W. Europe\", \"gdppcap08\": 40849, \"polityIV\": 20.0}, {\"country\": \"New Zealand\", \"region\": \"Asia-Pacific\", \"gdppcap08\": 27029, \"polityIV\": 20.0}, {\"country\": \"Nicaragua\", \"region\": \"S. America\", \"gdppcap08\": 2682, \"polityIV\": 18.0}, {\"country\": \"Niger\", \"region\": \"Africa\", \"gdppcap08\": 684, \"polityIV\": 15.333333}, {\"country\": \"Nigeria\", \"region\": \"Africa\", \"gdppcap08\": 2082, \"polityIV\": 14.0}, {\"country\": \"Norway\", \"region\": \"Scandinavia\", \"gdppcap08\": 58138, \"polityIV\": 20.0}, {\"country\": \"Oman\", \"region\": \"Middle East\", \"gdppcap08\": 22478, \"polityIV\": 2.0}, {\"country\": \"Pakistan\", \"region\": \"Asia-Pacific\", \"gdppcap08\": 2644, \"polityIV\": 5.0}, {\"country\": \"Papua New Guinea\", \"region\": \"Asia-Pacific\", \"gdppcap08\": 2208, \"polityIV\": 20.0}, {\"country\": \"Paraguay\", \"region\": \"S. America\", \"gdppcap08\": 4709, \"polityIV\": 17.666667}, {\"country\": \"Peru\", \"region\": \"S. America\", \"gdppcap08\": 8507, \"polityIV\": 19.0}, {\"country\": \"Philippines\", \"region\": \"Asia-Pacific\", \"gdppcap08\": 3510, \"polityIV\": 18.0}, {\"country\": \"Poland\", \"region\": \"C&E Europe\", \"gdppcap08\": 17625, \"polityIV\": 20.0}, {\"country\": \"Portugal\", \"region\": \"W. Europe\", \"gdppcap08\": 23074, \"polityIV\": 20.0}, {\"country\": \"Qatar\", \"region\": \"Middle East\", \"gdppcap08\": 85868, \"polityIV\": 0.0}, {\"country\": \"Romania\", \"region\": \"C&E Europe\", \"gdppcap08\": 14065, \"polityIV\": 18.333333}, {\"country\": \"Russia\", \"region\": \"C&E Europe\", \"gdppcap08\": 16139, \"polityIV\": 17.0}, {\"country\": \"Rwanda\", \"region\": \"Africa\", \"gdppcap08\": 1022, \"polityIV\": 6.6666667}, {\"country\": \"Saudi Arabia\", \"region\": \"Middle East\", \"gdppcap08\": 23920, \"polityIV\": 0.0}, {\"country\": \"Senegal\", \"region\": \"Africa\", \"gdppcap08\": 1772, \"polityIV\": 18.0}, {\"country\": \"Sierra Leone\", \"region\": \"Africa\", \"gdppcap08\": 766, \"polityIV\": 15.0}, {\"country\": \"Singapore\", \"region\": \"Asia-Pacific\", \"gdppcap08\": 49284, \"polityIV\": 8.0}, {\"country\": \"Slovakia\", \"region\": \"C&E Europe\", \"gdppcap08\": 22081, \"polityIV\": 19.0}, {\"country\": \"Slovenia\", \"region\": \"C&E Europe\", \"gdppcap08\": 27605, \"polityIV\": 20.0}, {\"country\": \"Solomon Islands\", \"region\": \"Asia-Pacific\", \"gdppcap08\": 2610, \"polityIV\": 18.0}, {\"country\": \"South Africa\", \"region\": \"Africa\", \"gdppcap08\": 10109, \"polityIV\": 19.0}, {\"country\": \"Spain\", \"region\": \"W. Europe\", \"gdppcap08\": 31954, \"polityIV\": 20.0}, {\"country\": \"Sri Lanka\", \"region\": \"Asia-Pacific\", \"gdppcap08\": 4560, \"polityIV\": 15.333333}, {\"country\": \"Sudan\", \"region\": \"Africa\", \"gdppcap08\": 2153, \"polityIV\": 4.0}, {\"country\": \"Swaziland\", \"region\": \"Africa\", \"gdppcap08\": 4928, \"polityIV\": 1.0}, {\"country\": \"Sweden\", \"region\": \"Scandinavia\", \"gdppcap08\": 37383, \"polityIV\": 20.0}, {\"country\": \"Switzerland\", \"region\": \"W. Europe\", \"gdppcap08\": 42536, \"polityIV\": 20.0}, {\"country\": \"Taiwan\", \"region\": \"Asia-Pacific\", \"gdppcap08\": 30881, \"polityIV\": 19.333333}, {\"country\": \"Tajikistan\", \"region\": \"C&E Europe\", \"gdppcap08\": 1906, \"polityIV\": 7.6666667}, {\"country\": \"Tanzania\", \"region\": \"Africa\", \"gdppcap08\": 1263, \"polityIV\": 11.0}, {\"country\": \"Thailand\", \"region\": \"Asia-Pacific\", \"gdppcap08\": 7703, \"polityIV\": 19.0}, {\"country\": \"Togo\", \"region\": \"Africa\", \"gdppcap08\": 829, \"polityIV\": 8.0}, {\"country\": \"Tunisia\", \"region\": \"Middle East\", \"gdppcap08\": 7996, \"polityIV\": 6.0}, {\"country\": \"Turkey\", \"region\": \"Middle East\", \"gdppcap08\": 13920, \"polityIV\": 17.0}, {\"country\": \"Turkmenistan\", \"region\": \"C&E Europe\", \"gdppcap08\": 6641, \"polityIV\": 1.0}, {\"country\": \"UAE\", \"region\": \"Middle East\", \"gdppcap08\": 38830, \"polityIV\": 2.0}, {\"country\": \"Uganda\", \"region\": \"Africa\", \"gdppcap08\": 1165, \"polityIV\": 6.0}, {\"country\": \"Ukraine\", \"region\": \"C&E Europe\", \"gdppcap08\": 7271, \"polityIV\": 16.0}, {\"country\": \"United Kingdom\", \"region\": \"W. Europe\", \"gdppcap08\": 35445, \"polityIV\": 20.0}, {\"country\": \"United States\", \"region\": \"N. America\", \"gdppcap08\": 46716, \"polityIV\": 20.0}, {\"country\": \"Uruguay\", \"region\": \"S. America\", \"gdppcap08\": 12734, \"polityIV\": 20.0}, {\"country\": \"Uzbekistan\", \"region\": \"C&E Europe\", \"gdppcap08\": 2656, \"polityIV\": 1.0}, {\"country\": \"Venezuela\", \"region\": \"S. America\", \"gdppcap08\": 12804, \"polityIV\": 16.0}, {\"country\": \"Vietnam\", \"region\": \"Asia-Pacific\", \"gdppcap08\": 2785, \"polityIV\": 3.0}, {\"country\": \"Yemen\", \"region\": \"Middle East\", \"gdppcap08\": 2400, \"polityIV\": 8.0}, {\"country\": \"Zambia\", \"region\": \"Africa\", \"gdppcap08\": 1356, \"polityIV\": 15.0}, {\"country\": \"Zimbabwe\", \"region\": \"Africa\", \"gdppcap08\": 188, \"polityIV\": 6.0}]}}, {\"mode\": \"vega-lite\"});\n",
       "</script>"
      ],
      "text/plain": [
       "alt.LayerChart(...)"
      ]
     },
     "metadata": {},
     "execution_count": 150
    }
   ],
   "metadata": {}
  },
  {
   "cell_type": "markdown",
   "source": [
    "---\n",
    "### Exercise 7\n",
    "\n",
    "Once you’ve applied that transformation, let’s re-fit our model. Rather than imposing linearity this time, however, let’s fit a model with a flexible functional form. Use transform_loess() to fit an updated model over your data. This is a form of local polynomial regression that is designed to be flexible in how it fits the data."
   ],
   "metadata": {}
  },
  {
   "cell_type": "code",
   "execution_count": 151,
   "source": [
    "import numpy as np\n",
    "model = np.poly1d(np.polyfit(wdi[\"gdppcap08\"], wdi[\"polityIV\"], 2))\n",
    "\n",
    "base = (\n",
    "    alt.Chart(wdi, title=\"Relationship between GDP per capita and the Polity IV Score\")\n",
    "    .mark_point()\n",
    "    .encode(\n",
    "        x=alt.X(\"gdppcap08\", title=\"GDP per Capita\", scale=alt.Scale(zero=False)),\n",
    "        y=alt.Y(\"polityIV\", title=\"Polity IV Democracy Score\", scale=alt.Scale(zero=False)),\n",
    "    )\n",
    ")\n",
    "fit2 = base.transform_loess(\n",
    "        \"gdppcap08\", \"polityIV\"\n",
    "        \n",
    "    ).mark_line()\n",
    "\n",
    "text = (alt.Chart(wdi)\n",
    "    .encode(\n",
    "        x=alt.X(\"gdppcap08\", scale=alt.Scale(zero=False)),\n",
    "        y=\"polityIV\",\n",
    "        text=\"country\"\n",
    "    )\n",
    "    .mark_text(size=5))\n",
    "\n",
    "base + fit2 + text"
   ],
   "outputs": [
    {
     "output_type": "execute_result",
     "data": {
      "text/html": [
       "\n",
       "<div id=\"altair-viz-b7a83b03bfa742c29f3ec7415e867ad3\"></div>\n",
       "<script type=\"text/javascript\">\n",
       "  (function(spec, embedOpt){\n",
       "    let outputDiv = document.currentScript.previousElementSibling;\n",
       "    if (outputDiv.id !== \"altair-viz-b7a83b03bfa742c29f3ec7415e867ad3\") {\n",
       "      outputDiv = document.getElementById(\"altair-viz-b7a83b03bfa742c29f3ec7415e867ad3\");\n",
       "    }\n",
       "    const paths = {\n",
       "      \"vega\": \"https://cdn.jsdelivr.net/npm//vega@5?noext\",\n",
       "      \"vega-lib\": \"https://cdn.jsdelivr.net/npm//vega-lib?noext\",\n",
       "      \"vega-lite\": \"https://cdn.jsdelivr.net/npm//vega-lite@4.8.1?noext\",\n",
       "      \"vega-embed\": \"https://cdn.jsdelivr.net/npm//vega-embed@6?noext\",\n",
       "    };\n",
       "\n",
       "    function loadScript(lib) {\n",
       "      return new Promise(function(resolve, reject) {\n",
       "        var s = document.createElement('script');\n",
       "        s.src = paths[lib];\n",
       "        s.async = true;\n",
       "        s.onload = () => resolve(paths[lib]);\n",
       "        s.onerror = () => reject(`Error loading script: ${paths[lib]}`);\n",
       "        document.getElementsByTagName(\"head\")[0].appendChild(s);\n",
       "      });\n",
       "    }\n",
       "\n",
       "    function showError(err) {\n",
       "      outputDiv.innerHTML = `<div class=\"error\" style=\"color:red;\">${err}</div>`;\n",
       "      throw err;\n",
       "    }\n",
       "\n",
       "    function displayChart(vegaEmbed) {\n",
       "      vegaEmbed(outputDiv, spec, embedOpt)\n",
       "        .catch(err => showError(`Javascript Error: ${err.message}<br>This usually means there's a typo in your chart specification. See the javascript console for the full traceback.`));\n",
       "    }\n",
       "\n",
       "    if(typeof define === \"function\" && define.amd) {\n",
       "      requirejs.config({paths});\n",
       "      require([\"vega-embed\"], displayChart, err => showError(`Error loading script: ${err.message}`));\n",
       "    } else if (typeof vegaEmbed === \"function\") {\n",
       "      displayChart(vegaEmbed);\n",
       "    } else {\n",
       "      loadScript(\"vega\")\n",
       "        .then(() => loadScript(\"vega-lite\"))\n",
       "        .then(() => loadScript(\"vega-embed\"))\n",
       "        .catch(showError)\n",
       "        .then(() => displayChart(vegaEmbed));\n",
       "    }\n",
       "  })({\"config\": {\"view\": {\"continuousWidth\": 400, \"continuousHeight\": 300}}, \"layer\": [{\"mark\": \"point\", \"encoding\": {\"x\": {\"type\": \"quantitative\", \"field\": \"gdppcap08\", \"scale\": {\"zero\": false}, \"title\": \"GDP per Capita\"}, \"y\": {\"type\": \"quantitative\", \"field\": \"polityIV\", \"scale\": {\"zero\": false}, \"title\": \"Polity IV Democracy Score\"}}, \"title\": \"Relationship between GDP per capita and the Polity IV Score\"}, {\"mark\": \"line\", \"encoding\": {\"x\": {\"type\": \"quantitative\", \"field\": \"gdppcap08\", \"scale\": {\"zero\": false}, \"title\": \"GDP per Capita\"}, \"y\": {\"type\": \"quantitative\", \"field\": \"polityIV\", \"scale\": {\"zero\": false}, \"title\": \"Polity IV Democracy Score\"}}, \"title\": \"Relationship between GDP per capita and the Polity IV Score\", \"transform\": [{\"loess\": \"polityIV\", \"on\": \"gdppcap08\"}]}, {\"mark\": {\"type\": \"text\", \"size\": 5}, \"encoding\": {\"text\": {\"type\": \"nominal\", \"field\": \"country\"}, \"x\": {\"type\": \"quantitative\", \"field\": \"gdppcap08\", \"scale\": {\"zero\": false}}, \"y\": {\"type\": \"quantitative\", \"field\": \"polityIV\"}}}], \"data\": {\"name\": \"data-50afffcb03ca16fbefb225cc29275795\"}, \"$schema\": \"https://vega.github.io/schema/vega-lite/v4.8.1.json\", \"datasets\": {\"data-50afffcb03ca16fbefb225cc29275795\": [{\"country\": \"Albania\", \"region\": \"C&E Europe\", \"gdppcap08\": 7715, \"polityIV\": 17.8}, {\"country\": \"Algeria\", \"region\": \"Africa\", \"gdppcap08\": 8033, \"polityIV\": 10.0}, {\"country\": \"Angola\", \"region\": \"Africa\", \"gdppcap08\": 5899, \"polityIV\": 8.0}, {\"country\": \"Argentina\", \"region\": \"S. America\", \"gdppcap08\": 14333, \"polityIV\": 18.0}, {\"country\": \"Armenia\", \"region\": \"C&E Europe\", \"gdppcap08\": 6070, \"polityIV\": 15.0}, {\"country\": \"Australia\", \"region\": \"Asia-Pacific\", \"gdppcap08\": 35677, \"polityIV\": 20.0}, {\"country\": \"Austria\", \"region\": \"W. Europe\", \"gdppcap08\": 38152, \"polityIV\": 20.0}, {\"country\": \"Azerbaijan\", \"region\": \"C&E Europe\", \"gdppcap08\": 8765, \"polityIV\": 3.0}, {\"country\": \"Bahrain\", \"region\": \"Middle East\", \"gdppcap08\": 34605, \"polityIV\": 3.0}, {\"country\": \"Bangladesh\", \"region\": \"Asia-Pacific\", \"gdppcap08\": 1334, \"polityIV\": 16.0}, {\"country\": \"Belarus\", \"region\": \"C&E Europe\", \"gdppcap08\": 12261, \"polityIV\": 3.0}, {\"country\": \"Belgium\", \"region\": \"W. Europe\", \"gdppcap08\": 34493, \"polityIV\": 20.0}, {\"country\": \"Benin\", \"region\": \"Africa\", \"gdppcap08\": 1468, \"polityIV\": 16.2}, {\"country\": \"Bhutan\", \"region\": \"Asia-Pacific\", \"gdppcap08\": 4755, \"polityIV\": 2.0}, {\"country\": \"Bolivia\", \"region\": \"S. America\", \"gdppcap08\": 4278, \"polityIV\": 18.2}, {\"country\": \"Botswana\", \"region\": \"Africa\", \"gdppcap08\": 13392, \"polityIV\": 19.0}, {\"country\": \"Brazil\", \"region\": \"S. America\", \"gdppcap08\": 10296, \"polityIV\": 18.0}, {\"country\": \"Bulgaria\", \"region\": \"C&E Europe\", \"gdppcap08\": 12393, \"polityIV\": 19.0}, {\"country\": \"Burkina Faso\", \"region\": \"Africa\", \"gdppcap08\": 1161, \"polityIV\": 10.0}, {\"country\": \"Cambodia\", \"region\": \"Asia-Pacific\", \"gdppcap08\": 1905, \"polityIV\": 12.0}, {\"country\": \"Cameroon\", \"region\": \"Africa\", \"gdppcap08\": 2215, \"polityIV\": 6.0}, {\"country\": \"Canada\", \"region\": \"N. America\", \"gdppcap08\": 36444, \"polityIV\": 20.0}, {\"country\": \"Central African Republic\", \"region\": \"Africa\", \"gdppcap08\": 736, \"polityIV\": 10.2}, {\"country\": \"Chad\", \"region\": \"Africa\", \"gdppcap08\": 1455, \"polityIV\": 8.0}, {\"country\": \"Chile\", \"region\": \"S. America\", \"gdppcap08\": 14465, \"polityIV\": 19.2}, {\"country\": \"China\", \"region\": \"Asia-Pacific\", \"gdppcap08\": 5962, \"polityIV\": 3.0}, {\"country\": \"Colombia\", \"region\": \"S. America\", \"gdppcap08\": 8885, \"polityIV\": 17.0}, {\"country\": \"Comoros\", \"region\": \"Africa\", \"gdppcap08\": 1169, \"polityIV\": 15.8}, {\"country\": \"Congo Brazzaville\", \"region\": \"Africa\", \"gdppcap08\": 3946, \"polityIV\": 6.0}, {\"country\": \"Congo Kinshasa\", \"region\": \"Africa\", \"gdppcap08\": 321, \"polityIV\": 15.0}, {\"country\": \"Costa Rica\", \"region\": \"S. America\", \"gdppcap08\": 11241, \"polityIV\": 20.0}, {\"country\": \"Croatia\", \"region\": \"C&E Europe\", \"gdppcap08\": 19084, \"polityIV\": 18.4}, {\"country\": \"Cuba\", \"region\": \"S. America\", \"gdppcap08\": 9500, \"polityIV\": 3.0}, {\"country\": \"Czech Republic\", \"region\": \"C&E Europe\", \"gdppcap08\": 24712, \"polityIV\": 20.0}, {\"country\": \"Denmark\", \"region\": \"Scandinavia\", \"gdppcap08\": 36607, \"polityIV\": 20.0}, {\"country\": \"Djibouti\", \"region\": \"Africa\", \"gdppcap08\": 2140, \"polityIV\": 12.0}, {\"country\": \"Ecuador\", \"region\": \"S. America\", \"gdppcap08\": 8009, \"polityIV\": 16.2}, {\"country\": \"Egypt\", \"region\": \"Middle East\", \"gdppcap08\": 5416, \"polityIV\": 4.0}, {\"country\": \"El Salvador\", \"region\": \"S. America\", \"gdppcap08\": 6794, \"polityIV\": 17.0}, {\"country\": \"Equatorial Guinea\", \"region\": \"Africa\", \"gdppcap08\": 33873, \"polityIV\": 5.0}, {\"country\": \"Eritrea\", \"region\": \"Africa\", \"gdppcap08\": 632, \"polityIV\": 3.0}, {\"country\": \"Estonia\", \"region\": \"C&E Europe\", \"gdppcap08\": 20662, \"polityIV\": 16.0}, {\"country\": \"Fiji\", \"region\": \"Asia-Pacific\", \"gdppcap08\": 4382, \"polityIV\": 13.8}, {\"country\": \"Finland\", \"region\": \"Scandinavia\", \"gdppcap08\": 35427, \"polityIV\": 20.0}, {\"country\": \"France\", \"region\": \"W. Europe\", \"gdppcap08\": 34045, \"polityIV\": 19.0}, {\"country\": \"Gabon\", \"region\": \"Africa\", \"gdppcap08\": 14527, \"polityIV\": 6.0}, {\"country\": \"Gambia\", \"region\": \"Africa\", \"gdppcap08\": 1363, \"polityIV\": 5.0}, {\"country\": \"Georgia\", \"region\": \"C&E Europe\", \"gdppcap08\": 4896, \"polityIV\": 15.666667}, {\"country\": \"Germany\", \"region\": \"W. Europe\", \"gdppcap08\": 35613, \"polityIV\": 20.0}, {\"country\": \"Ghana\", \"region\": \"Africa\", \"gdppcap08\": 1452, \"polityIV\": 16.666667}, {\"country\": \"Greece\", \"region\": \"W. Europe\", \"gdppcap08\": 29361, \"polityIV\": 20.0}, {\"country\": \"Guatemala\", \"region\": \"S. America\", \"gdppcap08\": 4760, \"polityIV\": 18.0}, {\"country\": \"Guinea\", \"region\": \"Africa\", \"gdppcap08\": 1204, \"polityIV\": 9.0}, {\"country\": \"Guinea-Bissau\", \"region\": \"Africa\", \"gdppcap08\": 538, \"polityIV\": 11.0}, {\"country\": \"Guyana\", \"region\": \"S. America\", \"gdppcap08\": 2542, \"polityIV\": 16.0}, {\"country\": \"Haiti\", \"region\": \"S. America\", \"gdppcap08\": 1177, \"polityIV\": 8.0}, {\"country\": \"Honduras\", \"region\": \"S. America\", \"gdppcap08\": 3965, \"polityIV\": 17.0}, {\"country\": \"Hungary\", \"region\": \"C&E Europe\", \"gdppcap08\": 19330, \"polityIV\": 20.0}, {\"country\": \"India\", \"region\": \"Asia-Pacific\", \"gdppcap08\": 2972, \"polityIV\": 19.0}, {\"country\": \"Indonesia\", \"region\": \"Asia-Pacific\", \"gdppcap08\": 3975, \"polityIV\": 16.666667}, {\"country\": \"Iran\", \"region\": \"Middle East\", \"gdppcap08\": 11666, \"polityIV\": 10.0}, {\"country\": \"Iraq\", \"region\": \"Middle East\", \"gdppcap08\": 3570, \"polityIV\": 1.0}, {\"country\": \"Ireland\", \"region\": \"W. Europe\", \"gdppcap08\": 44200, \"polityIV\": 20.0}, {\"country\": \"Israel\", \"region\": \"Middle East\", \"gdppcap08\": 27548, \"polityIV\": 20.0}, {\"country\": \"Italy\", \"region\": \"W. Europe\", \"gdppcap08\": 30756, \"polityIV\": 20.0}, {\"country\": \"Jamaica\", \"region\": \"S. America\", \"gdppcap08\": 7705, \"polityIV\": 19.0}, {\"country\": \"Japan\", \"region\": \"Asia-Pacific\", \"gdppcap08\": 34099, \"polityIV\": 20.0}, {\"country\": \"Jordan\", \"region\": \"Middle East\", \"gdppcap08\": 5283, \"polityIV\": 8.0}, {\"country\": \"Kazakhstan\", \"region\": \"C&E Europe\", \"gdppcap08\": 11315, \"polityIV\": 4.0}, {\"country\": \"Kenya\", \"region\": \"Africa\", \"gdppcap08\": 1590, \"polityIV\": 18.0}, {\"country\": \"Korea South\", \"region\": \"Asia-Pacific\", \"gdppcap08\": 27939, \"polityIV\": 18.0}, {\"country\": \"Kuwait\", \"region\": \"Middle East\", \"gdppcap08\": 39914, \"polityIV\": 3.0}, {\"country\": \"Kyrgyzstan\", \"region\": \"C&E Europe\", \"gdppcap08\": 2188, \"polityIV\": 7.0}, {\"country\": \"Laos\", \"region\": \"Asia-Pacific\", \"gdppcap08\": 2134, \"polityIV\": 3.0}, {\"country\": \"Latvia\", \"region\": \"C&E Europe\", \"gdppcap08\": 17100, \"polityIV\": 18.0}, {\"country\": \"Lesotho\", \"region\": \"Africa\", \"gdppcap08\": 1588, \"polityIV\": 18.0}, {\"country\": \"Liberia\", \"region\": \"Africa\", \"gdppcap08\": 388, \"polityIV\": 10.0}, {\"country\": \"Libya\", \"region\": \"Middle East\", \"gdppcap08\": 15402, \"polityIV\": 3.0}, {\"country\": \"Lithuania\", \"region\": \"C&E Europe\", \"gdppcap08\": 18824, \"polityIV\": 20.0}, {\"country\": \"Macedonia\", \"region\": \"C&E Europe\", \"gdppcap08\": 10041, \"polityIV\": 19.0}, {\"country\": \"Madagascar\", \"region\": \"Africa\", \"gdppcap08\": 1049, \"polityIV\": 17.0}, {\"country\": \"Malawi\", \"region\": \"Africa\", \"gdppcap08\": 837, \"polityIV\": 15.0}, {\"country\": \"Malaysia\", \"region\": \"Asia-Pacific\", \"gdppcap08\": 14215, \"polityIV\": 13.0}, {\"country\": \"Mali\", \"region\": \"Africa\", \"gdppcap08\": 1128, \"polityIV\": 16.0}, {\"country\": \"Mauritania\", \"region\": \"Africa\", \"gdppcap08\": 2052, \"polityIV\": 4.0}, {\"country\": \"Mauritius\", \"region\": \"Africa\", \"gdppcap08\": 12079, \"polityIV\": 20.0}, {\"country\": \"Mexico\", \"region\": \"N. America\", \"gdppcap08\": 14495, \"polityIV\": 18.0}, {\"country\": \"Moldova\", \"region\": \"C&E Europe\", \"gdppcap08\": 2925, \"polityIV\": 18.0}, {\"country\": \"Mongolia\", \"region\": \"Asia-Pacific\", \"gdppcap08\": 3566, \"polityIV\": 20.0}, {\"country\": \"Morocco\", \"region\": \"Middle East\", \"gdppcap08\": 4388, \"polityIV\": 4.0}, {\"country\": \"Mozambique\", \"region\": \"Africa\", \"gdppcap08\": 855, \"polityIV\": 16.0}, {\"country\": \"Namibia\", \"region\": \"Africa\", \"gdppcap08\": 6343, \"polityIV\": 16.0}, {\"country\": \"Nepal\", \"region\": \"Asia-Pacific\", \"gdppcap08\": 1112, \"polityIV\": 4.0}, {\"country\": \"Netherlands\", \"region\": \"W. Europe\", \"gdppcap08\": 40849, \"polityIV\": 20.0}, {\"country\": \"New Zealand\", \"region\": \"Asia-Pacific\", \"gdppcap08\": 27029, \"polityIV\": 20.0}, {\"country\": \"Nicaragua\", \"region\": \"S. America\", \"gdppcap08\": 2682, \"polityIV\": 18.0}, {\"country\": \"Niger\", \"region\": \"Africa\", \"gdppcap08\": 684, \"polityIV\": 15.333333}, {\"country\": \"Nigeria\", \"region\": \"Africa\", \"gdppcap08\": 2082, \"polityIV\": 14.0}, {\"country\": \"Norway\", \"region\": \"Scandinavia\", \"gdppcap08\": 58138, \"polityIV\": 20.0}, {\"country\": \"Oman\", \"region\": \"Middle East\", \"gdppcap08\": 22478, \"polityIV\": 2.0}, {\"country\": \"Pakistan\", \"region\": \"Asia-Pacific\", \"gdppcap08\": 2644, \"polityIV\": 5.0}, {\"country\": \"Papua New Guinea\", \"region\": \"Asia-Pacific\", \"gdppcap08\": 2208, \"polityIV\": 20.0}, {\"country\": \"Paraguay\", \"region\": \"S. America\", \"gdppcap08\": 4709, \"polityIV\": 17.666667}, {\"country\": \"Peru\", \"region\": \"S. America\", \"gdppcap08\": 8507, \"polityIV\": 19.0}, {\"country\": \"Philippines\", \"region\": \"Asia-Pacific\", \"gdppcap08\": 3510, \"polityIV\": 18.0}, {\"country\": \"Poland\", \"region\": \"C&E Europe\", \"gdppcap08\": 17625, \"polityIV\": 20.0}, {\"country\": \"Portugal\", \"region\": \"W. Europe\", \"gdppcap08\": 23074, \"polityIV\": 20.0}, {\"country\": \"Qatar\", \"region\": \"Middle East\", \"gdppcap08\": 85868, \"polityIV\": 0.0}, {\"country\": \"Romania\", \"region\": \"C&E Europe\", \"gdppcap08\": 14065, \"polityIV\": 18.333333}, {\"country\": \"Russia\", \"region\": \"C&E Europe\", \"gdppcap08\": 16139, \"polityIV\": 17.0}, {\"country\": \"Rwanda\", \"region\": \"Africa\", \"gdppcap08\": 1022, \"polityIV\": 6.6666667}, {\"country\": \"Saudi Arabia\", \"region\": \"Middle East\", \"gdppcap08\": 23920, \"polityIV\": 0.0}, {\"country\": \"Senegal\", \"region\": \"Africa\", \"gdppcap08\": 1772, \"polityIV\": 18.0}, {\"country\": \"Sierra Leone\", \"region\": \"Africa\", \"gdppcap08\": 766, \"polityIV\": 15.0}, {\"country\": \"Singapore\", \"region\": \"Asia-Pacific\", \"gdppcap08\": 49284, \"polityIV\": 8.0}, {\"country\": \"Slovakia\", \"region\": \"C&E Europe\", \"gdppcap08\": 22081, \"polityIV\": 19.0}, {\"country\": \"Slovenia\", \"region\": \"C&E Europe\", \"gdppcap08\": 27605, \"polityIV\": 20.0}, {\"country\": \"Solomon Islands\", \"region\": \"Asia-Pacific\", \"gdppcap08\": 2610, \"polityIV\": 18.0}, {\"country\": \"South Africa\", \"region\": \"Africa\", \"gdppcap08\": 10109, \"polityIV\": 19.0}, {\"country\": \"Spain\", \"region\": \"W. Europe\", \"gdppcap08\": 31954, \"polityIV\": 20.0}, {\"country\": \"Sri Lanka\", \"region\": \"Asia-Pacific\", \"gdppcap08\": 4560, \"polityIV\": 15.333333}, {\"country\": \"Sudan\", \"region\": \"Africa\", \"gdppcap08\": 2153, \"polityIV\": 4.0}, {\"country\": \"Swaziland\", \"region\": \"Africa\", \"gdppcap08\": 4928, \"polityIV\": 1.0}, {\"country\": \"Sweden\", \"region\": \"Scandinavia\", \"gdppcap08\": 37383, \"polityIV\": 20.0}, {\"country\": \"Switzerland\", \"region\": \"W. Europe\", \"gdppcap08\": 42536, \"polityIV\": 20.0}, {\"country\": \"Taiwan\", \"region\": \"Asia-Pacific\", \"gdppcap08\": 30881, \"polityIV\": 19.333333}, {\"country\": \"Tajikistan\", \"region\": \"C&E Europe\", \"gdppcap08\": 1906, \"polityIV\": 7.6666667}, {\"country\": \"Tanzania\", \"region\": \"Africa\", \"gdppcap08\": 1263, \"polityIV\": 11.0}, {\"country\": \"Thailand\", \"region\": \"Asia-Pacific\", \"gdppcap08\": 7703, \"polityIV\": 19.0}, {\"country\": \"Togo\", \"region\": \"Africa\", \"gdppcap08\": 829, \"polityIV\": 8.0}, {\"country\": \"Tunisia\", \"region\": \"Middle East\", \"gdppcap08\": 7996, \"polityIV\": 6.0}, {\"country\": \"Turkey\", \"region\": \"Middle East\", \"gdppcap08\": 13920, \"polityIV\": 17.0}, {\"country\": \"Turkmenistan\", \"region\": \"C&E Europe\", \"gdppcap08\": 6641, \"polityIV\": 1.0}, {\"country\": \"UAE\", \"region\": \"Middle East\", \"gdppcap08\": 38830, \"polityIV\": 2.0}, {\"country\": \"Uganda\", \"region\": \"Africa\", \"gdppcap08\": 1165, \"polityIV\": 6.0}, {\"country\": \"Ukraine\", \"region\": \"C&E Europe\", \"gdppcap08\": 7271, \"polityIV\": 16.0}, {\"country\": \"United Kingdom\", \"region\": \"W. Europe\", \"gdppcap08\": 35445, \"polityIV\": 20.0}, {\"country\": \"United States\", \"region\": \"N. America\", \"gdppcap08\": 46716, \"polityIV\": 20.0}, {\"country\": \"Uruguay\", \"region\": \"S. America\", \"gdppcap08\": 12734, \"polityIV\": 20.0}, {\"country\": \"Uzbekistan\", \"region\": \"C&E Europe\", \"gdppcap08\": 2656, \"polityIV\": 1.0}, {\"country\": \"Venezuela\", \"region\": \"S. America\", \"gdppcap08\": 12804, \"polityIV\": 16.0}, {\"country\": \"Vietnam\", \"region\": \"Asia-Pacific\", \"gdppcap08\": 2785, \"polityIV\": 3.0}, {\"country\": \"Yemen\", \"region\": \"Middle East\", \"gdppcap08\": 2400, \"polityIV\": 8.0}, {\"country\": \"Zambia\", \"region\": \"Africa\", \"gdppcap08\": 1356, \"polityIV\": 15.0}, {\"country\": \"Zimbabwe\", \"region\": \"Africa\", \"gdppcap08\": 188, \"polityIV\": 6.0}]}}, {\"mode\": \"vega-lite\"});\n",
       "</script>"
      ],
      "text/plain": [
       "alt.LayerChart(...)"
      ]
     },
     "metadata": {},
     "execution_count": 151
    }
   ],
   "metadata": {}
  },
  {
   "cell_type": "markdown",
   "source": [
    "---\n",
    "### Exercise 8\n",
    "\n",
    "This does seem to fit the data better, but there’s clearly this HUGE outlier in the bottom right. Who is that? Add text labels to the points on your graph with country names."
   ],
   "metadata": {}
  },
  {
   "cell_type": "code",
   "execution_count": 152,
   "source": [
    "model = np.poly1d(np.polyfit(wdi[\"gdppcap08\"], wdi[\"polityIV\"], 2))\n",
    "\n",
    "base = (\n",
    "    alt.Chart(wdi, title=\"Relationship between GDP per capita and the Polity IV Score\")\n",
    "    .mark_point()\n",
    "    .encode(\n",
    "        x=alt.X(\"gdppcap08\", title=\"GDP per Capita\", scale=alt.Scale(zero=False)),\n",
    "        y=alt.Y(\"polityIV\", title=\"Polity IV Democracy Score\", scale=alt.Scale(zero=False)),\n",
    "        tooltip=\"country\"\n",
    "    )\n",
    ").interactive()\n",
    "\n",
    "\n",
    "base + fit2 + text"
   ],
   "outputs": [
    {
     "output_type": "execute_result",
     "data": {
      "text/html": [
       "\n",
       "<div id=\"altair-viz-34e3c1bb6453469a9fbd35d8da1dc62e\"></div>\n",
       "<script type=\"text/javascript\">\n",
       "  (function(spec, embedOpt){\n",
       "    let outputDiv = document.currentScript.previousElementSibling;\n",
       "    if (outputDiv.id !== \"altair-viz-34e3c1bb6453469a9fbd35d8da1dc62e\") {\n",
       "      outputDiv = document.getElementById(\"altair-viz-34e3c1bb6453469a9fbd35d8da1dc62e\");\n",
       "    }\n",
       "    const paths = {\n",
       "      \"vega\": \"https://cdn.jsdelivr.net/npm//vega@5?noext\",\n",
       "      \"vega-lib\": \"https://cdn.jsdelivr.net/npm//vega-lib?noext\",\n",
       "      \"vega-lite\": \"https://cdn.jsdelivr.net/npm//vega-lite@4.8.1?noext\",\n",
       "      \"vega-embed\": \"https://cdn.jsdelivr.net/npm//vega-embed@6?noext\",\n",
       "    };\n",
       "\n",
       "    function loadScript(lib) {\n",
       "      return new Promise(function(resolve, reject) {\n",
       "        var s = document.createElement('script');\n",
       "        s.src = paths[lib];\n",
       "        s.async = true;\n",
       "        s.onload = () => resolve(paths[lib]);\n",
       "        s.onerror = () => reject(`Error loading script: ${paths[lib]}`);\n",
       "        document.getElementsByTagName(\"head\")[0].appendChild(s);\n",
       "      });\n",
       "    }\n",
       "\n",
       "    function showError(err) {\n",
       "      outputDiv.innerHTML = `<div class=\"error\" style=\"color:red;\">${err}</div>`;\n",
       "      throw err;\n",
       "    }\n",
       "\n",
       "    function displayChart(vegaEmbed) {\n",
       "      vegaEmbed(outputDiv, spec, embedOpt)\n",
       "        .catch(err => showError(`Javascript Error: ${err.message}<br>This usually means there's a typo in your chart specification. See the javascript console for the full traceback.`));\n",
       "    }\n",
       "\n",
       "    if(typeof define === \"function\" && define.amd) {\n",
       "      requirejs.config({paths});\n",
       "      require([\"vega-embed\"], displayChart, err => showError(`Error loading script: ${err.message}`));\n",
       "    } else if (typeof vegaEmbed === \"function\") {\n",
       "      displayChart(vegaEmbed);\n",
       "    } else {\n",
       "      loadScript(\"vega\")\n",
       "        .then(() => loadScript(\"vega-lite\"))\n",
       "        .then(() => loadScript(\"vega-embed\"))\n",
       "        .catch(showError)\n",
       "        .then(() => displayChart(vegaEmbed));\n",
       "    }\n",
       "  })({\"config\": {\"view\": {\"continuousWidth\": 400, \"continuousHeight\": 300}}, \"layer\": [{\"mark\": \"point\", \"encoding\": {\"tooltip\": {\"type\": \"nominal\", \"field\": \"country\"}, \"x\": {\"type\": \"quantitative\", \"field\": \"gdppcap08\", \"scale\": {\"zero\": false}, \"title\": \"GDP per Capita\"}, \"y\": {\"type\": \"quantitative\", \"field\": \"polityIV\", \"scale\": {\"zero\": false}, \"title\": \"Polity IV Democracy Score\"}}, \"selection\": {\"selector044\": {\"type\": \"interval\", \"bind\": \"scales\", \"encodings\": [\"x\", \"y\"]}}, \"title\": \"Relationship between GDP per capita and the Polity IV Score\"}, {\"mark\": \"line\", \"encoding\": {\"x\": {\"type\": \"quantitative\", \"field\": \"gdppcap08\", \"scale\": {\"zero\": false}, \"title\": \"GDP per Capita\"}, \"y\": {\"type\": \"quantitative\", \"field\": \"polityIV\", \"scale\": {\"zero\": false}, \"title\": \"Polity IV Democracy Score\"}}, \"title\": \"Relationship between GDP per capita and the Polity IV Score\", \"transform\": [{\"loess\": \"polityIV\", \"on\": \"gdppcap08\"}]}, {\"mark\": {\"type\": \"text\", \"size\": 5}, \"encoding\": {\"text\": {\"type\": \"nominal\", \"field\": \"country\"}, \"x\": {\"type\": \"quantitative\", \"field\": \"gdppcap08\", \"scale\": {\"zero\": false}}, \"y\": {\"type\": \"quantitative\", \"field\": \"polityIV\"}}}], \"data\": {\"name\": \"data-50afffcb03ca16fbefb225cc29275795\"}, \"$schema\": \"https://vega.github.io/schema/vega-lite/v4.8.1.json\", \"datasets\": {\"data-50afffcb03ca16fbefb225cc29275795\": [{\"country\": \"Albania\", \"region\": \"C&E Europe\", \"gdppcap08\": 7715, \"polityIV\": 17.8}, {\"country\": \"Algeria\", \"region\": \"Africa\", \"gdppcap08\": 8033, \"polityIV\": 10.0}, {\"country\": \"Angola\", \"region\": \"Africa\", \"gdppcap08\": 5899, \"polityIV\": 8.0}, {\"country\": \"Argentina\", \"region\": \"S. America\", \"gdppcap08\": 14333, \"polityIV\": 18.0}, {\"country\": \"Armenia\", \"region\": \"C&E Europe\", \"gdppcap08\": 6070, \"polityIV\": 15.0}, {\"country\": \"Australia\", \"region\": \"Asia-Pacific\", \"gdppcap08\": 35677, \"polityIV\": 20.0}, {\"country\": \"Austria\", \"region\": \"W. Europe\", \"gdppcap08\": 38152, \"polityIV\": 20.0}, {\"country\": \"Azerbaijan\", \"region\": \"C&E Europe\", \"gdppcap08\": 8765, \"polityIV\": 3.0}, {\"country\": \"Bahrain\", \"region\": \"Middle East\", \"gdppcap08\": 34605, \"polityIV\": 3.0}, {\"country\": \"Bangladesh\", \"region\": \"Asia-Pacific\", \"gdppcap08\": 1334, \"polityIV\": 16.0}, {\"country\": \"Belarus\", \"region\": \"C&E Europe\", \"gdppcap08\": 12261, \"polityIV\": 3.0}, {\"country\": \"Belgium\", \"region\": \"W. Europe\", \"gdppcap08\": 34493, \"polityIV\": 20.0}, {\"country\": \"Benin\", \"region\": \"Africa\", \"gdppcap08\": 1468, \"polityIV\": 16.2}, {\"country\": \"Bhutan\", \"region\": \"Asia-Pacific\", \"gdppcap08\": 4755, \"polityIV\": 2.0}, {\"country\": \"Bolivia\", \"region\": \"S. America\", \"gdppcap08\": 4278, \"polityIV\": 18.2}, {\"country\": \"Botswana\", \"region\": \"Africa\", \"gdppcap08\": 13392, \"polityIV\": 19.0}, {\"country\": \"Brazil\", \"region\": \"S. America\", \"gdppcap08\": 10296, \"polityIV\": 18.0}, {\"country\": \"Bulgaria\", \"region\": \"C&E Europe\", \"gdppcap08\": 12393, \"polityIV\": 19.0}, {\"country\": \"Burkina Faso\", \"region\": \"Africa\", \"gdppcap08\": 1161, \"polityIV\": 10.0}, {\"country\": \"Cambodia\", \"region\": \"Asia-Pacific\", \"gdppcap08\": 1905, \"polityIV\": 12.0}, {\"country\": \"Cameroon\", \"region\": \"Africa\", \"gdppcap08\": 2215, \"polityIV\": 6.0}, {\"country\": \"Canada\", \"region\": \"N. America\", \"gdppcap08\": 36444, \"polityIV\": 20.0}, {\"country\": \"Central African Republic\", \"region\": \"Africa\", \"gdppcap08\": 736, \"polityIV\": 10.2}, {\"country\": \"Chad\", \"region\": \"Africa\", \"gdppcap08\": 1455, \"polityIV\": 8.0}, {\"country\": \"Chile\", \"region\": \"S. America\", \"gdppcap08\": 14465, \"polityIV\": 19.2}, {\"country\": \"China\", \"region\": \"Asia-Pacific\", \"gdppcap08\": 5962, \"polityIV\": 3.0}, {\"country\": \"Colombia\", \"region\": \"S. America\", \"gdppcap08\": 8885, \"polityIV\": 17.0}, {\"country\": \"Comoros\", \"region\": \"Africa\", \"gdppcap08\": 1169, \"polityIV\": 15.8}, {\"country\": \"Congo Brazzaville\", \"region\": \"Africa\", \"gdppcap08\": 3946, \"polityIV\": 6.0}, {\"country\": \"Congo Kinshasa\", \"region\": \"Africa\", \"gdppcap08\": 321, \"polityIV\": 15.0}, {\"country\": \"Costa Rica\", \"region\": \"S. America\", \"gdppcap08\": 11241, \"polityIV\": 20.0}, {\"country\": \"Croatia\", \"region\": \"C&E Europe\", \"gdppcap08\": 19084, \"polityIV\": 18.4}, {\"country\": \"Cuba\", \"region\": \"S. America\", \"gdppcap08\": 9500, \"polityIV\": 3.0}, {\"country\": \"Czech Republic\", \"region\": \"C&E Europe\", \"gdppcap08\": 24712, \"polityIV\": 20.0}, {\"country\": \"Denmark\", \"region\": \"Scandinavia\", \"gdppcap08\": 36607, \"polityIV\": 20.0}, {\"country\": \"Djibouti\", \"region\": \"Africa\", \"gdppcap08\": 2140, \"polityIV\": 12.0}, {\"country\": \"Ecuador\", \"region\": \"S. America\", \"gdppcap08\": 8009, \"polityIV\": 16.2}, {\"country\": \"Egypt\", \"region\": \"Middle East\", \"gdppcap08\": 5416, \"polityIV\": 4.0}, {\"country\": \"El Salvador\", \"region\": \"S. America\", \"gdppcap08\": 6794, \"polityIV\": 17.0}, {\"country\": \"Equatorial Guinea\", \"region\": \"Africa\", \"gdppcap08\": 33873, \"polityIV\": 5.0}, {\"country\": \"Eritrea\", \"region\": \"Africa\", \"gdppcap08\": 632, \"polityIV\": 3.0}, {\"country\": \"Estonia\", \"region\": \"C&E Europe\", \"gdppcap08\": 20662, \"polityIV\": 16.0}, {\"country\": \"Fiji\", \"region\": \"Asia-Pacific\", \"gdppcap08\": 4382, \"polityIV\": 13.8}, {\"country\": \"Finland\", \"region\": \"Scandinavia\", \"gdppcap08\": 35427, \"polityIV\": 20.0}, {\"country\": \"France\", \"region\": \"W. Europe\", \"gdppcap08\": 34045, \"polityIV\": 19.0}, {\"country\": \"Gabon\", \"region\": \"Africa\", \"gdppcap08\": 14527, \"polityIV\": 6.0}, {\"country\": \"Gambia\", \"region\": \"Africa\", \"gdppcap08\": 1363, \"polityIV\": 5.0}, {\"country\": \"Georgia\", \"region\": \"C&E Europe\", \"gdppcap08\": 4896, \"polityIV\": 15.666667}, {\"country\": \"Germany\", \"region\": \"W. Europe\", \"gdppcap08\": 35613, \"polityIV\": 20.0}, {\"country\": \"Ghana\", \"region\": \"Africa\", \"gdppcap08\": 1452, \"polityIV\": 16.666667}, {\"country\": \"Greece\", \"region\": \"W. Europe\", \"gdppcap08\": 29361, \"polityIV\": 20.0}, {\"country\": \"Guatemala\", \"region\": \"S. America\", \"gdppcap08\": 4760, \"polityIV\": 18.0}, {\"country\": \"Guinea\", \"region\": \"Africa\", \"gdppcap08\": 1204, \"polityIV\": 9.0}, {\"country\": \"Guinea-Bissau\", \"region\": \"Africa\", \"gdppcap08\": 538, \"polityIV\": 11.0}, {\"country\": \"Guyana\", \"region\": \"S. America\", \"gdppcap08\": 2542, \"polityIV\": 16.0}, {\"country\": \"Haiti\", \"region\": \"S. America\", \"gdppcap08\": 1177, \"polityIV\": 8.0}, {\"country\": \"Honduras\", \"region\": \"S. America\", \"gdppcap08\": 3965, \"polityIV\": 17.0}, {\"country\": \"Hungary\", \"region\": \"C&E Europe\", \"gdppcap08\": 19330, \"polityIV\": 20.0}, {\"country\": \"India\", \"region\": \"Asia-Pacific\", \"gdppcap08\": 2972, \"polityIV\": 19.0}, {\"country\": \"Indonesia\", \"region\": \"Asia-Pacific\", \"gdppcap08\": 3975, \"polityIV\": 16.666667}, {\"country\": \"Iran\", \"region\": \"Middle East\", \"gdppcap08\": 11666, \"polityIV\": 10.0}, {\"country\": \"Iraq\", \"region\": \"Middle East\", \"gdppcap08\": 3570, \"polityIV\": 1.0}, {\"country\": \"Ireland\", \"region\": \"W. Europe\", \"gdppcap08\": 44200, \"polityIV\": 20.0}, {\"country\": \"Israel\", \"region\": \"Middle East\", \"gdppcap08\": 27548, \"polityIV\": 20.0}, {\"country\": \"Italy\", \"region\": \"W. Europe\", \"gdppcap08\": 30756, \"polityIV\": 20.0}, {\"country\": \"Jamaica\", \"region\": \"S. America\", \"gdppcap08\": 7705, \"polityIV\": 19.0}, {\"country\": \"Japan\", \"region\": \"Asia-Pacific\", \"gdppcap08\": 34099, \"polityIV\": 20.0}, {\"country\": \"Jordan\", \"region\": \"Middle East\", \"gdppcap08\": 5283, \"polityIV\": 8.0}, {\"country\": \"Kazakhstan\", \"region\": \"C&E Europe\", \"gdppcap08\": 11315, \"polityIV\": 4.0}, {\"country\": \"Kenya\", \"region\": \"Africa\", \"gdppcap08\": 1590, \"polityIV\": 18.0}, {\"country\": \"Korea South\", \"region\": \"Asia-Pacific\", \"gdppcap08\": 27939, \"polityIV\": 18.0}, {\"country\": \"Kuwait\", \"region\": \"Middle East\", \"gdppcap08\": 39914, \"polityIV\": 3.0}, {\"country\": \"Kyrgyzstan\", \"region\": \"C&E Europe\", \"gdppcap08\": 2188, \"polityIV\": 7.0}, {\"country\": \"Laos\", \"region\": \"Asia-Pacific\", \"gdppcap08\": 2134, \"polityIV\": 3.0}, {\"country\": \"Latvia\", \"region\": \"C&E Europe\", \"gdppcap08\": 17100, \"polityIV\": 18.0}, {\"country\": \"Lesotho\", \"region\": \"Africa\", \"gdppcap08\": 1588, \"polityIV\": 18.0}, {\"country\": \"Liberia\", \"region\": \"Africa\", \"gdppcap08\": 388, \"polityIV\": 10.0}, {\"country\": \"Libya\", \"region\": \"Middle East\", \"gdppcap08\": 15402, \"polityIV\": 3.0}, {\"country\": \"Lithuania\", \"region\": \"C&E Europe\", \"gdppcap08\": 18824, \"polityIV\": 20.0}, {\"country\": \"Macedonia\", \"region\": \"C&E Europe\", \"gdppcap08\": 10041, \"polityIV\": 19.0}, {\"country\": \"Madagascar\", \"region\": \"Africa\", \"gdppcap08\": 1049, \"polityIV\": 17.0}, {\"country\": \"Malawi\", \"region\": \"Africa\", \"gdppcap08\": 837, \"polityIV\": 15.0}, {\"country\": \"Malaysia\", \"region\": \"Asia-Pacific\", \"gdppcap08\": 14215, \"polityIV\": 13.0}, {\"country\": \"Mali\", \"region\": \"Africa\", \"gdppcap08\": 1128, \"polityIV\": 16.0}, {\"country\": \"Mauritania\", \"region\": \"Africa\", \"gdppcap08\": 2052, \"polityIV\": 4.0}, {\"country\": \"Mauritius\", \"region\": \"Africa\", \"gdppcap08\": 12079, \"polityIV\": 20.0}, {\"country\": \"Mexico\", \"region\": \"N. America\", \"gdppcap08\": 14495, \"polityIV\": 18.0}, {\"country\": \"Moldova\", \"region\": \"C&E Europe\", \"gdppcap08\": 2925, \"polityIV\": 18.0}, {\"country\": \"Mongolia\", \"region\": \"Asia-Pacific\", \"gdppcap08\": 3566, \"polityIV\": 20.0}, {\"country\": \"Morocco\", \"region\": \"Middle East\", \"gdppcap08\": 4388, \"polityIV\": 4.0}, {\"country\": \"Mozambique\", \"region\": \"Africa\", \"gdppcap08\": 855, \"polityIV\": 16.0}, {\"country\": \"Namibia\", \"region\": \"Africa\", \"gdppcap08\": 6343, \"polityIV\": 16.0}, {\"country\": \"Nepal\", \"region\": \"Asia-Pacific\", \"gdppcap08\": 1112, \"polityIV\": 4.0}, {\"country\": \"Netherlands\", \"region\": \"W. Europe\", \"gdppcap08\": 40849, \"polityIV\": 20.0}, {\"country\": \"New Zealand\", \"region\": \"Asia-Pacific\", \"gdppcap08\": 27029, \"polityIV\": 20.0}, {\"country\": \"Nicaragua\", \"region\": \"S. America\", \"gdppcap08\": 2682, \"polityIV\": 18.0}, {\"country\": \"Niger\", \"region\": \"Africa\", \"gdppcap08\": 684, \"polityIV\": 15.333333}, {\"country\": \"Nigeria\", \"region\": \"Africa\", \"gdppcap08\": 2082, \"polityIV\": 14.0}, {\"country\": \"Norway\", \"region\": \"Scandinavia\", \"gdppcap08\": 58138, \"polityIV\": 20.0}, {\"country\": \"Oman\", \"region\": \"Middle East\", \"gdppcap08\": 22478, \"polityIV\": 2.0}, {\"country\": \"Pakistan\", \"region\": \"Asia-Pacific\", \"gdppcap08\": 2644, \"polityIV\": 5.0}, {\"country\": \"Papua New Guinea\", \"region\": \"Asia-Pacific\", \"gdppcap08\": 2208, \"polityIV\": 20.0}, {\"country\": \"Paraguay\", \"region\": \"S. America\", \"gdppcap08\": 4709, \"polityIV\": 17.666667}, {\"country\": \"Peru\", \"region\": \"S. America\", \"gdppcap08\": 8507, \"polityIV\": 19.0}, {\"country\": \"Philippines\", \"region\": \"Asia-Pacific\", \"gdppcap08\": 3510, \"polityIV\": 18.0}, {\"country\": \"Poland\", \"region\": \"C&E Europe\", \"gdppcap08\": 17625, \"polityIV\": 20.0}, {\"country\": \"Portugal\", \"region\": \"W. Europe\", \"gdppcap08\": 23074, \"polityIV\": 20.0}, {\"country\": \"Qatar\", \"region\": \"Middle East\", \"gdppcap08\": 85868, \"polityIV\": 0.0}, {\"country\": \"Romania\", \"region\": \"C&E Europe\", \"gdppcap08\": 14065, \"polityIV\": 18.333333}, {\"country\": \"Russia\", \"region\": \"C&E Europe\", \"gdppcap08\": 16139, \"polityIV\": 17.0}, {\"country\": \"Rwanda\", \"region\": \"Africa\", \"gdppcap08\": 1022, \"polityIV\": 6.6666667}, {\"country\": \"Saudi Arabia\", \"region\": \"Middle East\", \"gdppcap08\": 23920, \"polityIV\": 0.0}, {\"country\": \"Senegal\", \"region\": \"Africa\", \"gdppcap08\": 1772, \"polityIV\": 18.0}, {\"country\": \"Sierra Leone\", \"region\": \"Africa\", \"gdppcap08\": 766, \"polityIV\": 15.0}, {\"country\": \"Singapore\", \"region\": \"Asia-Pacific\", \"gdppcap08\": 49284, \"polityIV\": 8.0}, {\"country\": \"Slovakia\", \"region\": \"C&E Europe\", \"gdppcap08\": 22081, \"polityIV\": 19.0}, {\"country\": \"Slovenia\", \"region\": \"C&E Europe\", \"gdppcap08\": 27605, \"polityIV\": 20.0}, {\"country\": \"Solomon Islands\", \"region\": \"Asia-Pacific\", \"gdppcap08\": 2610, \"polityIV\": 18.0}, {\"country\": \"South Africa\", \"region\": \"Africa\", \"gdppcap08\": 10109, \"polityIV\": 19.0}, {\"country\": \"Spain\", \"region\": \"W. Europe\", \"gdppcap08\": 31954, \"polityIV\": 20.0}, {\"country\": \"Sri Lanka\", \"region\": \"Asia-Pacific\", \"gdppcap08\": 4560, \"polityIV\": 15.333333}, {\"country\": \"Sudan\", \"region\": \"Africa\", \"gdppcap08\": 2153, \"polityIV\": 4.0}, {\"country\": \"Swaziland\", \"region\": \"Africa\", \"gdppcap08\": 4928, \"polityIV\": 1.0}, {\"country\": \"Sweden\", \"region\": \"Scandinavia\", \"gdppcap08\": 37383, \"polityIV\": 20.0}, {\"country\": \"Switzerland\", \"region\": \"W. Europe\", \"gdppcap08\": 42536, \"polityIV\": 20.0}, {\"country\": \"Taiwan\", \"region\": \"Asia-Pacific\", \"gdppcap08\": 30881, \"polityIV\": 19.333333}, {\"country\": \"Tajikistan\", \"region\": \"C&E Europe\", \"gdppcap08\": 1906, \"polityIV\": 7.6666667}, {\"country\": \"Tanzania\", \"region\": \"Africa\", \"gdppcap08\": 1263, \"polityIV\": 11.0}, {\"country\": \"Thailand\", \"region\": \"Asia-Pacific\", \"gdppcap08\": 7703, \"polityIV\": 19.0}, {\"country\": \"Togo\", \"region\": \"Africa\", \"gdppcap08\": 829, \"polityIV\": 8.0}, {\"country\": \"Tunisia\", \"region\": \"Middle East\", \"gdppcap08\": 7996, \"polityIV\": 6.0}, {\"country\": \"Turkey\", \"region\": \"Middle East\", \"gdppcap08\": 13920, \"polityIV\": 17.0}, {\"country\": \"Turkmenistan\", \"region\": \"C&E Europe\", \"gdppcap08\": 6641, \"polityIV\": 1.0}, {\"country\": \"UAE\", \"region\": \"Middle East\", \"gdppcap08\": 38830, \"polityIV\": 2.0}, {\"country\": \"Uganda\", \"region\": \"Africa\", \"gdppcap08\": 1165, \"polityIV\": 6.0}, {\"country\": \"Ukraine\", \"region\": \"C&E Europe\", \"gdppcap08\": 7271, \"polityIV\": 16.0}, {\"country\": \"United Kingdom\", \"region\": \"W. Europe\", \"gdppcap08\": 35445, \"polityIV\": 20.0}, {\"country\": \"United States\", \"region\": \"N. America\", \"gdppcap08\": 46716, \"polityIV\": 20.0}, {\"country\": \"Uruguay\", \"region\": \"S. America\", \"gdppcap08\": 12734, \"polityIV\": 20.0}, {\"country\": \"Uzbekistan\", \"region\": \"C&E Europe\", \"gdppcap08\": 2656, \"polityIV\": 1.0}, {\"country\": \"Venezuela\", \"region\": \"S. America\", \"gdppcap08\": 12804, \"polityIV\": 16.0}, {\"country\": \"Vietnam\", \"region\": \"Asia-Pacific\", \"gdppcap08\": 2785, \"polityIV\": 3.0}, {\"country\": \"Yemen\", \"region\": \"Middle East\", \"gdppcap08\": 2400, \"polityIV\": 8.0}, {\"country\": \"Zambia\", \"region\": \"Africa\", \"gdppcap08\": 1356, \"polityIV\": 15.0}, {\"country\": \"Zimbabwe\", \"region\": \"Africa\", \"gdppcap08\": 188, \"polityIV\": 6.0}]}}, {\"mode\": \"vega-lite\"});\n",
       "</script>"
      ],
      "text/plain": [
       "alt.LayerChart(...)"
      ]
     },
     "metadata": {},
     "execution_count": 152
    }
   ],
   "metadata": {}
  },
  {
   "cell_type": "markdown",
   "source": [
    "- The outlier is Qatar. Other states that are very low on Polity IV scores but high in GDP per capita are: UAE, Kuwait, Oman and Bahrain. This makes me think of the Resource Curse. "
   ],
   "metadata": {}
  },
  {
   "cell_type": "markdown",
   "source": [
    "---\n",
    "### Exercise 9\n",
    "Let’s see what happens if we exclude the ten countries with the highest per-capita oil production from our data: Qatar, Kuwait, Equatorial Guinea, United Arab Emirates, Norway, Saudi Arabia, Libya, Oman, Gabon, and Angola."
   ],
   "metadata": {}
  },
  {
   "cell_type": "code",
   "execution_count": 153,
   "source": [
    "print(\"Dropping Outliers\")\n",
    "sub_wdi = wdi[wdi.country != \"Qatar\" ]\n",
    "sub_wdi = sub_wdi[sub_wdi.country != \"Kuwait\"]\n",
    "sub_wdi = sub_wdi[sub_wdi.country != \"Equatorial Guinea\"]\n",
    "sub_wdi = sub_wdi[sub_wdi.country != \"UAE\"]\n",
    "sub_wdi = sub_wdi[sub_wdi.country != \"Norway\"]\n",
    "sub_wdi = sub_wdi[sub_wdi.country != \"Saudi Arabia\"]\n",
    "sub_wdi = sub_wdi[sub_wdi.country != \"Libya\"]\n",
    "sub_wdi = sub_wdi[sub_wdi.country != \"Oman\"]\n",
    "sub_wdi = sub_wdi[sub_wdi.country != \"Gabon\"]\n",
    "sub_wdi = sub_wdi[sub_wdi.country != \"Angola\"]\n",
    "sub_wdi\n"
   ],
   "outputs": [
    {
     "output_type": "stream",
     "name": "stdout",
     "text": [
      "Dropping Outliers\n"
     ]
    },
    {
     "output_type": "execute_result",
     "data": {
      "text/html": [
       "<div>\n",
       "<style scoped>\n",
       "    .dataframe tbody tr th:only-of-type {\n",
       "        vertical-align: middle;\n",
       "    }\n",
       "\n",
       "    .dataframe tbody tr th {\n",
       "        vertical-align: top;\n",
       "    }\n",
       "\n",
       "    .dataframe thead th {\n",
       "        text-align: right;\n",
       "    }\n",
       "</style>\n",
       "<table border=\"1\" class=\"dataframe\">\n",
       "  <thead>\n",
       "    <tr style=\"text-align: right;\">\n",
       "      <th></th>\n",
       "      <th>country</th>\n",
       "      <th>region</th>\n",
       "      <th>gdppcap08</th>\n",
       "      <th>polityIV</th>\n",
       "    </tr>\n",
       "  </thead>\n",
       "  <tbody>\n",
       "    <tr>\n",
       "      <th>0</th>\n",
       "      <td>Albania</td>\n",
       "      <td>C&amp;E Europe</td>\n",
       "      <td>7715</td>\n",
       "      <td>17.8</td>\n",
       "    </tr>\n",
       "    <tr>\n",
       "      <th>1</th>\n",
       "      <td>Algeria</td>\n",
       "      <td>Africa</td>\n",
       "      <td>8033</td>\n",
       "      <td>10.0</td>\n",
       "    </tr>\n",
       "    <tr>\n",
       "      <th>3</th>\n",
       "      <td>Argentina</td>\n",
       "      <td>S. America</td>\n",
       "      <td>14333</td>\n",
       "      <td>18.0</td>\n",
       "    </tr>\n",
       "    <tr>\n",
       "      <th>4</th>\n",
       "      <td>Armenia</td>\n",
       "      <td>C&amp;E Europe</td>\n",
       "      <td>6070</td>\n",
       "      <td>15.0</td>\n",
       "    </tr>\n",
       "    <tr>\n",
       "      <th>5</th>\n",
       "      <td>Australia</td>\n",
       "      <td>Asia-Pacific</td>\n",
       "      <td>35677</td>\n",
       "      <td>20.0</td>\n",
       "    </tr>\n",
       "    <tr>\n",
       "      <th>...</th>\n",
       "      <td>...</td>\n",
       "      <td>...</td>\n",
       "      <td>...</td>\n",
       "      <td>...</td>\n",
       "    </tr>\n",
       "    <tr>\n",
       "      <th>140</th>\n",
       "      <td>Venezuela</td>\n",
       "      <td>S. America</td>\n",
       "      <td>12804</td>\n",
       "      <td>16.0</td>\n",
       "    </tr>\n",
       "    <tr>\n",
       "      <th>141</th>\n",
       "      <td>Vietnam</td>\n",
       "      <td>Asia-Pacific</td>\n",
       "      <td>2785</td>\n",
       "      <td>3.0</td>\n",
       "    </tr>\n",
       "    <tr>\n",
       "      <th>142</th>\n",
       "      <td>Yemen</td>\n",
       "      <td>Middle East</td>\n",
       "      <td>2400</td>\n",
       "      <td>8.0</td>\n",
       "    </tr>\n",
       "    <tr>\n",
       "      <th>143</th>\n",
       "      <td>Zambia</td>\n",
       "      <td>Africa</td>\n",
       "      <td>1356</td>\n",
       "      <td>15.0</td>\n",
       "    </tr>\n",
       "    <tr>\n",
       "      <th>144</th>\n",
       "      <td>Zimbabwe</td>\n",
       "      <td>Africa</td>\n",
       "      <td>188</td>\n",
       "      <td>6.0</td>\n",
       "    </tr>\n",
       "  </tbody>\n",
       "</table>\n",
       "<p>135 rows × 4 columns</p>\n",
       "</div>"
      ],
      "text/plain": [
       "       country        region  gdppcap08  polityIV\n",
       "0      Albania    C&E Europe       7715      17.8\n",
       "1      Algeria        Africa       8033      10.0\n",
       "3    Argentina    S. America      14333      18.0\n",
       "4      Armenia    C&E Europe       6070      15.0\n",
       "5    Australia  Asia-Pacific      35677      20.0\n",
       "..         ...           ...        ...       ...\n",
       "140  Venezuela    S. America      12804      16.0\n",
       "141    Vietnam  Asia-Pacific       2785       3.0\n",
       "142      Yemen   Middle East       2400       8.0\n",
       "143     Zambia        Africa       1356      15.0\n",
       "144   Zimbabwe        Africa        188       6.0\n",
       "\n",
       "[135 rows x 4 columns]"
      ]
     },
     "metadata": {},
     "execution_count": 153
    }
   ],
   "metadata": {}
  },
  {
   "cell_type": "markdown",
   "source": [
    "What does the relationship between Polity and GDP per capita look like for non-natural resource producers?"
   ],
   "metadata": {}
  },
  {
   "cell_type": "code",
   "execution_count": 154,
   "source": [
    "base = (\n",
    "    alt.Chart(sub_wdi, title=\"Relationship between GDP per capita and the Polity IV Score\")\n",
    "    .mark_point()\n",
    "    .encode(\n",
    "        x=alt.X(\"gdppcap08\", title=\"GDP per Capita\", scale=alt.Scale(zero=False)),\n",
    "        y=alt.Y(\"polityIV\", title=\"Polity IV Democracy Score\", scale=alt.Scale(zero=False)),\n",
    "        tooltip=\"country\"\n",
    ").interactive()\n",
    ")\n",
    "\n",
    "text = (alt.Chart(sub_wdi)\n",
    "    .encode(\n",
    "        x=alt.X(\"gdppcap08\", scale=alt.Scale(zero=False)),\n",
    "        y=\"polityIV\",\n",
    "        text=\"country\"\n",
    "    )\n",
    "    .mark_text(size=5))\n",
    "\n",
    "print(\"Fitting a loess\")\n",
    "base + fit2 + text\n"
   ],
   "outputs": [
    {
     "output_type": "stream",
     "name": "stdout",
     "text": [
      "Fitting a loess\n"
     ]
    },
    {
     "output_type": "execute_result",
     "data": {
      "text/html": [
       "\n",
       "<div id=\"altair-viz-55b56f4f633d4979b65d469338ea4414\"></div>\n",
       "<script type=\"text/javascript\">\n",
       "  (function(spec, embedOpt){\n",
       "    let outputDiv = document.currentScript.previousElementSibling;\n",
       "    if (outputDiv.id !== \"altair-viz-55b56f4f633d4979b65d469338ea4414\") {\n",
       "      outputDiv = document.getElementById(\"altair-viz-55b56f4f633d4979b65d469338ea4414\");\n",
       "    }\n",
       "    const paths = {\n",
       "      \"vega\": \"https://cdn.jsdelivr.net/npm//vega@5?noext\",\n",
       "      \"vega-lib\": \"https://cdn.jsdelivr.net/npm//vega-lib?noext\",\n",
       "      \"vega-lite\": \"https://cdn.jsdelivr.net/npm//vega-lite@4.8.1?noext\",\n",
       "      \"vega-embed\": \"https://cdn.jsdelivr.net/npm//vega-embed@6?noext\",\n",
       "    };\n",
       "\n",
       "    function loadScript(lib) {\n",
       "      return new Promise(function(resolve, reject) {\n",
       "        var s = document.createElement('script');\n",
       "        s.src = paths[lib];\n",
       "        s.async = true;\n",
       "        s.onload = () => resolve(paths[lib]);\n",
       "        s.onerror = () => reject(`Error loading script: ${paths[lib]}`);\n",
       "        document.getElementsByTagName(\"head\")[0].appendChild(s);\n",
       "      });\n",
       "    }\n",
       "\n",
       "    function showError(err) {\n",
       "      outputDiv.innerHTML = `<div class=\"error\" style=\"color:red;\">${err}</div>`;\n",
       "      throw err;\n",
       "    }\n",
       "\n",
       "    function displayChart(vegaEmbed) {\n",
       "      vegaEmbed(outputDiv, spec, embedOpt)\n",
       "        .catch(err => showError(`Javascript Error: ${err.message}<br>This usually means there's a typo in your chart specification. See the javascript console for the full traceback.`));\n",
       "    }\n",
       "\n",
       "    if(typeof define === \"function\" && define.amd) {\n",
       "      requirejs.config({paths});\n",
       "      require([\"vega-embed\"], displayChart, err => showError(`Error loading script: ${err.message}`));\n",
       "    } else if (typeof vegaEmbed === \"function\") {\n",
       "      displayChart(vegaEmbed);\n",
       "    } else {\n",
       "      loadScript(\"vega\")\n",
       "        .then(() => loadScript(\"vega-lite\"))\n",
       "        .then(() => loadScript(\"vega-embed\"))\n",
       "        .catch(showError)\n",
       "        .then(() => displayChart(vegaEmbed));\n",
       "    }\n",
       "  })({\"config\": {\"view\": {\"continuousWidth\": 400, \"continuousHeight\": 300}}, \"layer\": [{\"data\": {\"name\": \"data-d91bf56d9048b38e8e68f627ad6e98f1\"}, \"mark\": \"point\", \"encoding\": {\"tooltip\": {\"type\": \"nominal\", \"field\": \"country\"}, \"x\": {\"type\": \"quantitative\", \"field\": \"gdppcap08\", \"scale\": {\"zero\": false}, \"title\": \"GDP per Capita\"}, \"y\": {\"type\": \"quantitative\", \"field\": \"polityIV\", \"scale\": {\"zero\": false}, \"title\": \"Polity IV Democracy Score\"}}, \"selection\": {\"selector045\": {\"type\": \"interval\", \"bind\": \"scales\", \"encodings\": [\"x\", \"y\"]}}, \"title\": \"Relationship between GDP per capita and the Polity IV Score\"}, {\"data\": {\"name\": \"data-50afffcb03ca16fbefb225cc29275795\"}, \"mark\": \"line\", \"encoding\": {\"x\": {\"type\": \"quantitative\", \"field\": \"gdppcap08\", \"scale\": {\"zero\": false}, \"title\": \"GDP per Capita\"}, \"y\": {\"type\": \"quantitative\", \"field\": \"polityIV\", \"scale\": {\"zero\": false}, \"title\": \"Polity IV Democracy Score\"}}, \"title\": \"Relationship between GDP per capita and the Polity IV Score\", \"transform\": [{\"loess\": \"polityIV\", \"on\": \"gdppcap08\"}]}, {\"data\": {\"name\": \"data-d91bf56d9048b38e8e68f627ad6e98f1\"}, \"mark\": {\"type\": \"text\", \"size\": 5}, \"encoding\": {\"text\": {\"type\": \"nominal\", \"field\": \"country\"}, \"x\": {\"type\": \"quantitative\", \"field\": \"gdppcap08\", \"scale\": {\"zero\": false}}, \"y\": {\"type\": \"quantitative\", \"field\": \"polityIV\"}}}], \"$schema\": \"https://vega.github.io/schema/vega-lite/v4.8.1.json\", \"datasets\": {\"data-d91bf56d9048b38e8e68f627ad6e98f1\": [{\"country\": \"Albania\", \"region\": \"C&E Europe\", \"gdppcap08\": 7715, \"polityIV\": 17.8}, {\"country\": \"Algeria\", \"region\": \"Africa\", \"gdppcap08\": 8033, \"polityIV\": 10.0}, {\"country\": \"Argentina\", \"region\": \"S. America\", \"gdppcap08\": 14333, \"polityIV\": 18.0}, {\"country\": \"Armenia\", \"region\": \"C&E Europe\", \"gdppcap08\": 6070, \"polityIV\": 15.0}, {\"country\": \"Australia\", \"region\": \"Asia-Pacific\", \"gdppcap08\": 35677, \"polityIV\": 20.0}, {\"country\": \"Austria\", \"region\": \"W. Europe\", \"gdppcap08\": 38152, \"polityIV\": 20.0}, {\"country\": \"Azerbaijan\", \"region\": \"C&E Europe\", \"gdppcap08\": 8765, \"polityIV\": 3.0}, {\"country\": \"Bahrain\", \"region\": \"Middle East\", \"gdppcap08\": 34605, \"polityIV\": 3.0}, {\"country\": \"Bangladesh\", \"region\": \"Asia-Pacific\", \"gdppcap08\": 1334, \"polityIV\": 16.0}, {\"country\": \"Belarus\", \"region\": \"C&E Europe\", \"gdppcap08\": 12261, \"polityIV\": 3.0}, {\"country\": \"Belgium\", \"region\": \"W. Europe\", \"gdppcap08\": 34493, \"polityIV\": 20.0}, {\"country\": \"Benin\", \"region\": \"Africa\", \"gdppcap08\": 1468, \"polityIV\": 16.2}, {\"country\": \"Bhutan\", \"region\": \"Asia-Pacific\", \"gdppcap08\": 4755, \"polityIV\": 2.0}, {\"country\": \"Bolivia\", \"region\": \"S. America\", \"gdppcap08\": 4278, \"polityIV\": 18.2}, {\"country\": \"Botswana\", \"region\": \"Africa\", \"gdppcap08\": 13392, \"polityIV\": 19.0}, {\"country\": \"Brazil\", \"region\": \"S. America\", \"gdppcap08\": 10296, \"polityIV\": 18.0}, {\"country\": \"Bulgaria\", \"region\": \"C&E Europe\", \"gdppcap08\": 12393, \"polityIV\": 19.0}, {\"country\": \"Burkina Faso\", \"region\": \"Africa\", \"gdppcap08\": 1161, \"polityIV\": 10.0}, {\"country\": \"Cambodia\", \"region\": \"Asia-Pacific\", \"gdppcap08\": 1905, \"polityIV\": 12.0}, {\"country\": \"Cameroon\", \"region\": \"Africa\", \"gdppcap08\": 2215, \"polityIV\": 6.0}, {\"country\": \"Canada\", \"region\": \"N. America\", \"gdppcap08\": 36444, \"polityIV\": 20.0}, {\"country\": \"Central African Republic\", \"region\": \"Africa\", \"gdppcap08\": 736, \"polityIV\": 10.2}, {\"country\": \"Chad\", \"region\": \"Africa\", \"gdppcap08\": 1455, \"polityIV\": 8.0}, {\"country\": \"Chile\", \"region\": \"S. America\", \"gdppcap08\": 14465, \"polityIV\": 19.2}, {\"country\": \"China\", \"region\": \"Asia-Pacific\", \"gdppcap08\": 5962, \"polityIV\": 3.0}, {\"country\": \"Colombia\", \"region\": \"S. America\", \"gdppcap08\": 8885, \"polityIV\": 17.0}, {\"country\": \"Comoros\", \"region\": \"Africa\", \"gdppcap08\": 1169, \"polityIV\": 15.8}, {\"country\": \"Congo Brazzaville\", \"region\": \"Africa\", \"gdppcap08\": 3946, \"polityIV\": 6.0}, {\"country\": \"Congo Kinshasa\", \"region\": \"Africa\", \"gdppcap08\": 321, \"polityIV\": 15.0}, {\"country\": \"Costa Rica\", \"region\": \"S. America\", \"gdppcap08\": 11241, \"polityIV\": 20.0}, {\"country\": \"Croatia\", \"region\": \"C&E Europe\", \"gdppcap08\": 19084, \"polityIV\": 18.4}, {\"country\": \"Cuba\", \"region\": \"S. America\", \"gdppcap08\": 9500, \"polityIV\": 3.0}, {\"country\": \"Czech Republic\", \"region\": \"C&E Europe\", \"gdppcap08\": 24712, \"polityIV\": 20.0}, {\"country\": \"Denmark\", \"region\": \"Scandinavia\", \"gdppcap08\": 36607, \"polityIV\": 20.0}, {\"country\": \"Djibouti\", \"region\": \"Africa\", \"gdppcap08\": 2140, \"polityIV\": 12.0}, {\"country\": \"Ecuador\", \"region\": \"S. America\", \"gdppcap08\": 8009, \"polityIV\": 16.2}, {\"country\": \"Egypt\", \"region\": \"Middle East\", \"gdppcap08\": 5416, \"polityIV\": 4.0}, {\"country\": \"El Salvador\", \"region\": \"S. America\", \"gdppcap08\": 6794, \"polityIV\": 17.0}, {\"country\": \"Eritrea\", \"region\": \"Africa\", \"gdppcap08\": 632, \"polityIV\": 3.0}, {\"country\": \"Estonia\", \"region\": \"C&E Europe\", \"gdppcap08\": 20662, \"polityIV\": 16.0}, {\"country\": \"Fiji\", \"region\": \"Asia-Pacific\", \"gdppcap08\": 4382, \"polityIV\": 13.8}, {\"country\": \"Finland\", \"region\": \"Scandinavia\", \"gdppcap08\": 35427, \"polityIV\": 20.0}, {\"country\": \"France\", \"region\": \"W. Europe\", \"gdppcap08\": 34045, \"polityIV\": 19.0}, {\"country\": \"Gambia\", \"region\": \"Africa\", \"gdppcap08\": 1363, \"polityIV\": 5.0}, {\"country\": \"Georgia\", \"region\": \"C&E Europe\", \"gdppcap08\": 4896, \"polityIV\": 15.666667}, {\"country\": \"Germany\", \"region\": \"W. Europe\", \"gdppcap08\": 35613, \"polityIV\": 20.0}, {\"country\": \"Ghana\", \"region\": \"Africa\", \"gdppcap08\": 1452, \"polityIV\": 16.666667}, {\"country\": \"Greece\", \"region\": \"W. Europe\", \"gdppcap08\": 29361, \"polityIV\": 20.0}, {\"country\": \"Guatemala\", \"region\": \"S. America\", \"gdppcap08\": 4760, \"polityIV\": 18.0}, {\"country\": \"Guinea\", \"region\": \"Africa\", \"gdppcap08\": 1204, \"polityIV\": 9.0}, {\"country\": \"Guinea-Bissau\", \"region\": \"Africa\", \"gdppcap08\": 538, \"polityIV\": 11.0}, {\"country\": \"Guyana\", \"region\": \"S. America\", \"gdppcap08\": 2542, \"polityIV\": 16.0}, {\"country\": \"Haiti\", \"region\": \"S. America\", \"gdppcap08\": 1177, \"polityIV\": 8.0}, {\"country\": \"Honduras\", \"region\": \"S. America\", \"gdppcap08\": 3965, \"polityIV\": 17.0}, {\"country\": \"Hungary\", \"region\": \"C&E Europe\", \"gdppcap08\": 19330, \"polityIV\": 20.0}, {\"country\": \"India\", \"region\": \"Asia-Pacific\", \"gdppcap08\": 2972, \"polityIV\": 19.0}, {\"country\": \"Indonesia\", \"region\": \"Asia-Pacific\", \"gdppcap08\": 3975, \"polityIV\": 16.666667}, {\"country\": \"Iran\", \"region\": \"Middle East\", \"gdppcap08\": 11666, \"polityIV\": 10.0}, {\"country\": \"Iraq\", \"region\": \"Middle East\", \"gdppcap08\": 3570, \"polityIV\": 1.0}, {\"country\": \"Ireland\", \"region\": \"W. Europe\", \"gdppcap08\": 44200, \"polityIV\": 20.0}, {\"country\": \"Israel\", \"region\": \"Middle East\", \"gdppcap08\": 27548, \"polityIV\": 20.0}, {\"country\": \"Italy\", \"region\": \"W. Europe\", \"gdppcap08\": 30756, \"polityIV\": 20.0}, {\"country\": \"Jamaica\", \"region\": \"S. America\", \"gdppcap08\": 7705, \"polityIV\": 19.0}, {\"country\": \"Japan\", \"region\": \"Asia-Pacific\", \"gdppcap08\": 34099, \"polityIV\": 20.0}, {\"country\": \"Jordan\", \"region\": \"Middle East\", \"gdppcap08\": 5283, \"polityIV\": 8.0}, {\"country\": \"Kazakhstan\", \"region\": \"C&E Europe\", \"gdppcap08\": 11315, \"polityIV\": 4.0}, {\"country\": \"Kenya\", \"region\": \"Africa\", \"gdppcap08\": 1590, \"polityIV\": 18.0}, {\"country\": \"Korea South\", \"region\": \"Asia-Pacific\", \"gdppcap08\": 27939, \"polityIV\": 18.0}, {\"country\": \"Kyrgyzstan\", \"region\": \"C&E Europe\", \"gdppcap08\": 2188, \"polityIV\": 7.0}, {\"country\": \"Laos\", \"region\": \"Asia-Pacific\", \"gdppcap08\": 2134, \"polityIV\": 3.0}, {\"country\": \"Latvia\", \"region\": \"C&E Europe\", \"gdppcap08\": 17100, \"polityIV\": 18.0}, {\"country\": \"Lesotho\", \"region\": \"Africa\", \"gdppcap08\": 1588, \"polityIV\": 18.0}, {\"country\": \"Liberia\", \"region\": \"Africa\", \"gdppcap08\": 388, \"polityIV\": 10.0}, {\"country\": \"Lithuania\", \"region\": \"C&E Europe\", \"gdppcap08\": 18824, \"polityIV\": 20.0}, {\"country\": \"Macedonia\", \"region\": \"C&E Europe\", \"gdppcap08\": 10041, \"polityIV\": 19.0}, {\"country\": \"Madagascar\", \"region\": \"Africa\", \"gdppcap08\": 1049, \"polityIV\": 17.0}, {\"country\": \"Malawi\", \"region\": \"Africa\", \"gdppcap08\": 837, \"polityIV\": 15.0}, {\"country\": \"Malaysia\", \"region\": \"Asia-Pacific\", \"gdppcap08\": 14215, \"polityIV\": 13.0}, {\"country\": \"Mali\", \"region\": \"Africa\", \"gdppcap08\": 1128, \"polityIV\": 16.0}, {\"country\": \"Mauritania\", \"region\": \"Africa\", \"gdppcap08\": 2052, \"polityIV\": 4.0}, {\"country\": \"Mauritius\", \"region\": \"Africa\", \"gdppcap08\": 12079, \"polityIV\": 20.0}, {\"country\": \"Mexico\", \"region\": \"N. America\", \"gdppcap08\": 14495, \"polityIV\": 18.0}, {\"country\": \"Moldova\", \"region\": \"C&E Europe\", \"gdppcap08\": 2925, \"polityIV\": 18.0}, {\"country\": \"Mongolia\", \"region\": \"Asia-Pacific\", \"gdppcap08\": 3566, \"polityIV\": 20.0}, {\"country\": \"Morocco\", \"region\": \"Middle East\", \"gdppcap08\": 4388, \"polityIV\": 4.0}, {\"country\": \"Mozambique\", \"region\": \"Africa\", \"gdppcap08\": 855, \"polityIV\": 16.0}, {\"country\": \"Namibia\", \"region\": \"Africa\", \"gdppcap08\": 6343, \"polityIV\": 16.0}, {\"country\": \"Nepal\", \"region\": \"Asia-Pacific\", \"gdppcap08\": 1112, \"polityIV\": 4.0}, {\"country\": \"Netherlands\", \"region\": \"W. Europe\", \"gdppcap08\": 40849, \"polityIV\": 20.0}, {\"country\": \"New Zealand\", \"region\": \"Asia-Pacific\", \"gdppcap08\": 27029, \"polityIV\": 20.0}, {\"country\": \"Nicaragua\", \"region\": \"S. America\", \"gdppcap08\": 2682, \"polityIV\": 18.0}, {\"country\": \"Niger\", \"region\": \"Africa\", \"gdppcap08\": 684, \"polityIV\": 15.333333}, {\"country\": \"Nigeria\", \"region\": \"Africa\", \"gdppcap08\": 2082, \"polityIV\": 14.0}, {\"country\": \"Pakistan\", \"region\": \"Asia-Pacific\", \"gdppcap08\": 2644, \"polityIV\": 5.0}, {\"country\": \"Papua New Guinea\", \"region\": \"Asia-Pacific\", \"gdppcap08\": 2208, \"polityIV\": 20.0}, {\"country\": \"Paraguay\", \"region\": \"S. America\", \"gdppcap08\": 4709, \"polityIV\": 17.666667}, {\"country\": \"Peru\", \"region\": \"S. America\", \"gdppcap08\": 8507, \"polityIV\": 19.0}, {\"country\": \"Philippines\", \"region\": \"Asia-Pacific\", \"gdppcap08\": 3510, \"polityIV\": 18.0}, {\"country\": \"Poland\", \"region\": \"C&E Europe\", \"gdppcap08\": 17625, \"polityIV\": 20.0}, {\"country\": \"Portugal\", \"region\": \"W. Europe\", \"gdppcap08\": 23074, \"polityIV\": 20.0}, {\"country\": \"Romania\", \"region\": \"C&E Europe\", \"gdppcap08\": 14065, \"polityIV\": 18.333333}, {\"country\": \"Russia\", \"region\": \"C&E Europe\", \"gdppcap08\": 16139, \"polityIV\": 17.0}, {\"country\": \"Rwanda\", \"region\": \"Africa\", \"gdppcap08\": 1022, \"polityIV\": 6.6666667}, {\"country\": \"Senegal\", \"region\": \"Africa\", \"gdppcap08\": 1772, \"polityIV\": 18.0}, {\"country\": \"Sierra Leone\", \"region\": \"Africa\", \"gdppcap08\": 766, \"polityIV\": 15.0}, {\"country\": \"Singapore\", \"region\": \"Asia-Pacific\", \"gdppcap08\": 49284, \"polityIV\": 8.0}, {\"country\": \"Slovakia\", \"region\": \"C&E Europe\", \"gdppcap08\": 22081, \"polityIV\": 19.0}, {\"country\": \"Slovenia\", \"region\": \"C&E Europe\", \"gdppcap08\": 27605, \"polityIV\": 20.0}, {\"country\": \"Solomon Islands\", \"region\": \"Asia-Pacific\", \"gdppcap08\": 2610, \"polityIV\": 18.0}, {\"country\": \"South Africa\", \"region\": \"Africa\", \"gdppcap08\": 10109, \"polityIV\": 19.0}, {\"country\": \"Spain\", \"region\": \"W. Europe\", \"gdppcap08\": 31954, \"polityIV\": 20.0}, {\"country\": \"Sri Lanka\", \"region\": \"Asia-Pacific\", \"gdppcap08\": 4560, \"polityIV\": 15.333333}, {\"country\": \"Sudan\", \"region\": \"Africa\", \"gdppcap08\": 2153, \"polityIV\": 4.0}, {\"country\": \"Swaziland\", \"region\": \"Africa\", \"gdppcap08\": 4928, \"polityIV\": 1.0}, {\"country\": \"Sweden\", \"region\": \"Scandinavia\", \"gdppcap08\": 37383, \"polityIV\": 20.0}, {\"country\": \"Switzerland\", \"region\": \"W. Europe\", \"gdppcap08\": 42536, \"polityIV\": 20.0}, {\"country\": \"Taiwan\", \"region\": \"Asia-Pacific\", \"gdppcap08\": 30881, \"polityIV\": 19.333333}, {\"country\": \"Tajikistan\", \"region\": \"C&E Europe\", \"gdppcap08\": 1906, \"polityIV\": 7.6666667}, {\"country\": \"Tanzania\", \"region\": \"Africa\", \"gdppcap08\": 1263, \"polityIV\": 11.0}, {\"country\": \"Thailand\", \"region\": \"Asia-Pacific\", \"gdppcap08\": 7703, \"polityIV\": 19.0}, {\"country\": \"Togo\", \"region\": \"Africa\", \"gdppcap08\": 829, \"polityIV\": 8.0}, {\"country\": \"Tunisia\", \"region\": \"Middle East\", \"gdppcap08\": 7996, \"polityIV\": 6.0}, {\"country\": \"Turkey\", \"region\": \"Middle East\", \"gdppcap08\": 13920, \"polityIV\": 17.0}, {\"country\": \"Turkmenistan\", \"region\": \"C&E Europe\", \"gdppcap08\": 6641, \"polityIV\": 1.0}, {\"country\": \"Uganda\", \"region\": \"Africa\", \"gdppcap08\": 1165, \"polityIV\": 6.0}, {\"country\": \"Ukraine\", \"region\": \"C&E Europe\", \"gdppcap08\": 7271, \"polityIV\": 16.0}, {\"country\": \"United Kingdom\", \"region\": \"W. Europe\", \"gdppcap08\": 35445, \"polityIV\": 20.0}, {\"country\": \"United States\", \"region\": \"N. America\", \"gdppcap08\": 46716, \"polityIV\": 20.0}, {\"country\": \"Uruguay\", \"region\": \"S. America\", \"gdppcap08\": 12734, \"polityIV\": 20.0}, {\"country\": \"Uzbekistan\", \"region\": \"C&E Europe\", \"gdppcap08\": 2656, \"polityIV\": 1.0}, {\"country\": \"Venezuela\", \"region\": \"S. America\", \"gdppcap08\": 12804, \"polityIV\": 16.0}, {\"country\": \"Vietnam\", \"region\": \"Asia-Pacific\", \"gdppcap08\": 2785, \"polityIV\": 3.0}, {\"country\": \"Yemen\", \"region\": \"Middle East\", \"gdppcap08\": 2400, \"polityIV\": 8.0}, {\"country\": \"Zambia\", \"region\": \"Africa\", \"gdppcap08\": 1356, \"polityIV\": 15.0}, {\"country\": \"Zimbabwe\", \"region\": \"Africa\", \"gdppcap08\": 188, \"polityIV\": 6.0}], \"data-50afffcb03ca16fbefb225cc29275795\": [{\"country\": \"Albania\", \"region\": \"C&E Europe\", \"gdppcap08\": 7715, \"polityIV\": 17.8}, {\"country\": \"Algeria\", \"region\": \"Africa\", \"gdppcap08\": 8033, \"polityIV\": 10.0}, {\"country\": \"Angola\", \"region\": \"Africa\", \"gdppcap08\": 5899, \"polityIV\": 8.0}, {\"country\": \"Argentina\", \"region\": \"S. America\", \"gdppcap08\": 14333, \"polityIV\": 18.0}, {\"country\": \"Armenia\", \"region\": \"C&E Europe\", \"gdppcap08\": 6070, \"polityIV\": 15.0}, {\"country\": \"Australia\", \"region\": \"Asia-Pacific\", \"gdppcap08\": 35677, \"polityIV\": 20.0}, {\"country\": \"Austria\", \"region\": \"W. Europe\", \"gdppcap08\": 38152, \"polityIV\": 20.0}, {\"country\": \"Azerbaijan\", \"region\": \"C&E Europe\", \"gdppcap08\": 8765, \"polityIV\": 3.0}, {\"country\": \"Bahrain\", \"region\": \"Middle East\", \"gdppcap08\": 34605, \"polityIV\": 3.0}, {\"country\": \"Bangladesh\", \"region\": \"Asia-Pacific\", \"gdppcap08\": 1334, \"polityIV\": 16.0}, {\"country\": \"Belarus\", \"region\": \"C&E Europe\", \"gdppcap08\": 12261, \"polityIV\": 3.0}, {\"country\": \"Belgium\", \"region\": \"W. Europe\", \"gdppcap08\": 34493, \"polityIV\": 20.0}, {\"country\": \"Benin\", \"region\": \"Africa\", \"gdppcap08\": 1468, \"polityIV\": 16.2}, {\"country\": \"Bhutan\", \"region\": \"Asia-Pacific\", \"gdppcap08\": 4755, \"polityIV\": 2.0}, {\"country\": \"Bolivia\", \"region\": \"S. America\", \"gdppcap08\": 4278, \"polityIV\": 18.2}, {\"country\": \"Botswana\", \"region\": \"Africa\", \"gdppcap08\": 13392, \"polityIV\": 19.0}, {\"country\": \"Brazil\", \"region\": \"S. America\", \"gdppcap08\": 10296, \"polityIV\": 18.0}, {\"country\": \"Bulgaria\", \"region\": \"C&E Europe\", \"gdppcap08\": 12393, \"polityIV\": 19.0}, {\"country\": \"Burkina Faso\", \"region\": \"Africa\", \"gdppcap08\": 1161, \"polityIV\": 10.0}, {\"country\": \"Cambodia\", \"region\": \"Asia-Pacific\", \"gdppcap08\": 1905, \"polityIV\": 12.0}, {\"country\": \"Cameroon\", \"region\": \"Africa\", \"gdppcap08\": 2215, \"polityIV\": 6.0}, {\"country\": \"Canada\", \"region\": \"N. America\", \"gdppcap08\": 36444, \"polityIV\": 20.0}, {\"country\": \"Central African Republic\", \"region\": \"Africa\", \"gdppcap08\": 736, \"polityIV\": 10.2}, {\"country\": \"Chad\", \"region\": \"Africa\", \"gdppcap08\": 1455, \"polityIV\": 8.0}, {\"country\": \"Chile\", \"region\": \"S. America\", \"gdppcap08\": 14465, \"polityIV\": 19.2}, {\"country\": \"China\", \"region\": \"Asia-Pacific\", \"gdppcap08\": 5962, \"polityIV\": 3.0}, {\"country\": \"Colombia\", \"region\": \"S. America\", \"gdppcap08\": 8885, \"polityIV\": 17.0}, {\"country\": \"Comoros\", \"region\": \"Africa\", \"gdppcap08\": 1169, \"polityIV\": 15.8}, {\"country\": \"Congo Brazzaville\", \"region\": \"Africa\", \"gdppcap08\": 3946, \"polityIV\": 6.0}, {\"country\": \"Congo Kinshasa\", \"region\": \"Africa\", \"gdppcap08\": 321, \"polityIV\": 15.0}, {\"country\": \"Costa Rica\", \"region\": \"S. America\", \"gdppcap08\": 11241, \"polityIV\": 20.0}, {\"country\": \"Croatia\", \"region\": \"C&E Europe\", \"gdppcap08\": 19084, \"polityIV\": 18.4}, {\"country\": \"Cuba\", \"region\": \"S. America\", \"gdppcap08\": 9500, \"polityIV\": 3.0}, {\"country\": \"Czech Republic\", \"region\": \"C&E Europe\", \"gdppcap08\": 24712, \"polityIV\": 20.0}, {\"country\": \"Denmark\", \"region\": \"Scandinavia\", \"gdppcap08\": 36607, \"polityIV\": 20.0}, {\"country\": \"Djibouti\", \"region\": \"Africa\", \"gdppcap08\": 2140, \"polityIV\": 12.0}, {\"country\": \"Ecuador\", \"region\": \"S. America\", \"gdppcap08\": 8009, \"polityIV\": 16.2}, {\"country\": \"Egypt\", \"region\": \"Middle East\", \"gdppcap08\": 5416, \"polityIV\": 4.0}, {\"country\": \"El Salvador\", \"region\": \"S. America\", \"gdppcap08\": 6794, \"polityIV\": 17.0}, {\"country\": \"Equatorial Guinea\", \"region\": \"Africa\", \"gdppcap08\": 33873, \"polityIV\": 5.0}, {\"country\": \"Eritrea\", \"region\": \"Africa\", \"gdppcap08\": 632, \"polityIV\": 3.0}, {\"country\": \"Estonia\", \"region\": \"C&E Europe\", \"gdppcap08\": 20662, \"polityIV\": 16.0}, {\"country\": \"Fiji\", \"region\": \"Asia-Pacific\", \"gdppcap08\": 4382, \"polityIV\": 13.8}, {\"country\": \"Finland\", \"region\": \"Scandinavia\", \"gdppcap08\": 35427, \"polityIV\": 20.0}, {\"country\": \"France\", \"region\": \"W. Europe\", \"gdppcap08\": 34045, \"polityIV\": 19.0}, {\"country\": \"Gabon\", \"region\": \"Africa\", \"gdppcap08\": 14527, \"polityIV\": 6.0}, {\"country\": \"Gambia\", \"region\": \"Africa\", \"gdppcap08\": 1363, \"polityIV\": 5.0}, {\"country\": \"Georgia\", \"region\": \"C&E Europe\", \"gdppcap08\": 4896, \"polityIV\": 15.666667}, {\"country\": \"Germany\", \"region\": \"W. Europe\", \"gdppcap08\": 35613, \"polityIV\": 20.0}, {\"country\": \"Ghana\", \"region\": \"Africa\", \"gdppcap08\": 1452, \"polityIV\": 16.666667}, {\"country\": \"Greece\", \"region\": \"W. Europe\", \"gdppcap08\": 29361, \"polityIV\": 20.0}, {\"country\": \"Guatemala\", \"region\": \"S. America\", \"gdppcap08\": 4760, \"polityIV\": 18.0}, {\"country\": \"Guinea\", \"region\": \"Africa\", \"gdppcap08\": 1204, \"polityIV\": 9.0}, {\"country\": \"Guinea-Bissau\", \"region\": \"Africa\", \"gdppcap08\": 538, \"polityIV\": 11.0}, {\"country\": \"Guyana\", \"region\": \"S. America\", \"gdppcap08\": 2542, \"polityIV\": 16.0}, {\"country\": \"Haiti\", \"region\": \"S. America\", \"gdppcap08\": 1177, \"polityIV\": 8.0}, {\"country\": \"Honduras\", \"region\": \"S. America\", \"gdppcap08\": 3965, \"polityIV\": 17.0}, {\"country\": \"Hungary\", \"region\": \"C&E Europe\", \"gdppcap08\": 19330, \"polityIV\": 20.0}, {\"country\": \"India\", \"region\": \"Asia-Pacific\", \"gdppcap08\": 2972, \"polityIV\": 19.0}, {\"country\": \"Indonesia\", \"region\": \"Asia-Pacific\", \"gdppcap08\": 3975, \"polityIV\": 16.666667}, {\"country\": \"Iran\", \"region\": \"Middle East\", \"gdppcap08\": 11666, \"polityIV\": 10.0}, {\"country\": \"Iraq\", \"region\": \"Middle East\", \"gdppcap08\": 3570, \"polityIV\": 1.0}, {\"country\": \"Ireland\", \"region\": \"W. Europe\", \"gdppcap08\": 44200, \"polityIV\": 20.0}, {\"country\": \"Israel\", \"region\": \"Middle East\", \"gdppcap08\": 27548, \"polityIV\": 20.0}, {\"country\": \"Italy\", \"region\": \"W. Europe\", \"gdppcap08\": 30756, \"polityIV\": 20.0}, {\"country\": \"Jamaica\", \"region\": \"S. America\", \"gdppcap08\": 7705, \"polityIV\": 19.0}, {\"country\": \"Japan\", \"region\": \"Asia-Pacific\", \"gdppcap08\": 34099, \"polityIV\": 20.0}, {\"country\": \"Jordan\", \"region\": \"Middle East\", \"gdppcap08\": 5283, \"polityIV\": 8.0}, {\"country\": \"Kazakhstan\", \"region\": \"C&E Europe\", \"gdppcap08\": 11315, \"polityIV\": 4.0}, {\"country\": \"Kenya\", \"region\": \"Africa\", \"gdppcap08\": 1590, \"polityIV\": 18.0}, {\"country\": \"Korea South\", \"region\": \"Asia-Pacific\", \"gdppcap08\": 27939, \"polityIV\": 18.0}, {\"country\": \"Kuwait\", \"region\": \"Middle East\", \"gdppcap08\": 39914, \"polityIV\": 3.0}, {\"country\": \"Kyrgyzstan\", \"region\": \"C&E Europe\", \"gdppcap08\": 2188, \"polityIV\": 7.0}, {\"country\": \"Laos\", \"region\": \"Asia-Pacific\", \"gdppcap08\": 2134, \"polityIV\": 3.0}, {\"country\": \"Latvia\", \"region\": \"C&E Europe\", \"gdppcap08\": 17100, \"polityIV\": 18.0}, {\"country\": \"Lesotho\", \"region\": \"Africa\", \"gdppcap08\": 1588, \"polityIV\": 18.0}, {\"country\": \"Liberia\", \"region\": \"Africa\", \"gdppcap08\": 388, \"polityIV\": 10.0}, {\"country\": \"Libya\", \"region\": \"Middle East\", \"gdppcap08\": 15402, \"polityIV\": 3.0}, {\"country\": \"Lithuania\", \"region\": \"C&E Europe\", \"gdppcap08\": 18824, \"polityIV\": 20.0}, {\"country\": \"Macedonia\", \"region\": \"C&E Europe\", \"gdppcap08\": 10041, \"polityIV\": 19.0}, {\"country\": \"Madagascar\", \"region\": \"Africa\", \"gdppcap08\": 1049, \"polityIV\": 17.0}, {\"country\": \"Malawi\", \"region\": \"Africa\", \"gdppcap08\": 837, \"polityIV\": 15.0}, {\"country\": \"Malaysia\", \"region\": \"Asia-Pacific\", \"gdppcap08\": 14215, \"polityIV\": 13.0}, {\"country\": \"Mali\", \"region\": \"Africa\", \"gdppcap08\": 1128, \"polityIV\": 16.0}, {\"country\": \"Mauritania\", \"region\": \"Africa\", \"gdppcap08\": 2052, \"polityIV\": 4.0}, {\"country\": \"Mauritius\", \"region\": \"Africa\", \"gdppcap08\": 12079, \"polityIV\": 20.0}, {\"country\": \"Mexico\", \"region\": \"N. America\", \"gdppcap08\": 14495, \"polityIV\": 18.0}, {\"country\": \"Moldova\", \"region\": \"C&E Europe\", \"gdppcap08\": 2925, \"polityIV\": 18.0}, {\"country\": \"Mongolia\", \"region\": \"Asia-Pacific\", \"gdppcap08\": 3566, \"polityIV\": 20.0}, {\"country\": \"Morocco\", \"region\": \"Middle East\", \"gdppcap08\": 4388, \"polityIV\": 4.0}, {\"country\": \"Mozambique\", \"region\": \"Africa\", \"gdppcap08\": 855, \"polityIV\": 16.0}, {\"country\": \"Namibia\", \"region\": \"Africa\", \"gdppcap08\": 6343, \"polityIV\": 16.0}, {\"country\": \"Nepal\", \"region\": \"Asia-Pacific\", \"gdppcap08\": 1112, \"polityIV\": 4.0}, {\"country\": \"Netherlands\", \"region\": \"W. Europe\", \"gdppcap08\": 40849, \"polityIV\": 20.0}, {\"country\": \"New Zealand\", \"region\": \"Asia-Pacific\", \"gdppcap08\": 27029, \"polityIV\": 20.0}, {\"country\": \"Nicaragua\", \"region\": \"S. America\", \"gdppcap08\": 2682, \"polityIV\": 18.0}, {\"country\": \"Niger\", \"region\": \"Africa\", \"gdppcap08\": 684, \"polityIV\": 15.333333}, {\"country\": \"Nigeria\", \"region\": \"Africa\", \"gdppcap08\": 2082, \"polityIV\": 14.0}, {\"country\": \"Norway\", \"region\": \"Scandinavia\", \"gdppcap08\": 58138, \"polityIV\": 20.0}, {\"country\": \"Oman\", \"region\": \"Middle East\", \"gdppcap08\": 22478, \"polityIV\": 2.0}, {\"country\": \"Pakistan\", \"region\": \"Asia-Pacific\", \"gdppcap08\": 2644, \"polityIV\": 5.0}, {\"country\": \"Papua New Guinea\", \"region\": \"Asia-Pacific\", \"gdppcap08\": 2208, \"polityIV\": 20.0}, {\"country\": \"Paraguay\", \"region\": \"S. America\", \"gdppcap08\": 4709, \"polityIV\": 17.666667}, {\"country\": \"Peru\", \"region\": \"S. America\", \"gdppcap08\": 8507, \"polityIV\": 19.0}, {\"country\": \"Philippines\", \"region\": \"Asia-Pacific\", \"gdppcap08\": 3510, \"polityIV\": 18.0}, {\"country\": \"Poland\", \"region\": \"C&E Europe\", \"gdppcap08\": 17625, \"polityIV\": 20.0}, {\"country\": \"Portugal\", \"region\": \"W. Europe\", \"gdppcap08\": 23074, \"polityIV\": 20.0}, {\"country\": \"Qatar\", \"region\": \"Middle East\", \"gdppcap08\": 85868, \"polityIV\": 0.0}, {\"country\": \"Romania\", \"region\": \"C&E Europe\", \"gdppcap08\": 14065, \"polityIV\": 18.333333}, {\"country\": \"Russia\", \"region\": \"C&E Europe\", \"gdppcap08\": 16139, \"polityIV\": 17.0}, {\"country\": \"Rwanda\", \"region\": \"Africa\", \"gdppcap08\": 1022, \"polityIV\": 6.6666667}, {\"country\": \"Saudi Arabia\", \"region\": \"Middle East\", \"gdppcap08\": 23920, \"polityIV\": 0.0}, {\"country\": \"Senegal\", \"region\": \"Africa\", \"gdppcap08\": 1772, \"polityIV\": 18.0}, {\"country\": \"Sierra Leone\", \"region\": \"Africa\", \"gdppcap08\": 766, \"polityIV\": 15.0}, {\"country\": \"Singapore\", \"region\": \"Asia-Pacific\", \"gdppcap08\": 49284, \"polityIV\": 8.0}, {\"country\": \"Slovakia\", \"region\": \"C&E Europe\", \"gdppcap08\": 22081, \"polityIV\": 19.0}, {\"country\": \"Slovenia\", \"region\": \"C&E Europe\", \"gdppcap08\": 27605, \"polityIV\": 20.0}, {\"country\": \"Solomon Islands\", \"region\": \"Asia-Pacific\", \"gdppcap08\": 2610, \"polityIV\": 18.0}, {\"country\": \"South Africa\", \"region\": \"Africa\", \"gdppcap08\": 10109, \"polityIV\": 19.0}, {\"country\": \"Spain\", \"region\": \"W. Europe\", \"gdppcap08\": 31954, \"polityIV\": 20.0}, {\"country\": \"Sri Lanka\", \"region\": \"Asia-Pacific\", \"gdppcap08\": 4560, \"polityIV\": 15.333333}, {\"country\": \"Sudan\", \"region\": \"Africa\", \"gdppcap08\": 2153, \"polityIV\": 4.0}, {\"country\": \"Swaziland\", \"region\": \"Africa\", \"gdppcap08\": 4928, \"polityIV\": 1.0}, {\"country\": \"Sweden\", \"region\": \"Scandinavia\", \"gdppcap08\": 37383, \"polityIV\": 20.0}, {\"country\": \"Switzerland\", \"region\": \"W. Europe\", \"gdppcap08\": 42536, \"polityIV\": 20.0}, {\"country\": \"Taiwan\", \"region\": \"Asia-Pacific\", \"gdppcap08\": 30881, \"polityIV\": 19.333333}, {\"country\": \"Tajikistan\", \"region\": \"C&E Europe\", \"gdppcap08\": 1906, \"polityIV\": 7.6666667}, {\"country\": \"Tanzania\", \"region\": \"Africa\", \"gdppcap08\": 1263, \"polityIV\": 11.0}, {\"country\": \"Thailand\", \"region\": \"Asia-Pacific\", \"gdppcap08\": 7703, \"polityIV\": 19.0}, {\"country\": \"Togo\", \"region\": \"Africa\", \"gdppcap08\": 829, \"polityIV\": 8.0}, {\"country\": \"Tunisia\", \"region\": \"Middle East\", \"gdppcap08\": 7996, \"polityIV\": 6.0}, {\"country\": \"Turkey\", \"region\": \"Middle East\", \"gdppcap08\": 13920, \"polityIV\": 17.0}, {\"country\": \"Turkmenistan\", \"region\": \"C&E Europe\", \"gdppcap08\": 6641, \"polityIV\": 1.0}, {\"country\": \"UAE\", \"region\": \"Middle East\", \"gdppcap08\": 38830, \"polityIV\": 2.0}, {\"country\": \"Uganda\", \"region\": \"Africa\", \"gdppcap08\": 1165, \"polityIV\": 6.0}, {\"country\": \"Ukraine\", \"region\": \"C&E Europe\", \"gdppcap08\": 7271, \"polityIV\": 16.0}, {\"country\": \"United Kingdom\", \"region\": \"W. Europe\", \"gdppcap08\": 35445, \"polityIV\": 20.0}, {\"country\": \"United States\", \"region\": \"N. America\", \"gdppcap08\": 46716, \"polityIV\": 20.0}, {\"country\": \"Uruguay\", \"region\": \"S. America\", \"gdppcap08\": 12734, \"polityIV\": 20.0}, {\"country\": \"Uzbekistan\", \"region\": \"C&E Europe\", \"gdppcap08\": 2656, \"polityIV\": 1.0}, {\"country\": \"Venezuela\", \"region\": \"S. America\", \"gdppcap08\": 12804, \"polityIV\": 16.0}, {\"country\": \"Vietnam\", \"region\": \"Asia-Pacific\", \"gdppcap08\": 2785, \"polityIV\": 3.0}, {\"country\": \"Yemen\", \"region\": \"Middle East\", \"gdppcap08\": 2400, \"polityIV\": 8.0}, {\"country\": \"Zambia\", \"region\": \"Africa\", \"gdppcap08\": 1356, \"polityIV\": 15.0}, {\"country\": \"Zimbabwe\", \"region\": \"Africa\", \"gdppcap08\": 188, \"polityIV\": 6.0}]}}, {\"mode\": \"vega-lite\"});\n",
       "</script>"
      ],
      "text/plain": [
       "alt.LayerChart(...)"
      ]
     },
     "metadata": {},
     "execution_count": 154
    }
   ],
   "metadata": {}
  },
  {
   "cell_type": "markdown",
   "source": [
    "-The relationship now seems more destinct and rather positive, however still not linear. I assume dropping Singapore and Bahrain would change that. Let's see:"
   ],
   "metadata": {}
  },
  {
   "cell_type": "code",
   "execution_count": 155,
   "source": [
    "sub2_wdi = sub_wdi[sub_wdi.country != \"Singapore\"]\n",
    "sub2_wdi = sub2_wdi[sub_wdi.country != \"Bahrain\"]\n",
    "sub2_wdi\n",
    "base = (\n",
    "    alt.Chart(sub2_wdi, title=\"Relationship between GDP per capita and the Polity IV Score\")\n",
    "    .mark_point()\n",
    "    .encode(\n",
    "        x=alt.X(\"gdppcap08\", title=\"GDP per Capita\", scale=alt.Scale(zero=False)),\n",
    "        y=alt.Y(\"polityIV\", title=\"Polity IV Democracy Score\", scale=alt.Scale(zero=False)),\n",
    "        tooltip=\"country\"\n",
    ").interactive()\n",
    ")\n",
    "\n",
    "text = (alt.Chart(sub2_wdi)\n",
    "    .encode(\n",
    "        x=alt.X(\"gdppcap08\", scale=alt.Scale(zero=False)),\n",
    "        y=\"polityIV\",\n",
    "        text=\"country\"\n",
    "    )\n",
    "    .mark_text(size=5))\n",
    "\n",
    "base + fit + text"
   ],
   "outputs": [
    {
     "output_type": "stream",
     "name": "stderr",
     "text": [
      "/var/folders/h9/g02cmrsn6y571zb1v96gs56c0000gn/T/ipykernel_77670/3036208200.py:2: UserWarning: Boolean Series key will be reindexed to match DataFrame index.\n",
      "  sub2_wdi = sub2_wdi[sub_wdi.country != \"Bahrain\"]\n"
     ]
    },
    {
     "output_type": "execute_result",
     "data": {
      "text/html": [
       "\n",
       "<div id=\"altair-viz-019cd9cd87034c6b84d5c9bf346e1475\"></div>\n",
       "<script type=\"text/javascript\">\n",
       "  (function(spec, embedOpt){\n",
       "    let outputDiv = document.currentScript.previousElementSibling;\n",
       "    if (outputDiv.id !== \"altair-viz-019cd9cd87034c6b84d5c9bf346e1475\") {\n",
       "      outputDiv = document.getElementById(\"altair-viz-019cd9cd87034c6b84d5c9bf346e1475\");\n",
       "    }\n",
       "    const paths = {\n",
       "      \"vega\": \"https://cdn.jsdelivr.net/npm//vega@5?noext\",\n",
       "      \"vega-lib\": \"https://cdn.jsdelivr.net/npm//vega-lib?noext\",\n",
       "      \"vega-lite\": \"https://cdn.jsdelivr.net/npm//vega-lite@4.8.1?noext\",\n",
       "      \"vega-embed\": \"https://cdn.jsdelivr.net/npm//vega-embed@6?noext\",\n",
       "    };\n",
       "\n",
       "    function loadScript(lib) {\n",
       "      return new Promise(function(resolve, reject) {\n",
       "        var s = document.createElement('script');\n",
       "        s.src = paths[lib];\n",
       "        s.async = true;\n",
       "        s.onload = () => resolve(paths[lib]);\n",
       "        s.onerror = () => reject(`Error loading script: ${paths[lib]}`);\n",
       "        document.getElementsByTagName(\"head\")[0].appendChild(s);\n",
       "      });\n",
       "    }\n",
       "\n",
       "    function showError(err) {\n",
       "      outputDiv.innerHTML = `<div class=\"error\" style=\"color:red;\">${err}</div>`;\n",
       "      throw err;\n",
       "    }\n",
       "\n",
       "    function displayChart(vegaEmbed) {\n",
       "      vegaEmbed(outputDiv, spec, embedOpt)\n",
       "        .catch(err => showError(`Javascript Error: ${err.message}<br>This usually means there's a typo in your chart specification. See the javascript console for the full traceback.`));\n",
       "    }\n",
       "\n",
       "    if(typeof define === \"function\" && define.amd) {\n",
       "      requirejs.config({paths});\n",
       "      require([\"vega-embed\"], displayChart, err => showError(`Error loading script: ${err.message}`));\n",
       "    } else if (typeof vegaEmbed === \"function\") {\n",
       "      displayChart(vegaEmbed);\n",
       "    } else {\n",
       "      loadScript(\"vega\")\n",
       "        .then(() => loadScript(\"vega-lite\"))\n",
       "        .then(() => loadScript(\"vega-embed\"))\n",
       "        .catch(showError)\n",
       "        .then(() => displayChart(vegaEmbed));\n",
       "    }\n",
       "  })({\"config\": {\"view\": {\"continuousWidth\": 400, \"continuousHeight\": 300}}, \"layer\": [{\"data\": {\"name\": \"data-ace5b23efce7af09ed64a514ec09d9a1\"}, \"mark\": \"point\", \"encoding\": {\"tooltip\": {\"type\": \"nominal\", \"field\": \"country\"}, \"x\": {\"type\": \"quantitative\", \"field\": \"gdppcap08\", \"scale\": {\"zero\": false}, \"title\": \"GDP per Capita\"}, \"y\": {\"type\": \"quantitative\", \"field\": \"polityIV\", \"scale\": {\"zero\": false}, \"title\": \"Polity IV Democracy Score\"}}, \"selection\": {\"selector046\": {\"type\": \"interval\", \"bind\": \"scales\", \"encodings\": [\"x\", \"y\"]}}, \"title\": \"Relationship between GDP per capita and the Polity IV Score\"}, {\"data\": {\"name\": \"data-50afffcb03ca16fbefb225cc29275795\"}, \"mark\": \"line\", \"encoding\": {\"x\": {\"type\": \"quantitative\", \"field\": \"gdppcap08\", \"scale\": {\"zero\": false}, \"title\": \"GDP per Capita\"}, \"y\": {\"type\": \"quantitative\", \"field\": \"polityIV\", \"scale\": {\"zero\": false}, \"title\": \"Polity IV Democracy Score\"}}, \"title\": \"Relationship between GDP per capita and the Polity IV Score\", \"transform\": [{\"on\": \"gdppcap08\", \"regression\": \"polityIV\", \"method\": \"quad\"}]}, {\"data\": {\"name\": \"data-ace5b23efce7af09ed64a514ec09d9a1\"}, \"mark\": {\"type\": \"text\", \"size\": 5}, \"encoding\": {\"text\": {\"type\": \"nominal\", \"field\": \"country\"}, \"x\": {\"type\": \"quantitative\", \"field\": \"gdppcap08\", \"scale\": {\"zero\": false}}, \"y\": {\"type\": \"quantitative\", \"field\": \"polityIV\"}}}], \"$schema\": \"https://vega.github.io/schema/vega-lite/v4.8.1.json\", \"datasets\": {\"data-ace5b23efce7af09ed64a514ec09d9a1\": [{\"country\": \"Albania\", \"region\": \"C&E Europe\", \"gdppcap08\": 7715, \"polityIV\": 17.8}, {\"country\": \"Algeria\", \"region\": \"Africa\", \"gdppcap08\": 8033, \"polityIV\": 10.0}, {\"country\": \"Argentina\", \"region\": \"S. America\", \"gdppcap08\": 14333, \"polityIV\": 18.0}, {\"country\": \"Armenia\", \"region\": \"C&E Europe\", \"gdppcap08\": 6070, \"polityIV\": 15.0}, {\"country\": \"Australia\", \"region\": \"Asia-Pacific\", \"gdppcap08\": 35677, \"polityIV\": 20.0}, {\"country\": \"Austria\", \"region\": \"W. Europe\", \"gdppcap08\": 38152, \"polityIV\": 20.0}, {\"country\": \"Azerbaijan\", \"region\": \"C&E Europe\", \"gdppcap08\": 8765, \"polityIV\": 3.0}, {\"country\": \"Bangladesh\", \"region\": \"Asia-Pacific\", \"gdppcap08\": 1334, \"polityIV\": 16.0}, {\"country\": \"Belarus\", \"region\": \"C&E Europe\", \"gdppcap08\": 12261, \"polityIV\": 3.0}, {\"country\": \"Belgium\", \"region\": \"W. Europe\", \"gdppcap08\": 34493, \"polityIV\": 20.0}, {\"country\": \"Benin\", \"region\": \"Africa\", \"gdppcap08\": 1468, \"polityIV\": 16.2}, {\"country\": \"Bhutan\", \"region\": \"Asia-Pacific\", \"gdppcap08\": 4755, \"polityIV\": 2.0}, {\"country\": \"Bolivia\", \"region\": \"S. America\", \"gdppcap08\": 4278, \"polityIV\": 18.2}, {\"country\": \"Botswana\", \"region\": \"Africa\", \"gdppcap08\": 13392, \"polityIV\": 19.0}, {\"country\": \"Brazil\", \"region\": \"S. America\", \"gdppcap08\": 10296, \"polityIV\": 18.0}, {\"country\": \"Bulgaria\", \"region\": \"C&E Europe\", \"gdppcap08\": 12393, \"polityIV\": 19.0}, {\"country\": \"Burkina Faso\", \"region\": \"Africa\", \"gdppcap08\": 1161, \"polityIV\": 10.0}, {\"country\": \"Cambodia\", \"region\": \"Asia-Pacific\", \"gdppcap08\": 1905, \"polityIV\": 12.0}, {\"country\": \"Cameroon\", \"region\": \"Africa\", \"gdppcap08\": 2215, \"polityIV\": 6.0}, {\"country\": \"Canada\", \"region\": \"N. America\", \"gdppcap08\": 36444, \"polityIV\": 20.0}, {\"country\": \"Central African Republic\", \"region\": \"Africa\", \"gdppcap08\": 736, \"polityIV\": 10.2}, {\"country\": \"Chad\", \"region\": \"Africa\", \"gdppcap08\": 1455, \"polityIV\": 8.0}, {\"country\": \"Chile\", \"region\": \"S. America\", \"gdppcap08\": 14465, \"polityIV\": 19.2}, {\"country\": \"China\", \"region\": \"Asia-Pacific\", \"gdppcap08\": 5962, \"polityIV\": 3.0}, {\"country\": \"Colombia\", \"region\": \"S. America\", \"gdppcap08\": 8885, \"polityIV\": 17.0}, {\"country\": \"Comoros\", \"region\": \"Africa\", \"gdppcap08\": 1169, \"polityIV\": 15.8}, {\"country\": \"Congo Brazzaville\", \"region\": \"Africa\", \"gdppcap08\": 3946, \"polityIV\": 6.0}, {\"country\": \"Congo Kinshasa\", \"region\": \"Africa\", \"gdppcap08\": 321, \"polityIV\": 15.0}, {\"country\": \"Costa Rica\", \"region\": \"S. America\", \"gdppcap08\": 11241, \"polityIV\": 20.0}, {\"country\": \"Croatia\", \"region\": \"C&E Europe\", \"gdppcap08\": 19084, \"polityIV\": 18.4}, {\"country\": \"Cuba\", \"region\": \"S. America\", \"gdppcap08\": 9500, \"polityIV\": 3.0}, {\"country\": \"Czech Republic\", \"region\": \"C&E Europe\", \"gdppcap08\": 24712, \"polityIV\": 20.0}, {\"country\": \"Denmark\", \"region\": \"Scandinavia\", \"gdppcap08\": 36607, \"polityIV\": 20.0}, {\"country\": \"Djibouti\", \"region\": \"Africa\", \"gdppcap08\": 2140, \"polityIV\": 12.0}, {\"country\": \"Ecuador\", \"region\": \"S. America\", \"gdppcap08\": 8009, \"polityIV\": 16.2}, {\"country\": \"Egypt\", \"region\": \"Middle East\", \"gdppcap08\": 5416, \"polityIV\": 4.0}, {\"country\": \"El Salvador\", \"region\": \"S. America\", \"gdppcap08\": 6794, \"polityIV\": 17.0}, {\"country\": \"Eritrea\", \"region\": \"Africa\", \"gdppcap08\": 632, \"polityIV\": 3.0}, {\"country\": \"Estonia\", \"region\": \"C&E Europe\", \"gdppcap08\": 20662, \"polityIV\": 16.0}, {\"country\": \"Fiji\", \"region\": \"Asia-Pacific\", \"gdppcap08\": 4382, \"polityIV\": 13.8}, {\"country\": \"Finland\", \"region\": \"Scandinavia\", \"gdppcap08\": 35427, \"polityIV\": 20.0}, {\"country\": \"France\", \"region\": \"W. Europe\", \"gdppcap08\": 34045, \"polityIV\": 19.0}, {\"country\": \"Gambia\", \"region\": \"Africa\", \"gdppcap08\": 1363, \"polityIV\": 5.0}, {\"country\": \"Georgia\", \"region\": \"C&E Europe\", \"gdppcap08\": 4896, \"polityIV\": 15.666667}, {\"country\": \"Germany\", \"region\": \"W. Europe\", \"gdppcap08\": 35613, \"polityIV\": 20.0}, {\"country\": \"Ghana\", \"region\": \"Africa\", \"gdppcap08\": 1452, \"polityIV\": 16.666667}, {\"country\": \"Greece\", \"region\": \"W. Europe\", \"gdppcap08\": 29361, \"polityIV\": 20.0}, {\"country\": \"Guatemala\", \"region\": \"S. America\", \"gdppcap08\": 4760, \"polityIV\": 18.0}, {\"country\": \"Guinea\", \"region\": \"Africa\", \"gdppcap08\": 1204, \"polityIV\": 9.0}, {\"country\": \"Guinea-Bissau\", \"region\": \"Africa\", \"gdppcap08\": 538, \"polityIV\": 11.0}, {\"country\": \"Guyana\", \"region\": \"S. America\", \"gdppcap08\": 2542, \"polityIV\": 16.0}, {\"country\": \"Haiti\", \"region\": \"S. America\", \"gdppcap08\": 1177, \"polityIV\": 8.0}, {\"country\": \"Honduras\", \"region\": \"S. America\", \"gdppcap08\": 3965, \"polityIV\": 17.0}, {\"country\": \"Hungary\", \"region\": \"C&E Europe\", \"gdppcap08\": 19330, \"polityIV\": 20.0}, {\"country\": \"India\", \"region\": \"Asia-Pacific\", \"gdppcap08\": 2972, \"polityIV\": 19.0}, {\"country\": \"Indonesia\", \"region\": \"Asia-Pacific\", \"gdppcap08\": 3975, \"polityIV\": 16.666667}, {\"country\": \"Iran\", \"region\": \"Middle East\", \"gdppcap08\": 11666, \"polityIV\": 10.0}, {\"country\": \"Iraq\", \"region\": \"Middle East\", \"gdppcap08\": 3570, \"polityIV\": 1.0}, {\"country\": \"Ireland\", \"region\": \"W. Europe\", \"gdppcap08\": 44200, \"polityIV\": 20.0}, {\"country\": \"Israel\", \"region\": \"Middle East\", \"gdppcap08\": 27548, \"polityIV\": 20.0}, {\"country\": \"Italy\", \"region\": \"W. Europe\", \"gdppcap08\": 30756, \"polityIV\": 20.0}, {\"country\": \"Jamaica\", \"region\": \"S. America\", \"gdppcap08\": 7705, \"polityIV\": 19.0}, {\"country\": \"Japan\", \"region\": \"Asia-Pacific\", \"gdppcap08\": 34099, \"polityIV\": 20.0}, {\"country\": \"Jordan\", \"region\": \"Middle East\", \"gdppcap08\": 5283, \"polityIV\": 8.0}, {\"country\": \"Kazakhstan\", \"region\": \"C&E Europe\", \"gdppcap08\": 11315, \"polityIV\": 4.0}, {\"country\": \"Kenya\", \"region\": \"Africa\", \"gdppcap08\": 1590, \"polityIV\": 18.0}, {\"country\": \"Korea South\", \"region\": \"Asia-Pacific\", \"gdppcap08\": 27939, \"polityIV\": 18.0}, {\"country\": \"Kyrgyzstan\", \"region\": \"C&E Europe\", \"gdppcap08\": 2188, \"polityIV\": 7.0}, {\"country\": \"Laos\", \"region\": \"Asia-Pacific\", \"gdppcap08\": 2134, \"polityIV\": 3.0}, {\"country\": \"Latvia\", \"region\": \"C&E Europe\", \"gdppcap08\": 17100, \"polityIV\": 18.0}, {\"country\": \"Lesotho\", \"region\": \"Africa\", \"gdppcap08\": 1588, \"polityIV\": 18.0}, {\"country\": \"Liberia\", \"region\": \"Africa\", \"gdppcap08\": 388, \"polityIV\": 10.0}, {\"country\": \"Lithuania\", \"region\": \"C&E Europe\", \"gdppcap08\": 18824, \"polityIV\": 20.0}, {\"country\": \"Macedonia\", \"region\": \"C&E Europe\", \"gdppcap08\": 10041, \"polityIV\": 19.0}, {\"country\": \"Madagascar\", \"region\": \"Africa\", \"gdppcap08\": 1049, \"polityIV\": 17.0}, {\"country\": \"Malawi\", \"region\": \"Africa\", \"gdppcap08\": 837, \"polityIV\": 15.0}, {\"country\": \"Malaysia\", \"region\": \"Asia-Pacific\", \"gdppcap08\": 14215, \"polityIV\": 13.0}, {\"country\": \"Mali\", \"region\": \"Africa\", \"gdppcap08\": 1128, \"polityIV\": 16.0}, {\"country\": \"Mauritania\", \"region\": \"Africa\", \"gdppcap08\": 2052, \"polityIV\": 4.0}, {\"country\": \"Mauritius\", \"region\": \"Africa\", \"gdppcap08\": 12079, \"polityIV\": 20.0}, {\"country\": \"Mexico\", \"region\": \"N. America\", \"gdppcap08\": 14495, \"polityIV\": 18.0}, {\"country\": \"Moldova\", \"region\": \"C&E Europe\", \"gdppcap08\": 2925, \"polityIV\": 18.0}, {\"country\": \"Mongolia\", \"region\": \"Asia-Pacific\", \"gdppcap08\": 3566, \"polityIV\": 20.0}, {\"country\": \"Morocco\", \"region\": \"Middle East\", \"gdppcap08\": 4388, \"polityIV\": 4.0}, {\"country\": \"Mozambique\", \"region\": \"Africa\", \"gdppcap08\": 855, \"polityIV\": 16.0}, {\"country\": \"Namibia\", \"region\": \"Africa\", \"gdppcap08\": 6343, \"polityIV\": 16.0}, {\"country\": \"Nepal\", \"region\": \"Asia-Pacific\", \"gdppcap08\": 1112, \"polityIV\": 4.0}, {\"country\": \"Netherlands\", \"region\": \"W. Europe\", \"gdppcap08\": 40849, \"polityIV\": 20.0}, {\"country\": \"New Zealand\", \"region\": \"Asia-Pacific\", \"gdppcap08\": 27029, \"polityIV\": 20.0}, {\"country\": \"Nicaragua\", \"region\": \"S. America\", \"gdppcap08\": 2682, \"polityIV\": 18.0}, {\"country\": \"Niger\", \"region\": \"Africa\", \"gdppcap08\": 684, \"polityIV\": 15.333333}, {\"country\": \"Nigeria\", \"region\": \"Africa\", \"gdppcap08\": 2082, \"polityIV\": 14.0}, {\"country\": \"Pakistan\", \"region\": \"Asia-Pacific\", \"gdppcap08\": 2644, \"polityIV\": 5.0}, {\"country\": \"Papua New Guinea\", \"region\": \"Asia-Pacific\", \"gdppcap08\": 2208, \"polityIV\": 20.0}, {\"country\": \"Paraguay\", \"region\": \"S. America\", \"gdppcap08\": 4709, \"polityIV\": 17.666667}, {\"country\": \"Peru\", \"region\": \"S. America\", \"gdppcap08\": 8507, \"polityIV\": 19.0}, {\"country\": \"Philippines\", \"region\": \"Asia-Pacific\", \"gdppcap08\": 3510, \"polityIV\": 18.0}, {\"country\": \"Poland\", \"region\": \"C&E Europe\", \"gdppcap08\": 17625, \"polityIV\": 20.0}, {\"country\": \"Portugal\", \"region\": \"W. Europe\", \"gdppcap08\": 23074, \"polityIV\": 20.0}, {\"country\": \"Romania\", \"region\": \"C&E Europe\", \"gdppcap08\": 14065, \"polityIV\": 18.333333}, {\"country\": \"Russia\", \"region\": \"C&E Europe\", \"gdppcap08\": 16139, \"polityIV\": 17.0}, {\"country\": \"Rwanda\", \"region\": \"Africa\", \"gdppcap08\": 1022, \"polityIV\": 6.6666667}, {\"country\": \"Senegal\", \"region\": \"Africa\", \"gdppcap08\": 1772, \"polityIV\": 18.0}, {\"country\": \"Sierra Leone\", \"region\": \"Africa\", \"gdppcap08\": 766, \"polityIV\": 15.0}, {\"country\": \"Slovakia\", \"region\": \"C&E Europe\", \"gdppcap08\": 22081, \"polityIV\": 19.0}, {\"country\": \"Slovenia\", \"region\": \"C&E Europe\", \"gdppcap08\": 27605, \"polityIV\": 20.0}, {\"country\": \"Solomon Islands\", \"region\": \"Asia-Pacific\", \"gdppcap08\": 2610, \"polityIV\": 18.0}, {\"country\": \"South Africa\", \"region\": \"Africa\", \"gdppcap08\": 10109, \"polityIV\": 19.0}, {\"country\": \"Spain\", \"region\": \"W. Europe\", \"gdppcap08\": 31954, \"polityIV\": 20.0}, {\"country\": \"Sri Lanka\", \"region\": \"Asia-Pacific\", \"gdppcap08\": 4560, \"polityIV\": 15.333333}, {\"country\": \"Sudan\", \"region\": \"Africa\", \"gdppcap08\": 2153, \"polityIV\": 4.0}, {\"country\": \"Swaziland\", \"region\": \"Africa\", \"gdppcap08\": 4928, \"polityIV\": 1.0}, {\"country\": \"Sweden\", \"region\": \"Scandinavia\", \"gdppcap08\": 37383, \"polityIV\": 20.0}, {\"country\": \"Switzerland\", \"region\": \"W. Europe\", \"gdppcap08\": 42536, \"polityIV\": 20.0}, {\"country\": \"Taiwan\", \"region\": \"Asia-Pacific\", \"gdppcap08\": 30881, \"polityIV\": 19.333333}, {\"country\": \"Tajikistan\", \"region\": \"C&E Europe\", \"gdppcap08\": 1906, \"polityIV\": 7.6666667}, {\"country\": \"Tanzania\", \"region\": \"Africa\", \"gdppcap08\": 1263, \"polityIV\": 11.0}, {\"country\": \"Thailand\", \"region\": \"Asia-Pacific\", \"gdppcap08\": 7703, \"polityIV\": 19.0}, {\"country\": \"Togo\", \"region\": \"Africa\", \"gdppcap08\": 829, \"polityIV\": 8.0}, {\"country\": \"Tunisia\", \"region\": \"Middle East\", \"gdppcap08\": 7996, \"polityIV\": 6.0}, {\"country\": \"Turkey\", \"region\": \"Middle East\", \"gdppcap08\": 13920, \"polityIV\": 17.0}, {\"country\": \"Turkmenistan\", \"region\": \"C&E Europe\", \"gdppcap08\": 6641, \"polityIV\": 1.0}, {\"country\": \"Uganda\", \"region\": \"Africa\", \"gdppcap08\": 1165, \"polityIV\": 6.0}, {\"country\": \"Ukraine\", \"region\": \"C&E Europe\", \"gdppcap08\": 7271, \"polityIV\": 16.0}, {\"country\": \"United Kingdom\", \"region\": \"W. Europe\", \"gdppcap08\": 35445, \"polityIV\": 20.0}, {\"country\": \"United States\", \"region\": \"N. America\", \"gdppcap08\": 46716, \"polityIV\": 20.0}, {\"country\": \"Uruguay\", \"region\": \"S. America\", \"gdppcap08\": 12734, \"polityIV\": 20.0}, {\"country\": \"Uzbekistan\", \"region\": \"C&E Europe\", \"gdppcap08\": 2656, \"polityIV\": 1.0}, {\"country\": \"Venezuela\", \"region\": \"S. America\", \"gdppcap08\": 12804, \"polityIV\": 16.0}, {\"country\": \"Vietnam\", \"region\": \"Asia-Pacific\", \"gdppcap08\": 2785, \"polityIV\": 3.0}, {\"country\": \"Yemen\", \"region\": \"Middle East\", \"gdppcap08\": 2400, \"polityIV\": 8.0}, {\"country\": \"Zambia\", \"region\": \"Africa\", \"gdppcap08\": 1356, \"polityIV\": 15.0}, {\"country\": \"Zimbabwe\", \"region\": \"Africa\", \"gdppcap08\": 188, \"polityIV\": 6.0}], \"data-50afffcb03ca16fbefb225cc29275795\": [{\"country\": \"Albania\", \"region\": \"C&E Europe\", \"gdppcap08\": 7715, \"polityIV\": 17.8}, {\"country\": \"Algeria\", \"region\": \"Africa\", \"gdppcap08\": 8033, \"polityIV\": 10.0}, {\"country\": \"Angola\", \"region\": \"Africa\", \"gdppcap08\": 5899, \"polityIV\": 8.0}, {\"country\": \"Argentina\", \"region\": \"S. America\", \"gdppcap08\": 14333, \"polityIV\": 18.0}, {\"country\": \"Armenia\", \"region\": \"C&E Europe\", \"gdppcap08\": 6070, \"polityIV\": 15.0}, {\"country\": \"Australia\", \"region\": \"Asia-Pacific\", \"gdppcap08\": 35677, \"polityIV\": 20.0}, {\"country\": \"Austria\", \"region\": \"W. Europe\", \"gdppcap08\": 38152, \"polityIV\": 20.0}, {\"country\": \"Azerbaijan\", \"region\": \"C&E Europe\", \"gdppcap08\": 8765, \"polityIV\": 3.0}, {\"country\": \"Bahrain\", \"region\": \"Middle East\", \"gdppcap08\": 34605, \"polityIV\": 3.0}, {\"country\": \"Bangladesh\", \"region\": \"Asia-Pacific\", \"gdppcap08\": 1334, \"polityIV\": 16.0}, {\"country\": \"Belarus\", \"region\": \"C&E Europe\", \"gdppcap08\": 12261, \"polityIV\": 3.0}, {\"country\": \"Belgium\", \"region\": \"W. Europe\", \"gdppcap08\": 34493, \"polityIV\": 20.0}, {\"country\": \"Benin\", \"region\": \"Africa\", \"gdppcap08\": 1468, \"polityIV\": 16.2}, {\"country\": \"Bhutan\", \"region\": \"Asia-Pacific\", \"gdppcap08\": 4755, \"polityIV\": 2.0}, {\"country\": \"Bolivia\", \"region\": \"S. America\", \"gdppcap08\": 4278, \"polityIV\": 18.2}, {\"country\": \"Botswana\", \"region\": \"Africa\", \"gdppcap08\": 13392, \"polityIV\": 19.0}, {\"country\": \"Brazil\", \"region\": \"S. America\", \"gdppcap08\": 10296, \"polityIV\": 18.0}, {\"country\": \"Bulgaria\", \"region\": \"C&E Europe\", \"gdppcap08\": 12393, \"polityIV\": 19.0}, {\"country\": \"Burkina Faso\", \"region\": \"Africa\", \"gdppcap08\": 1161, \"polityIV\": 10.0}, {\"country\": \"Cambodia\", \"region\": \"Asia-Pacific\", \"gdppcap08\": 1905, \"polityIV\": 12.0}, {\"country\": \"Cameroon\", \"region\": \"Africa\", \"gdppcap08\": 2215, \"polityIV\": 6.0}, {\"country\": \"Canada\", \"region\": \"N. America\", \"gdppcap08\": 36444, \"polityIV\": 20.0}, {\"country\": \"Central African Republic\", \"region\": \"Africa\", \"gdppcap08\": 736, \"polityIV\": 10.2}, {\"country\": \"Chad\", \"region\": \"Africa\", \"gdppcap08\": 1455, \"polityIV\": 8.0}, {\"country\": \"Chile\", \"region\": \"S. America\", \"gdppcap08\": 14465, \"polityIV\": 19.2}, {\"country\": \"China\", \"region\": \"Asia-Pacific\", \"gdppcap08\": 5962, \"polityIV\": 3.0}, {\"country\": \"Colombia\", \"region\": \"S. America\", \"gdppcap08\": 8885, \"polityIV\": 17.0}, {\"country\": \"Comoros\", \"region\": \"Africa\", \"gdppcap08\": 1169, \"polityIV\": 15.8}, {\"country\": \"Congo Brazzaville\", \"region\": \"Africa\", \"gdppcap08\": 3946, \"polityIV\": 6.0}, {\"country\": \"Congo Kinshasa\", \"region\": \"Africa\", \"gdppcap08\": 321, \"polityIV\": 15.0}, {\"country\": \"Costa Rica\", \"region\": \"S. America\", \"gdppcap08\": 11241, \"polityIV\": 20.0}, {\"country\": \"Croatia\", \"region\": \"C&E Europe\", \"gdppcap08\": 19084, \"polityIV\": 18.4}, {\"country\": \"Cuba\", \"region\": \"S. America\", \"gdppcap08\": 9500, \"polityIV\": 3.0}, {\"country\": \"Czech Republic\", \"region\": \"C&E Europe\", \"gdppcap08\": 24712, \"polityIV\": 20.0}, {\"country\": \"Denmark\", \"region\": \"Scandinavia\", \"gdppcap08\": 36607, \"polityIV\": 20.0}, {\"country\": \"Djibouti\", \"region\": \"Africa\", \"gdppcap08\": 2140, \"polityIV\": 12.0}, {\"country\": \"Ecuador\", \"region\": \"S. America\", \"gdppcap08\": 8009, \"polityIV\": 16.2}, {\"country\": \"Egypt\", \"region\": \"Middle East\", \"gdppcap08\": 5416, \"polityIV\": 4.0}, {\"country\": \"El Salvador\", \"region\": \"S. America\", \"gdppcap08\": 6794, \"polityIV\": 17.0}, {\"country\": \"Equatorial Guinea\", \"region\": \"Africa\", \"gdppcap08\": 33873, \"polityIV\": 5.0}, {\"country\": \"Eritrea\", \"region\": \"Africa\", \"gdppcap08\": 632, \"polityIV\": 3.0}, {\"country\": \"Estonia\", \"region\": \"C&E Europe\", \"gdppcap08\": 20662, \"polityIV\": 16.0}, {\"country\": \"Fiji\", \"region\": \"Asia-Pacific\", \"gdppcap08\": 4382, \"polityIV\": 13.8}, {\"country\": \"Finland\", \"region\": \"Scandinavia\", \"gdppcap08\": 35427, \"polityIV\": 20.0}, {\"country\": \"France\", \"region\": \"W. Europe\", \"gdppcap08\": 34045, \"polityIV\": 19.0}, {\"country\": \"Gabon\", \"region\": \"Africa\", \"gdppcap08\": 14527, \"polityIV\": 6.0}, {\"country\": \"Gambia\", \"region\": \"Africa\", \"gdppcap08\": 1363, \"polityIV\": 5.0}, {\"country\": \"Georgia\", \"region\": \"C&E Europe\", \"gdppcap08\": 4896, \"polityIV\": 15.666667}, {\"country\": \"Germany\", \"region\": \"W. Europe\", \"gdppcap08\": 35613, \"polityIV\": 20.0}, {\"country\": \"Ghana\", \"region\": \"Africa\", \"gdppcap08\": 1452, \"polityIV\": 16.666667}, {\"country\": \"Greece\", \"region\": \"W. Europe\", \"gdppcap08\": 29361, \"polityIV\": 20.0}, {\"country\": \"Guatemala\", \"region\": \"S. America\", \"gdppcap08\": 4760, \"polityIV\": 18.0}, {\"country\": \"Guinea\", \"region\": \"Africa\", \"gdppcap08\": 1204, \"polityIV\": 9.0}, {\"country\": \"Guinea-Bissau\", \"region\": \"Africa\", \"gdppcap08\": 538, \"polityIV\": 11.0}, {\"country\": \"Guyana\", \"region\": \"S. America\", \"gdppcap08\": 2542, \"polityIV\": 16.0}, {\"country\": \"Haiti\", \"region\": \"S. America\", \"gdppcap08\": 1177, \"polityIV\": 8.0}, {\"country\": \"Honduras\", \"region\": \"S. America\", \"gdppcap08\": 3965, \"polityIV\": 17.0}, {\"country\": \"Hungary\", \"region\": \"C&E Europe\", \"gdppcap08\": 19330, \"polityIV\": 20.0}, {\"country\": \"India\", \"region\": \"Asia-Pacific\", \"gdppcap08\": 2972, \"polityIV\": 19.0}, {\"country\": \"Indonesia\", \"region\": \"Asia-Pacific\", \"gdppcap08\": 3975, \"polityIV\": 16.666667}, {\"country\": \"Iran\", \"region\": \"Middle East\", \"gdppcap08\": 11666, \"polityIV\": 10.0}, {\"country\": \"Iraq\", \"region\": \"Middle East\", \"gdppcap08\": 3570, \"polityIV\": 1.0}, {\"country\": \"Ireland\", \"region\": \"W. Europe\", \"gdppcap08\": 44200, \"polityIV\": 20.0}, {\"country\": \"Israel\", \"region\": \"Middle East\", \"gdppcap08\": 27548, \"polityIV\": 20.0}, {\"country\": \"Italy\", \"region\": \"W. Europe\", \"gdppcap08\": 30756, \"polityIV\": 20.0}, {\"country\": \"Jamaica\", \"region\": \"S. America\", \"gdppcap08\": 7705, \"polityIV\": 19.0}, {\"country\": \"Japan\", \"region\": \"Asia-Pacific\", \"gdppcap08\": 34099, \"polityIV\": 20.0}, {\"country\": \"Jordan\", \"region\": \"Middle East\", \"gdppcap08\": 5283, \"polityIV\": 8.0}, {\"country\": \"Kazakhstan\", \"region\": \"C&E Europe\", \"gdppcap08\": 11315, \"polityIV\": 4.0}, {\"country\": \"Kenya\", \"region\": \"Africa\", \"gdppcap08\": 1590, \"polityIV\": 18.0}, {\"country\": \"Korea South\", \"region\": \"Asia-Pacific\", \"gdppcap08\": 27939, \"polityIV\": 18.0}, {\"country\": \"Kuwait\", \"region\": \"Middle East\", \"gdppcap08\": 39914, \"polityIV\": 3.0}, {\"country\": \"Kyrgyzstan\", \"region\": \"C&E Europe\", \"gdppcap08\": 2188, \"polityIV\": 7.0}, {\"country\": \"Laos\", \"region\": \"Asia-Pacific\", \"gdppcap08\": 2134, \"polityIV\": 3.0}, {\"country\": \"Latvia\", \"region\": \"C&E Europe\", \"gdppcap08\": 17100, \"polityIV\": 18.0}, {\"country\": \"Lesotho\", \"region\": \"Africa\", \"gdppcap08\": 1588, \"polityIV\": 18.0}, {\"country\": \"Liberia\", \"region\": \"Africa\", \"gdppcap08\": 388, \"polityIV\": 10.0}, {\"country\": \"Libya\", \"region\": \"Middle East\", \"gdppcap08\": 15402, \"polityIV\": 3.0}, {\"country\": \"Lithuania\", \"region\": \"C&E Europe\", \"gdppcap08\": 18824, \"polityIV\": 20.0}, {\"country\": \"Macedonia\", \"region\": \"C&E Europe\", \"gdppcap08\": 10041, \"polityIV\": 19.0}, {\"country\": \"Madagascar\", \"region\": \"Africa\", \"gdppcap08\": 1049, \"polityIV\": 17.0}, {\"country\": \"Malawi\", \"region\": \"Africa\", \"gdppcap08\": 837, \"polityIV\": 15.0}, {\"country\": \"Malaysia\", \"region\": \"Asia-Pacific\", \"gdppcap08\": 14215, \"polityIV\": 13.0}, {\"country\": \"Mali\", \"region\": \"Africa\", \"gdppcap08\": 1128, \"polityIV\": 16.0}, {\"country\": \"Mauritania\", \"region\": \"Africa\", \"gdppcap08\": 2052, \"polityIV\": 4.0}, {\"country\": \"Mauritius\", \"region\": \"Africa\", \"gdppcap08\": 12079, \"polityIV\": 20.0}, {\"country\": \"Mexico\", \"region\": \"N. America\", \"gdppcap08\": 14495, \"polityIV\": 18.0}, {\"country\": \"Moldova\", \"region\": \"C&E Europe\", \"gdppcap08\": 2925, \"polityIV\": 18.0}, {\"country\": \"Mongolia\", \"region\": \"Asia-Pacific\", \"gdppcap08\": 3566, \"polityIV\": 20.0}, {\"country\": \"Morocco\", \"region\": \"Middle East\", \"gdppcap08\": 4388, \"polityIV\": 4.0}, {\"country\": \"Mozambique\", \"region\": \"Africa\", \"gdppcap08\": 855, \"polityIV\": 16.0}, {\"country\": \"Namibia\", \"region\": \"Africa\", \"gdppcap08\": 6343, \"polityIV\": 16.0}, {\"country\": \"Nepal\", \"region\": \"Asia-Pacific\", \"gdppcap08\": 1112, \"polityIV\": 4.0}, {\"country\": \"Netherlands\", \"region\": \"W. Europe\", \"gdppcap08\": 40849, \"polityIV\": 20.0}, {\"country\": \"New Zealand\", \"region\": \"Asia-Pacific\", \"gdppcap08\": 27029, \"polityIV\": 20.0}, {\"country\": \"Nicaragua\", \"region\": \"S. America\", \"gdppcap08\": 2682, \"polityIV\": 18.0}, {\"country\": \"Niger\", \"region\": \"Africa\", \"gdppcap08\": 684, \"polityIV\": 15.333333}, {\"country\": \"Nigeria\", \"region\": \"Africa\", \"gdppcap08\": 2082, \"polityIV\": 14.0}, {\"country\": \"Norway\", \"region\": \"Scandinavia\", \"gdppcap08\": 58138, \"polityIV\": 20.0}, {\"country\": \"Oman\", \"region\": \"Middle East\", \"gdppcap08\": 22478, \"polityIV\": 2.0}, {\"country\": \"Pakistan\", \"region\": \"Asia-Pacific\", \"gdppcap08\": 2644, \"polityIV\": 5.0}, {\"country\": \"Papua New Guinea\", \"region\": \"Asia-Pacific\", \"gdppcap08\": 2208, \"polityIV\": 20.0}, {\"country\": \"Paraguay\", \"region\": \"S. America\", \"gdppcap08\": 4709, \"polityIV\": 17.666667}, {\"country\": \"Peru\", \"region\": \"S. America\", \"gdppcap08\": 8507, \"polityIV\": 19.0}, {\"country\": \"Philippines\", \"region\": \"Asia-Pacific\", \"gdppcap08\": 3510, \"polityIV\": 18.0}, {\"country\": \"Poland\", \"region\": \"C&E Europe\", \"gdppcap08\": 17625, \"polityIV\": 20.0}, {\"country\": \"Portugal\", \"region\": \"W. Europe\", \"gdppcap08\": 23074, \"polityIV\": 20.0}, {\"country\": \"Qatar\", \"region\": \"Middle East\", \"gdppcap08\": 85868, \"polityIV\": 0.0}, {\"country\": \"Romania\", \"region\": \"C&E Europe\", \"gdppcap08\": 14065, \"polityIV\": 18.333333}, {\"country\": \"Russia\", \"region\": \"C&E Europe\", \"gdppcap08\": 16139, \"polityIV\": 17.0}, {\"country\": \"Rwanda\", \"region\": \"Africa\", \"gdppcap08\": 1022, \"polityIV\": 6.6666667}, {\"country\": \"Saudi Arabia\", \"region\": \"Middle East\", \"gdppcap08\": 23920, \"polityIV\": 0.0}, {\"country\": \"Senegal\", \"region\": \"Africa\", \"gdppcap08\": 1772, \"polityIV\": 18.0}, {\"country\": \"Sierra Leone\", \"region\": \"Africa\", \"gdppcap08\": 766, \"polityIV\": 15.0}, {\"country\": \"Singapore\", \"region\": \"Asia-Pacific\", \"gdppcap08\": 49284, \"polityIV\": 8.0}, {\"country\": \"Slovakia\", \"region\": \"C&E Europe\", \"gdppcap08\": 22081, \"polityIV\": 19.0}, {\"country\": \"Slovenia\", \"region\": \"C&E Europe\", \"gdppcap08\": 27605, \"polityIV\": 20.0}, {\"country\": \"Solomon Islands\", \"region\": \"Asia-Pacific\", \"gdppcap08\": 2610, \"polityIV\": 18.0}, {\"country\": \"South Africa\", \"region\": \"Africa\", \"gdppcap08\": 10109, \"polityIV\": 19.0}, {\"country\": \"Spain\", \"region\": \"W. Europe\", \"gdppcap08\": 31954, \"polityIV\": 20.0}, {\"country\": \"Sri Lanka\", \"region\": \"Asia-Pacific\", \"gdppcap08\": 4560, \"polityIV\": 15.333333}, {\"country\": \"Sudan\", \"region\": \"Africa\", \"gdppcap08\": 2153, \"polityIV\": 4.0}, {\"country\": \"Swaziland\", \"region\": \"Africa\", \"gdppcap08\": 4928, \"polityIV\": 1.0}, {\"country\": \"Sweden\", \"region\": \"Scandinavia\", \"gdppcap08\": 37383, \"polityIV\": 20.0}, {\"country\": \"Switzerland\", \"region\": \"W. Europe\", \"gdppcap08\": 42536, \"polityIV\": 20.0}, {\"country\": \"Taiwan\", \"region\": \"Asia-Pacific\", \"gdppcap08\": 30881, \"polityIV\": 19.333333}, {\"country\": \"Tajikistan\", \"region\": \"C&E Europe\", \"gdppcap08\": 1906, \"polityIV\": 7.6666667}, {\"country\": \"Tanzania\", \"region\": \"Africa\", \"gdppcap08\": 1263, \"polityIV\": 11.0}, {\"country\": \"Thailand\", \"region\": \"Asia-Pacific\", \"gdppcap08\": 7703, \"polityIV\": 19.0}, {\"country\": \"Togo\", \"region\": \"Africa\", \"gdppcap08\": 829, \"polityIV\": 8.0}, {\"country\": \"Tunisia\", \"region\": \"Middle East\", \"gdppcap08\": 7996, \"polityIV\": 6.0}, {\"country\": \"Turkey\", \"region\": \"Middle East\", \"gdppcap08\": 13920, \"polityIV\": 17.0}, {\"country\": \"Turkmenistan\", \"region\": \"C&E Europe\", \"gdppcap08\": 6641, \"polityIV\": 1.0}, {\"country\": \"UAE\", \"region\": \"Middle East\", \"gdppcap08\": 38830, \"polityIV\": 2.0}, {\"country\": \"Uganda\", \"region\": \"Africa\", \"gdppcap08\": 1165, \"polityIV\": 6.0}, {\"country\": \"Ukraine\", \"region\": \"C&E Europe\", \"gdppcap08\": 7271, \"polityIV\": 16.0}, {\"country\": \"United Kingdom\", \"region\": \"W. Europe\", \"gdppcap08\": 35445, \"polityIV\": 20.0}, {\"country\": \"United States\", \"region\": \"N. America\", \"gdppcap08\": 46716, \"polityIV\": 20.0}, {\"country\": \"Uruguay\", \"region\": \"S. America\", \"gdppcap08\": 12734, \"polityIV\": 20.0}, {\"country\": \"Uzbekistan\", \"region\": \"C&E Europe\", \"gdppcap08\": 2656, \"polityIV\": 1.0}, {\"country\": \"Venezuela\", \"region\": \"S. America\", \"gdppcap08\": 12804, \"polityIV\": 16.0}, {\"country\": \"Vietnam\", \"region\": \"Asia-Pacific\", \"gdppcap08\": 2785, \"polityIV\": 3.0}, {\"country\": \"Yemen\", \"region\": \"Middle East\", \"gdppcap08\": 2400, \"polityIV\": 8.0}, {\"country\": \"Zambia\", \"region\": \"Africa\", \"gdppcap08\": 1356, \"polityIV\": 15.0}, {\"country\": \"Zimbabwe\", \"region\": \"Africa\", \"gdppcap08\": 188, \"polityIV\": 6.0}]}}, {\"mode\": \"vega-lite\"});\n",
       "</script>"
      ],
      "text/plain": [
       "alt.LayerChart(...)"
      ]
     },
     "metadata": {},
     "execution_count": 155
    }
   ],
   "metadata": {}
  },
  {
   "cell_type": "markdown",
   "source": [
    "---\n",
    "### Exercise 10\n",
    "Let’s make sure that you accurately identified all 10 of the oil producers. Write a line of code to count up how many big producers you have identified. If you do not get 10, can you figure out what you did wrong?"
   ],
   "metadata": {}
  },
  {
   "cell_type": "code",
   "execution_count": 156,
   "source": [
    "import pandas as pd\n",
    "oil= pd.concat([wdi,sub_wdi]).drop_duplicates(keep=False)\n",
    "oil"
   ],
   "outputs": [
    {
     "output_type": "execute_result",
     "data": {
      "text/html": [
       "<div>\n",
       "<style scoped>\n",
       "    .dataframe tbody tr th:only-of-type {\n",
       "        vertical-align: middle;\n",
       "    }\n",
       "\n",
       "    .dataframe tbody tr th {\n",
       "        vertical-align: top;\n",
       "    }\n",
       "\n",
       "    .dataframe thead th {\n",
       "        text-align: right;\n",
       "    }\n",
       "</style>\n",
       "<table border=\"1\" class=\"dataframe\">\n",
       "  <thead>\n",
       "    <tr style=\"text-align: right;\">\n",
       "      <th></th>\n",
       "      <th>country</th>\n",
       "      <th>region</th>\n",
       "      <th>gdppcap08</th>\n",
       "      <th>polityIV</th>\n",
       "    </tr>\n",
       "  </thead>\n",
       "  <tbody>\n",
       "    <tr>\n",
       "      <th>2</th>\n",
       "      <td>Angola</td>\n",
       "      <td>Africa</td>\n",
       "      <td>5899</td>\n",
       "      <td>8.0</td>\n",
       "    </tr>\n",
       "    <tr>\n",
       "      <th>39</th>\n",
       "      <td>Equatorial Guinea</td>\n",
       "      <td>Africa</td>\n",
       "      <td>33873</td>\n",
       "      <td>5.0</td>\n",
       "    </tr>\n",
       "    <tr>\n",
       "      <th>45</th>\n",
       "      <td>Gabon</td>\n",
       "      <td>Africa</td>\n",
       "      <td>14527</td>\n",
       "      <td>6.0</td>\n",
       "    </tr>\n",
       "    <tr>\n",
       "      <th>71</th>\n",
       "      <td>Kuwait</td>\n",
       "      <td>Middle East</td>\n",
       "      <td>39914</td>\n",
       "      <td>3.0</td>\n",
       "    </tr>\n",
       "    <tr>\n",
       "      <th>77</th>\n",
       "      <td>Libya</td>\n",
       "      <td>Middle East</td>\n",
       "      <td>15402</td>\n",
       "      <td>3.0</td>\n",
       "    </tr>\n",
       "    <tr>\n",
       "      <th>98</th>\n",
       "      <td>Norway</td>\n",
       "      <td>Scandinavia</td>\n",
       "      <td>58138</td>\n",
       "      <td>20.0</td>\n",
       "    </tr>\n",
       "    <tr>\n",
       "      <th>99</th>\n",
       "      <td>Oman</td>\n",
       "      <td>Middle East</td>\n",
       "      <td>22478</td>\n",
       "      <td>2.0</td>\n",
       "    </tr>\n",
       "    <tr>\n",
       "      <th>107</th>\n",
       "      <td>Qatar</td>\n",
       "      <td>Middle East</td>\n",
       "      <td>85868</td>\n",
       "      <td>0.0</td>\n",
       "    </tr>\n",
       "    <tr>\n",
       "      <th>111</th>\n",
       "      <td>Saudi Arabia</td>\n",
       "      <td>Middle East</td>\n",
       "      <td>23920</td>\n",
       "      <td>0.0</td>\n",
       "    </tr>\n",
       "    <tr>\n",
       "      <th>133</th>\n",
       "      <td>UAE</td>\n",
       "      <td>Middle East</td>\n",
       "      <td>38830</td>\n",
       "      <td>2.0</td>\n",
       "    </tr>\n",
       "  </tbody>\n",
       "</table>\n",
       "</div>"
      ],
      "text/plain": [
       "               country       region  gdppcap08  polityIV\n",
       "2               Angola       Africa       5899       8.0\n",
       "39   Equatorial Guinea       Africa      33873       5.0\n",
       "45               Gabon       Africa      14527       6.0\n",
       "71              Kuwait  Middle East      39914       3.0\n",
       "77               Libya  Middle East      15402       3.0\n",
       "98              Norway  Scandinavia      58138      20.0\n",
       "99                Oman  Middle East      22478       2.0\n",
       "107              Qatar  Middle East      85868       0.0\n",
       "111       Saudi Arabia  Middle East      23920       0.0\n",
       "133                UAE  Middle East      38830       2.0"
      ]
     },
     "metadata": {},
     "execution_count": 156
    }
   ],
   "metadata": {}
  },
  {
   "cell_type": "markdown",
   "source": [
    "I get 10 big producers that I have dropped from the original dataset! So, everything is correct. However, I have noticed before that in the Exercise it said \"United Arab Emirates\" but in the dataframe the country code is \"UAE\", so I had dropped it accordingly. "
   ],
   "metadata": {}
  },
  {
   "cell_type": "markdown",
   "source": [
    "---\n",
    "### Exercise 11\n",
    "\n",
    "How does the relationship between GDP per capita and Polity look for the oil producers we dropped above?\n"
   ],
   "metadata": {}
  },
  {
   "cell_type": "code",
   "execution_count": 157,
   "source": [
    "base = (\n",
    "    alt.Chart(oil, title=\"Relationship between GDP per capita and the Polity IV Score\")\n",
    "    .mark_point()\n",
    "    .encode(\n",
    "        x=alt.X(\"gdppcap08\", title=\"GDP per Capita\", scale=alt.Scale(zero=False)),\n",
    "        y=alt.Y(\"polityIV\", title=\"Polity IV Democracy Score\", scale=alt.Scale(zero=False)),\n",
    "        tooltip=\"country\"\n",
    ").interactive()\n",
    ")\n",
    "\n",
    "text = (alt.Chart(oil)\n",
    "    .encode(\n",
    "        x=alt.X(\"gdppcap08\", scale=alt.Scale(zero=False)),\n",
    "        y=\"polityIV\",\n",
    "        text=\"country\"\n",
    "    )\n",
    "    .mark_text(size=5))\n",
    "\n",
    "base + fit + text"
   ],
   "outputs": [
    {
     "output_type": "execute_result",
     "data": {
      "text/html": [
       "\n",
       "<div id=\"altair-viz-6852ad979e2249ccae858c1111c5a5bf\"></div>\n",
       "<script type=\"text/javascript\">\n",
       "  (function(spec, embedOpt){\n",
       "    let outputDiv = document.currentScript.previousElementSibling;\n",
       "    if (outputDiv.id !== \"altair-viz-6852ad979e2249ccae858c1111c5a5bf\") {\n",
       "      outputDiv = document.getElementById(\"altair-viz-6852ad979e2249ccae858c1111c5a5bf\");\n",
       "    }\n",
       "    const paths = {\n",
       "      \"vega\": \"https://cdn.jsdelivr.net/npm//vega@5?noext\",\n",
       "      \"vega-lib\": \"https://cdn.jsdelivr.net/npm//vega-lib?noext\",\n",
       "      \"vega-lite\": \"https://cdn.jsdelivr.net/npm//vega-lite@4.8.1?noext\",\n",
       "      \"vega-embed\": \"https://cdn.jsdelivr.net/npm//vega-embed@6?noext\",\n",
       "    };\n",
       "\n",
       "    function loadScript(lib) {\n",
       "      return new Promise(function(resolve, reject) {\n",
       "        var s = document.createElement('script');\n",
       "        s.src = paths[lib];\n",
       "        s.async = true;\n",
       "        s.onload = () => resolve(paths[lib]);\n",
       "        s.onerror = () => reject(`Error loading script: ${paths[lib]}`);\n",
       "        document.getElementsByTagName(\"head\")[0].appendChild(s);\n",
       "      });\n",
       "    }\n",
       "\n",
       "    function showError(err) {\n",
       "      outputDiv.innerHTML = `<div class=\"error\" style=\"color:red;\">${err}</div>`;\n",
       "      throw err;\n",
       "    }\n",
       "\n",
       "    function displayChart(vegaEmbed) {\n",
       "      vegaEmbed(outputDiv, spec, embedOpt)\n",
       "        .catch(err => showError(`Javascript Error: ${err.message}<br>This usually means there's a typo in your chart specification. See the javascript console for the full traceback.`));\n",
       "    }\n",
       "\n",
       "    if(typeof define === \"function\" && define.amd) {\n",
       "      requirejs.config({paths});\n",
       "      require([\"vega-embed\"], displayChart, err => showError(`Error loading script: ${err.message}`));\n",
       "    } else if (typeof vegaEmbed === \"function\") {\n",
       "      displayChart(vegaEmbed);\n",
       "    } else {\n",
       "      loadScript(\"vega\")\n",
       "        .then(() => loadScript(\"vega-lite\"))\n",
       "        .then(() => loadScript(\"vega-embed\"))\n",
       "        .catch(showError)\n",
       "        .then(() => displayChart(vegaEmbed));\n",
       "    }\n",
       "  })({\"config\": {\"view\": {\"continuousWidth\": 400, \"continuousHeight\": 300}}, \"layer\": [{\"data\": {\"name\": \"data-5e46c12fd824e661bd16a58abe8e2087\"}, \"mark\": \"point\", \"encoding\": {\"tooltip\": {\"type\": \"nominal\", \"field\": \"country\"}, \"x\": {\"type\": \"quantitative\", \"field\": \"gdppcap08\", \"scale\": {\"zero\": false}, \"title\": \"GDP per Capita\"}, \"y\": {\"type\": \"quantitative\", \"field\": \"polityIV\", \"scale\": {\"zero\": false}, \"title\": \"Polity IV Democracy Score\"}}, \"selection\": {\"selector047\": {\"type\": \"interval\", \"bind\": \"scales\", \"encodings\": [\"x\", \"y\"]}}, \"title\": \"Relationship between GDP per capita and the Polity IV Score\"}, {\"data\": {\"name\": \"data-50afffcb03ca16fbefb225cc29275795\"}, \"mark\": \"line\", \"encoding\": {\"x\": {\"type\": \"quantitative\", \"field\": \"gdppcap08\", \"scale\": {\"zero\": false}, \"title\": \"GDP per Capita\"}, \"y\": {\"type\": \"quantitative\", \"field\": \"polityIV\", \"scale\": {\"zero\": false}, \"title\": \"Polity IV Democracy Score\"}}, \"title\": \"Relationship between GDP per capita and the Polity IV Score\", \"transform\": [{\"on\": \"gdppcap08\", \"regression\": \"polityIV\", \"method\": \"quad\"}]}, {\"data\": {\"name\": \"data-5e46c12fd824e661bd16a58abe8e2087\"}, \"mark\": {\"type\": \"text\", \"size\": 5}, \"encoding\": {\"text\": {\"type\": \"nominal\", \"field\": \"country\"}, \"x\": {\"type\": \"quantitative\", \"field\": \"gdppcap08\", \"scale\": {\"zero\": false}}, \"y\": {\"type\": \"quantitative\", \"field\": \"polityIV\"}}}], \"$schema\": \"https://vega.github.io/schema/vega-lite/v4.8.1.json\", \"datasets\": {\"data-5e46c12fd824e661bd16a58abe8e2087\": [{\"country\": \"Angola\", \"region\": \"Africa\", \"gdppcap08\": 5899, \"polityIV\": 8.0}, {\"country\": \"Equatorial Guinea\", \"region\": \"Africa\", \"gdppcap08\": 33873, \"polityIV\": 5.0}, {\"country\": \"Gabon\", \"region\": \"Africa\", \"gdppcap08\": 14527, \"polityIV\": 6.0}, {\"country\": \"Kuwait\", \"region\": \"Middle East\", \"gdppcap08\": 39914, \"polityIV\": 3.0}, {\"country\": \"Libya\", \"region\": \"Middle East\", \"gdppcap08\": 15402, \"polityIV\": 3.0}, {\"country\": \"Norway\", \"region\": \"Scandinavia\", \"gdppcap08\": 58138, \"polityIV\": 20.0}, {\"country\": \"Oman\", \"region\": \"Middle East\", \"gdppcap08\": 22478, \"polityIV\": 2.0}, {\"country\": \"Qatar\", \"region\": \"Middle East\", \"gdppcap08\": 85868, \"polityIV\": 0.0}, {\"country\": \"Saudi Arabia\", \"region\": \"Middle East\", \"gdppcap08\": 23920, \"polityIV\": 0.0}, {\"country\": \"UAE\", \"region\": \"Middle East\", \"gdppcap08\": 38830, \"polityIV\": 2.0}], \"data-50afffcb03ca16fbefb225cc29275795\": [{\"country\": \"Albania\", \"region\": \"C&E Europe\", \"gdppcap08\": 7715, \"polityIV\": 17.8}, {\"country\": \"Algeria\", \"region\": \"Africa\", \"gdppcap08\": 8033, \"polityIV\": 10.0}, {\"country\": \"Angola\", \"region\": \"Africa\", \"gdppcap08\": 5899, \"polityIV\": 8.0}, {\"country\": \"Argentina\", \"region\": \"S. America\", \"gdppcap08\": 14333, \"polityIV\": 18.0}, {\"country\": \"Armenia\", \"region\": \"C&E Europe\", \"gdppcap08\": 6070, \"polityIV\": 15.0}, {\"country\": \"Australia\", \"region\": \"Asia-Pacific\", \"gdppcap08\": 35677, \"polityIV\": 20.0}, {\"country\": \"Austria\", \"region\": \"W. Europe\", \"gdppcap08\": 38152, \"polityIV\": 20.0}, {\"country\": \"Azerbaijan\", \"region\": \"C&E Europe\", \"gdppcap08\": 8765, \"polityIV\": 3.0}, {\"country\": \"Bahrain\", \"region\": \"Middle East\", \"gdppcap08\": 34605, \"polityIV\": 3.0}, {\"country\": \"Bangladesh\", \"region\": \"Asia-Pacific\", \"gdppcap08\": 1334, \"polityIV\": 16.0}, {\"country\": \"Belarus\", \"region\": \"C&E Europe\", \"gdppcap08\": 12261, \"polityIV\": 3.0}, {\"country\": \"Belgium\", \"region\": \"W. Europe\", \"gdppcap08\": 34493, \"polityIV\": 20.0}, {\"country\": \"Benin\", \"region\": \"Africa\", \"gdppcap08\": 1468, \"polityIV\": 16.2}, {\"country\": \"Bhutan\", \"region\": \"Asia-Pacific\", \"gdppcap08\": 4755, \"polityIV\": 2.0}, {\"country\": \"Bolivia\", \"region\": \"S. America\", \"gdppcap08\": 4278, \"polityIV\": 18.2}, {\"country\": \"Botswana\", \"region\": \"Africa\", \"gdppcap08\": 13392, \"polityIV\": 19.0}, {\"country\": \"Brazil\", \"region\": \"S. America\", \"gdppcap08\": 10296, \"polityIV\": 18.0}, {\"country\": \"Bulgaria\", \"region\": \"C&E Europe\", \"gdppcap08\": 12393, \"polityIV\": 19.0}, {\"country\": \"Burkina Faso\", \"region\": \"Africa\", \"gdppcap08\": 1161, \"polityIV\": 10.0}, {\"country\": \"Cambodia\", \"region\": \"Asia-Pacific\", \"gdppcap08\": 1905, \"polityIV\": 12.0}, {\"country\": \"Cameroon\", \"region\": \"Africa\", \"gdppcap08\": 2215, \"polityIV\": 6.0}, {\"country\": \"Canada\", \"region\": \"N. America\", \"gdppcap08\": 36444, \"polityIV\": 20.0}, {\"country\": \"Central African Republic\", \"region\": \"Africa\", \"gdppcap08\": 736, \"polityIV\": 10.2}, {\"country\": \"Chad\", \"region\": \"Africa\", \"gdppcap08\": 1455, \"polityIV\": 8.0}, {\"country\": \"Chile\", \"region\": \"S. America\", \"gdppcap08\": 14465, \"polityIV\": 19.2}, {\"country\": \"China\", \"region\": \"Asia-Pacific\", \"gdppcap08\": 5962, \"polityIV\": 3.0}, {\"country\": \"Colombia\", \"region\": \"S. America\", \"gdppcap08\": 8885, \"polityIV\": 17.0}, {\"country\": \"Comoros\", \"region\": \"Africa\", \"gdppcap08\": 1169, \"polityIV\": 15.8}, {\"country\": \"Congo Brazzaville\", \"region\": \"Africa\", \"gdppcap08\": 3946, \"polityIV\": 6.0}, {\"country\": \"Congo Kinshasa\", \"region\": \"Africa\", \"gdppcap08\": 321, \"polityIV\": 15.0}, {\"country\": \"Costa Rica\", \"region\": \"S. America\", \"gdppcap08\": 11241, \"polityIV\": 20.0}, {\"country\": \"Croatia\", \"region\": \"C&E Europe\", \"gdppcap08\": 19084, \"polityIV\": 18.4}, {\"country\": \"Cuba\", \"region\": \"S. America\", \"gdppcap08\": 9500, \"polityIV\": 3.0}, {\"country\": \"Czech Republic\", \"region\": \"C&E Europe\", \"gdppcap08\": 24712, \"polityIV\": 20.0}, {\"country\": \"Denmark\", \"region\": \"Scandinavia\", \"gdppcap08\": 36607, \"polityIV\": 20.0}, {\"country\": \"Djibouti\", \"region\": \"Africa\", \"gdppcap08\": 2140, \"polityIV\": 12.0}, {\"country\": \"Ecuador\", \"region\": \"S. America\", \"gdppcap08\": 8009, \"polityIV\": 16.2}, {\"country\": \"Egypt\", \"region\": \"Middle East\", \"gdppcap08\": 5416, \"polityIV\": 4.0}, {\"country\": \"El Salvador\", \"region\": \"S. America\", \"gdppcap08\": 6794, \"polityIV\": 17.0}, {\"country\": \"Equatorial Guinea\", \"region\": \"Africa\", \"gdppcap08\": 33873, \"polityIV\": 5.0}, {\"country\": \"Eritrea\", \"region\": \"Africa\", \"gdppcap08\": 632, \"polityIV\": 3.0}, {\"country\": \"Estonia\", \"region\": \"C&E Europe\", \"gdppcap08\": 20662, \"polityIV\": 16.0}, {\"country\": \"Fiji\", \"region\": \"Asia-Pacific\", \"gdppcap08\": 4382, \"polityIV\": 13.8}, {\"country\": \"Finland\", \"region\": \"Scandinavia\", \"gdppcap08\": 35427, \"polityIV\": 20.0}, {\"country\": \"France\", \"region\": \"W. Europe\", \"gdppcap08\": 34045, \"polityIV\": 19.0}, {\"country\": \"Gabon\", \"region\": \"Africa\", \"gdppcap08\": 14527, \"polityIV\": 6.0}, {\"country\": \"Gambia\", \"region\": \"Africa\", \"gdppcap08\": 1363, \"polityIV\": 5.0}, {\"country\": \"Georgia\", \"region\": \"C&E Europe\", \"gdppcap08\": 4896, \"polityIV\": 15.666667}, {\"country\": \"Germany\", \"region\": \"W. Europe\", \"gdppcap08\": 35613, \"polityIV\": 20.0}, {\"country\": \"Ghana\", \"region\": \"Africa\", \"gdppcap08\": 1452, \"polityIV\": 16.666667}, {\"country\": \"Greece\", \"region\": \"W. Europe\", \"gdppcap08\": 29361, \"polityIV\": 20.0}, {\"country\": \"Guatemala\", \"region\": \"S. America\", \"gdppcap08\": 4760, \"polityIV\": 18.0}, {\"country\": \"Guinea\", \"region\": \"Africa\", \"gdppcap08\": 1204, \"polityIV\": 9.0}, {\"country\": \"Guinea-Bissau\", \"region\": \"Africa\", \"gdppcap08\": 538, \"polityIV\": 11.0}, {\"country\": \"Guyana\", \"region\": \"S. America\", \"gdppcap08\": 2542, \"polityIV\": 16.0}, {\"country\": \"Haiti\", \"region\": \"S. America\", \"gdppcap08\": 1177, \"polityIV\": 8.0}, {\"country\": \"Honduras\", \"region\": \"S. America\", \"gdppcap08\": 3965, \"polityIV\": 17.0}, {\"country\": \"Hungary\", \"region\": \"C&E Europe\", \"gdppcap08\": 19330, \"polityIV\": 20.0}, {\"country\": \"India\", \"region\": \"Asia-Pacific\", \"gdppcap08\": 2972, \"polityIV\": 19.0}, {\"country\": \"Indonesia\", \"region\": \"Asia-Pacific\", \"gdppcap08\": 3975, \"polityIV\": 16.666667}, {\"country\": \"Iran\", \"region\": \"Middle East\", \"gdppcap08\": 11666, \"polityIV\": 10.0}, {\"country\": \"Iraq\", \"region\": \"Middle East\", \"gdppcap08\": 3570, \"polityIV\": 1.0}, {\"country\": \"Ireland\", \"region\": \"W. Europe\", \"gdppcap08\": 44200, \"polityIV\": 20.0}, {\"country\": \"Israel\", \"region\": \"Middle East\", \"gdppcap08\": 27548, \"polityIV\": 20.0}, {\"country\": \"Italy\", \"region\": \"W. Europe\", \"gdppcap08\": 30756, \"polityIV\": 20.0}, {\"country\": \"Jamaica\", \"region\": \"S. America\", \"gdppcap08\": 7705, \"polityIV\": 19.0}, {\"country\": \"Japan\", \"region\": \"Asia-Pacific\", \"gdppcap08\": 34099, \"polityIV\": 20.0}, {\"country\": \"Jordan\", \"region\": \"Middle East\", \"gdppcap08\": 5283, \"polityIV\": 8.0}, {\"country\": \"Kazakhstan\", \"region\": \"C&E Europe\", \"gdppcap08\": 11315, \"polityIV\": 4.0}, {\"country\": \"Kenya\", \"region\": \"Africa\", \"gdppcap08\": 1590, \"polityIV\": 18.0}, {\"country\": \"Korea South\", \"region\": \"Asia-Pacific\", \"gdppcap08\": 27939, \"polityIV\": 18.0}, {\"country\": \"Kuwait\", \"region\": \"Middle East\", \"gdppcap08\": 39914, \"polityIV\": 3.0}, {\"country\": \"Kyrgyzstan\", \"region\": \"C&E Europe\", \"gdppcap08\": 2188, \"polityIV\": 7.0}, {\"country\": \"Laos\", \"region\": \"Asia-Pacific\", \"gdppcap08\": 2134, \"polityIV\": 3.0}, {\"country\": \"Latvia\", \"region\": \"C&E Europe\", \"gdppcap08\": 17100, \"polityIV\": 18.0}, {\"country\": \"Lesotho\", \"region\": \"Africa\", \"gdppcap08\": 1588, \"polityIV\": 18.0}, {\"country\": \"Liberia\", \"region\": \"Africa\", \"gdppcap08\": 388, \"polityIV\": 10.0}, {\"country\": \"Libya\", \"region\": \"Middle East\", \"gdppcap08\": 15402, \"polityIV\": 3.0}, {\"country\": \"Lithuania\", \"region\": \"C&E Europe\", \"gdppcap08\": 18824, \"polityIV\": 20.0}, {\"country\": \"Macedonia\", \"region\": \"C&E Europe\", \"gdppcap08\": 10041, \"polityIV\": 19.0}, {\"country\": \"Madagascar\", \"region\": \"Africa\", \"gdppcap08\": 1049, \"polityIV\": 17.0}, {\"country\": \"Malawi\", \"region\": \"Africa\", \"gdppcap08\": 837, \"polityIV\": 15.0}, {\"country\": \"Malaysia\", \"region\": \"Asia-Pacific\", \"gdppcap08\": 14215, \"polityIV\": 13.0}, {\"country\": \"Mali\", \"region\": \"Africa\", \"gdppcap08\": 1128, \"polityIV\": 16.0}, {\"country\": \"Mauritania\", \"region\": \"Africa\", \"gdppcap08\": 2052, \"polityIV\": 4.0}, {\"country\": \"Mauritius\", \"region\": \"Africa\", \"gdppcap08\": 12079, \"polityIV\": 20.0}, {\"country\": \"Mexico\", \"region\": \"N. America\", \"gdppcap08\": 14495, \"polityIV\": 18.0}, {\"country\": \"Moldova\", \"region\": \"C&E Europe\", \"gdppcap08\": 2925, \"polityIV\": 18.0}, {\"country\": \"Mongolia\", \"region\": \"Asia-Pacific\", \"gdppcap08\": 3566, \"polityIV\": 20.0}, {\"country\": \"Morocco\", \"region\": \"Middle East\", \"gdppcap08\": 4388, \"polityIV\": 4.0}, {\"country\": \"Mozambique\", \"region\": \"Africa\", \"gdppcap08\": 855, \"polityIV\": 16.0}, {\"country\": \"Namibia\", \"region\": \"Africa\", \"gdppcap08\": 6343, \"polityIV\": 16.0}, {\"country\": \"Nepal\", \"region\": \"Asia-Pacific\", \"gdppcap08\": 1112, \"polityIV\": 4.0}, {\"country\": \"Netherlands\", \"region\": \"W. Europe\", \"gdppcap08\": 40849, \"polityIV\": 20.0}, {\"country\": \"New Zealand\", \"region\": \"Asia-Pacific\", \"gdppcap08\": 27029, \"polityIV\": 20.0}, {\"country\": \"Nicaragua\", \"region\": \"S. America\", \"gdppcap08\": 2682, \"polityIV\": 18.0}, {\"country\": \"Niger\", \"region\": \"Africa\", \"gdppcap08\": 684, \"polityIV\": 15.333333}, {\"country\": \"Nigeria\", \"region\": \"Africa\", \"gdppcap08\": 2082, \"polityIV\": 14.0}, {\"country\": \"Norway\", \"region\": \"Scandinavia\", \"gdppcap08\": 58138, \"polityIV\": 20.0}, {\"country\": \"Oman\", \"region\": \"Middle East\", \"gdppcap08\": 22478, \"polityIV\": 2.0}, {\"country\": \"Pakistan\", \"region\": \"Asia-Pacific\", \"gdppcap08\": 2644, \"polityIV\": 5.0}, {\"country\": \"Papua New Guinea\", \"region\": \"Asia-Pacific\", \"gdppcap08\": 2208, \"polityIV\": 20.0}, {\"country\": \"Paraguay\", \"region\": \"S. America\", \"gdppcap08\": 4709, \"polityIV\": 17.666667}, {\"country\": \"Peru\", \"region\": \"S. America\", \"gdppcap08\": 8507, \"polityIV\": 19.0}, {\"country\": \"Philippines\", \"region\": \"Asia-Pacific\", \"gdppcap08\": 3510, \"polityIV\": 18.0}, {\"country\": \"Poland\", \"region\": \"C&E Europe\", \"gdppcap08\": 17625, \"polityIV\": 20.0}, {\"country\": \"Portugal\", \"region\": \"W. Europe\", \"gdppcap08\": 23074, \"polityIV\": 20.0}, {\"country\": \"Qatar\", \"region\": \"Middle East\", \"gdppcap08\": 85868, \"polityIV\": 0.0}, {\"country\": \"Romania\", \"region\": \"C&E Europe\", \"gdppcap08\": 14065, \"polityIV\": 18.333333}, {\"country\": \"Russia\", \"region\": \"C&E Europe\", \"gdppcap08\": 16139, \"polityIV\": 17.0}, {\"country\": \"Rwanda\", \"region\": \"Africa\", \"gdppcap08\": 1022, \"polityIV\": 6.6666667}, {\"country\": \"Saudi Arabia\", \"region\": \"Middle East\", \"gdppcap08\": 23920, \"polityIV\": 0.0}, {\"country\": \"Senegal\", \"region\": \"Africa\", \"gdppcap08\": 1772, \"polityIV\": 18.0}, {\"country\": \"Sierra Leone\", \"region\": \"Africa\", \"gdppcap08\": 766, \"polityIV\": 15.0}, {\"country\": \"Singapore\", \"region\": \"Asia-Pacific\", \"gdppcap08\": 49284, \"polityIV\": 8.0}, {\"country\": \"Slovakia\", \"region\": \"C&E Europe\", \"gdppcap08\": 22081, \"polityIV\": 19.0}, {\"country\": \"Slovenia\", \"region\": \"C&E Europe\", \"gdppcap08\": 27605, \"polityIV\": 20.0}, {\"country\": \"Solomon Islands\", \"region\": \"Asia-Pacific\", \"gdppcap08\": 2610, \"polityIV\": 18.0}, {\"country\": \"South Africa\", \"region\": \"Africa\", \"gdppcap08\": 10109, \"polityIV\": 19.0}, {\"country\": \"Spain\", \"region\": \"W. Europe\", \"gdppcap08\": 31954, \"polityIV\": 20.0}, {\"country\": \"Sri Lanka\", \"region\": \"Asia-Pacific\", \"gdppcap08\": 4560, \"polityIV\": 15.333333}, {\"country\": \"Sudan\", \"region\": \"Africa\", \"gdppcap08\": 2153, \"polityIV\": 4.0}, {\"country\": \"Swaziland\", \"region\": \"Africa\", \"gdppcap08\": 4928, \"polityIV\": 1.0}, {\"country\": \"Sweden\", \"region\": \"Scandinavia\", \"gdppcap08\": 37383, \"polityIV\": 20.0}, {\"country\": \"Switzerland\", \"region\": \"W. Europe\", \"gdppcap08\": 42536, \"polityIV\": 20.0}, {\"country\": \"Taiwan\", \"region\": \"Asia-Pacific\", \"gdppcap08\": 30881, \"polityIV\": 19.333333}, {\"country\": \"Tajikistan\", \"region\": \"C&E Europe\", \"gdppcap08\": 1906, \"polityIV\": 7.6666667}, {\"country\": \"Tanzania\", \"region\": \"Africa\", \"gdppcap08\": 1263, \"polityIV\": 11.0}, {\"country\": \"Thailand\", \"region\": \"Asia-Pacific\", \"gdppcap08\": 7703, \"polityIV\": 19.0}, {\"country\": \"Togo\", \"region\": \"Africa\", \"gdppcap08\": 829, \"polityIV\": 8.0}, {\"country\": \"Tunisia\", \"region\": \"Middle East\", \"gdppcap08\": 7996, \"polityIV\": 6.0}, {\"country\": \"Turkey\", \"region\": \"Middle East\", \"gdppcap08\": 13920, \"polityIV\": 17.0}, {\"country\": \"Turkmenistan\", \"region\": \"C&E Europe\", \"gdppcap08\": 6641, \"polityIV\": 1.0}, {\"country\": \"UAE\", \"region\": \"Middle East\", \"gdppcap08\": 38830, \"polityIV\": 2.0}, {\"country\": \"Uganda\", \"region\": \"Africa\", \"gdppcap08\": 1165, \"polityIV\": 6.0}, {\"country\": \"Ukraine\", \"region\": \"C&E Europe\", \"gdppcap08\": 7271, \"polityIV\": 16.0}, {\"country\": \"United Kingdom\", \"region\": \"W. Europe\", \"gdppcap08\": 35445, \"polityIV\": 20.0}, {\"country\": \"United States\", \"region\": \"N. America\", \"gdppcap08\": 46716, \"polityIV\": 20.0}, {\"country\": \"Uruguay\", \"region\": \"S. America\", \"gdppcap08\": 12734, \"polityIV\": 20.0}, {\"country\": \"Uzbekistan\", \"region\": \"C&E Europe\", \"gdppcap08\": 2656, \"polityIV\": 1.0}, {\"country\": \"Venezuela\", \"region\": \"S. America\", \"gdppcap08\": 12804, \"polityIV\": 16.0}, {\"country\": \"Vietnam\", \"region\": \"Asia-Pacific\", \"gdppcap08\": 2785, \"polityIV\": 3.0}, {\"country\": \"Yemen\", \"region\": \"Middle East\", \"gdppcap08\": 2400, \"polityIV\": 8.0}, {\"country\": \"Zambia\", \"region\": \"Africa\", \"gdppcap08\": 1356, \"polityIV\": 15.0}, {\"country\": \"Zimbabwe\", \"region\": \"Africa\", \"gdppcap08\": 188, \"polityIV\": 6.0}]}}, {\"mode\": \"vega-lite\"});\n",
       "</script>"
      ],
      "text/plain": [
       "alt.LayerChart(...)"
      ]
     },
     "metadata": {},
     "execution_count": 157
    }
   ],
   "metadata": {}
  },
  {
   "cell_type": "markdown",
   "source": [
    "- The relationship is not linear, however, that is because of Norway which is both a very democratic country and a big oil producer. The resource curse does not affect Norwegian scores of democracy. If Norway would be dropped, I'd assume the relationship between GDP per capita and democracy scores would be rather linear and negative."
   ],
   "metadata": {}
  },
  {
   "cell_type": "markdown",
   "source": [
    "---\n",
    "### Exercise 12\n",
    "\n",
    "Look back to your answer for Exercise 2. Do you still believe the result of your linear model? What did you learn from plotting. Write down your answers with your partner.\n",
    "- I do not believe the result of the linear model. I fitted a linear function and it forced itself on the data without the data actually showing a linear relationship between the two variables. It teaches me that it is necessary to understand the data first, investigate the dataset, look for potential outliers or data that might skew any substantial findings. It also teaches me that it's important what research question we have at hand and to adjust the model to it. E.g. do we want to see how the resource curse plays out? Then we should keep the outliers and big oil producers. Or do we want to look at countries that are in a certain economic sector? It all matters. Generally, the functional form we apply to our regression needs to be set based on good arguments and according to the data. With all datapoints included the function here e.g. rather seems to be quadratical than linear. OLS does hence not always work or produce results that reflect reality. "
   ],
   "metadata": {}
  },
  {
   "cell_type": "markdown",
   "source": [
    "---\n",
    "### Exercise 13\n",
    "\n",
    "Finally, let’s make an interactive chart to help readers explore this relationship themselves! Create an interactive chart with a dropdown menu to select big oil producers / non-big oil producers, and add a mouseover to allow users to check the names of countries."
   ],
   "metadata": {}
  },
  {
   "cell_type": "code",
   "execution_count": 162,
   "source": [
    "import numpy as np\n",
    "print(\"Create Boolean indicator\")\n",
    "wdi[\"Oil Producer\"] = (wdi[\"country\"] == \"Qatar\") | (wdi[\"country\"] == \"Kuwait\") |  (wdi[\"country\"] == \"Equatorial Guinea\")  | (wdi[\"country\"] == \"UAE\")  | (wdi[\"country\"] == \"Norway\")  | (wdi[\"country\"] == \"Saudi Arabia\")  | (wdi[\"country\"] == \"Libya\")  | (wdi[\"country\"] == \"Oman\") | (wdi[\"country\"] == \"Gabon\") | (wdi[\"country\"] ==\"Angola\")\n",
    "wdi[\"Oil Producer\"]\n",
    "wdi['Oil Producing'] = [1 if x ==True else 0 for x in wdi['Oil Producer']]\n",
    "wdi['Oil Producing'] = wdi['Oil Producing'].replace(1 , \"Yes\").copy()\n",
    "wdi['Oil Producing'] = wdi['Oil Producing'].replace(0, \"No\").copy()\n",
    "wdi['Oil Producing']"
   ],
   "outputs": [
    {
     "output_type": "stream",
     "name": "stdout",
     "text": [
      "Create Boolean indicator\n"
     ]
    },
    {
     "output_type": "execute_result",
     "data": {
      "text/plain": [
       "0       No\n",
       "1       No\n",
       "2      Yes\n",
       "3       No\n",
       "4       No\n",
       "      ... \n",
       "140     No\n",
       "141     No\n",
       "142     No\n",
       "143     No\n",
       "144     No\n",
       "Name: Oil Producing, Length: 145, dtype: object"
      ]
     },
     "metadata": {},
     "execution_count": 162
    }
   ],
   "metadata": {}
  },
  {
   "cell_type": "code",
   "execution_count": 166,
   "source": [
    "input_dropdown = alt.binding_select(options=['Yes', 'No'])\n",
    "selection = alt.selection_single(fields=['Oil Producing'], bind=input_dropdown, name='Country is')\n",
    "color = alt.condition(selection,\n",
    "                    alt.Color('Oil Producing:N', legend=None),\n",
    "                    alt.value('lightgray'))\n",
    "\n",
    "base = (\n",
    "    alt.Chart(wdi, title=\"Relationship between GDP per capita and the Polity IV Score\")\n",
    "    .mark_point()\n",
    "    .encode(\n",
    "        x=alt.X(\"gdppcap08\", title=\"GDP per Capita\", scale=alt.Scale(zero=False)),\n",
    "        y=alt.Y(\"polityIV\", title=\"Polity IV Democracy Score\", scale=alt.Scale(zero=False)),\n",
    "        color=color,\n",
    "        tooltip=\"countr:N\"\n",
    "    ).add_selection(\n",
    "        selection\n",
    ").interactive()\n",
    ")\n",
    "\n",
    "text = (alt.Chart(wdi)\n",
    "    .encode(\n",
    "        x=alt.X(\"gdppcap08\", scale=alt.Scale(zero=False)),\n",
    "        y=\"polityIV\",\n",
    "        text=\"country\"\n",
    "    )\n",
    "    .mark_text(size=5))\n",
    "\n",
    "base +  text"
   ],
   "outputs": [
    {
     "output_type": "execute_result",
     "data": {
      "text/html": [
       "\n",
       "<div id=\"altair-viz-52fae6d34a814e579ec1e14487718388\"></div>\n",
       "<script type=\"text/javascript\">\n",
       "  (function(spec, embedOpt){\n",
       "    let outputDiv = document.currentScript.previousElementSibling;\n",
       "    if (outputDiv.id !== \"altair-viz-52fae6d34a814e579ec1e14487718388\") {\n",
       "      outputDiv = document.getElementById(\"altair-viz-52fae6d34a814e579ec1e14487718388\");\n",
       "    }\n",
       "    const paths = {\n",
       "      \"vega\": \"https://cdn.jsdelivr.net/npm//vega@5?noext\",\n",
       "      \"vega-lib\": \"https://cdn.jsdelivr.net/npm//vega-lib?noext\",\n",
       "      \"vega-lite\": \"https://cdn.jsdelivr.net/npm//vega-lite@4.8.1?noext\",\n",
       "      \"vega-embed\": \"https://cdn.jsdelivr.net/npm//vega-embed@6?noext\",\n",
       "    };\n",
       "\n",
       "    function loadScript(lib) {\n",
       "      return new Promise(function(resolve, reject) {\n",
       "        var s = document.createElement('script');\n",
       "        s.src = paths[lib];\n",
       "        s.async = true;\n",
       "        s.onload = () => resolve(paths[lib]);\n",
       "        s.onerror = () => reject(`Error loading script: ${paths[lib]}`);\n",
       "        document.getElementsByTagName(\"head\")[0].appendChild(s);\n",
       "      });\n",
       "    }\n",
       "\n",
       "    function showError(err) {\n",
       "      outputDiv.innerHTML = `<div class=\"error\" style=\"color:red;\">${err}</div>`;\n",
       "      throw err;\n",
       "    }\n",
       "\n",
       "    function displayChart(vegaEmbed) {\n",
       "      vegaEmbed(outputDiv, spec, embedOpt)\n",
       "        .catch(err => showError(`Javascript Error: ${err.message}<br>This usually means there's a typo in your chart specification. See the javascript console for the full traceback.`));\n",
       "    }\n",
       "\n",
       "    if(typeof define === \"function\" && define.amd) {\n",
       "      requirejs.config({paths});\n",
       "      require([\"vega-embed\"], displayChart, err => showError(`Error loading script: ${err.message}`));\n",
       "    } else if (typeof vegaEmbed === \"function\") {\n",
       "      displayChart(vegaEmbed);\n",
       "    } else {\n",
       "      loadScript(\"vega\")\n",
       "        .then(() => loadScript(\"vega-lite\"))\n",
       "        .then(() => loadScript(\"vega-embed\"))\n",
       "        .catch(showError)\n",
       "        .then(() => displayChart(vegaEmbed));\n",
       "    }\n",
       "  })({\"config\": {\"view\": {\"continuousWidth\": 400, \"continuousHeight\": 300}}, \"layer\": [{\"mark\": \"point\", \"encoding\": {\"color\": {\"condition\": {\"type\": \"nominal\", \"field\": \"Oil Producing\", \"legend\": null, \"selection\": \"Country is\"}, \"value\": \"lightgray\"}, \"tooltip\": {\"type\": \"nominal\", \"field\": \"countr\"}, \"x\": {\"type\": \"quantitative\", \"field\": \"gdppcap08\", \"scale\": {\"zero\": false}, \"title\": \"GDP per Capita\"}, \"y\": {\"type\": \"quantitative\", \"field\": \"polityIV\", \"scale\": {\"zero\": false}, \"title\": \"Polity IV Democracy Score\"}}, \"selection\": {\"Country is\": {\"type\": \"single\", \"fields\": [\"Oil Producing\"], \"bind\": {\"input\": \"select\", \"options\": [\"Yes\", \"No\"]}}, \"selector051\": {\"type\": \"interval\", \"bind\": \"scales\", \"encodings\": [\"x\", \"y\"]}}, \"title\": \"Relationship between GDP per capita and the Polity IV Score\"}, {\"mark\": {\"type\": \"text\", \"size\": 5}, \"encoding\": {\"text\": {\"type\": \"nominal\", \"field\": \"country\"}, \"x\": {\"type\": \"quantitative\", \"field\": \"gdppcap08\", \"scale\": {\"zero\": false}}, \"y\": {\"type\": \"quantitative\", \"field\": \"polityIV\"}}}], \"data\": {\"name\": \"data-12da45d2d6dfda24785ade9dff5b57de\"}, \"$schema\": \"https://vega.github.io/schema/vega-lite/v4.8.1.json\", \"datasets\": {\"data-12da45d2d6dfda24785ade9dff5b57de\": [{\"country\": \"Albania\", \"region\": \"C&E Europe\", \"gdppcap08\": 7715, \"polityIV\": 17.8, \"Oil Producer\": false, \"Oil Producing\": \"No\"}, {\"country\": \"Algeria\", \"region\": \"Africa\", \"gdppcap08\": 8033, \"polityIV\": 10.0, \"Oil Producer\": false, \"Oil Producing\": \"No\"}, {\"country\": \"Angola\", \"region\": \"Africa\", \"gdppcap08\": 5899, \"polityIV\": 8.0, \"Oil Producer\": true, \"Oil Producing\": \"Yes\"}, {\"country\": \"Argentina\", \"region\": \"S. America\", \"gdppcap08\": 14333, \"polityIV\": 18.0, \"Oil Producer\": false, \"Oil Producing\": \"No\"}, {\"country\": \"Armenia\", \"region\": \"C&E Europe\", \"gdppcap08\": 6070, \"polityIV\": 15.0, \"Oil Producer\": false, \"Oil Producing\": \"No\"}, {\"country\": \"Australia\", \"region\": \"Asia-Pacific\", \"gdppcap08\": 35677, \"polityIV\": 20.0, \"Oil Producer\": false, \"Oil Producing\": \"No\"}, {\"country\": \"Austria\", \"region\": \"W. Europe\", \"gdppcap08\": 38152, \"polityIV\": 20.0, \"Oil Producer\": false, \"Oil Producing\": \"No\"}, {\"country\": \"Azerbaijan\", \"region\": \"C&E Europe\", \"gdppcap08\": 8765, \"polityIV\": 3.0, \"Oil Producer\": false, \"Oil Producing\": \"No\"}, {\"country\": \"Bahrain\", \"region\": \"Middle East\", \"gdppcap08\": 34605, \"polityIV\": 3.0, \"Oil Producer\": false, \"Oil Producing\": \"No\"}, {\"country\": \"Bangladesh\", \"region\": \"Asia-Pacific\", \"gdppcap08\": 1334, \"polityIV\": 16.0, \"Oil Producer\": false, \"Oil Producing\": \"No\"}, {\"country\": \"Belarus\", \"region\": \"C&E Europe\", \"gdppcap08\": 12261, \"polityIV\": 3.0, \"Oil Producer\": false, \"Oil Producing\": \"No\"}, {\"country\": \"Belgium\", \"region\": \"W. Europe\", \"gdppcap08\": 34493, \"polityIV\": 20.0, \"Oil Producer\": false, \"Oil Producing\": \"No\"}, {\"country\": \"Benin\", \"region\": \"Africa\", \"gdppcap08\": 1468, \"polityIV\": 16.2, \"Oil Producer\": false, \"Oil Producing\": \"No\"}, {\"country\": \"Bhutan\", \"region\": \"Asia-Pacific\", \"gdppcap08\": 4755, \"polityIV\": 2.0, \"Oil Producer\": false, \"Oil Producing\": \"No\"}, {\"country\": \"Bolivia\", \"region\": \"S. America\", \"gdppcap08\": 4278, \"polityIV\": 18.2, \"Oil Producer\": false, \"Oil Producing\": \"No\"}, {\"country\": \"Botswana\", \"region\": \"Africa\", \"gdppcap08\": 13392, \"polityIV\": 19.0, \"Oil Producer\": false, \"Oil Producing\": \"No\"}, {\"country\": \"Brazil\", \"region\": \"S. America\", \"gdppcap08\": 10296, \"polityIV\": 18.0, \"Oil Producer\": false, \"Oil Producing\": \"No\"}, {\"country\": \"Bulgaria\", \"region\": \"C&E Europe\", \"gdppcap08\": 12393, \"polityIV\": 19.0, \"Oil Producer\": false, \"Oil Producing\": \"No\"}, {\"country\": \"Burkina Faso\", \"region\": \"Africa\", \"gdppcap08\": 1161, \"polityIV\": 10.0, \"Oil Producer\": false, \"Oil Producing\": \"No\"}, {\"country\": \"Cambodia\", \"region\": \"Asia-Pacific\", \"gdppcap08\": 1905, \"polityIV\": 12.0, \"Oil Producer\": false, \"Oil Producing\": \"No\"}, {\"country\": \"Cameroon\", \"region\": \"Africa\", \"gdppcap08\": 2215, \"polityIV\": 6.0, \"Oil Producer\": false, \"Oil Producing\": \"No\"}, {\"country\": \"Canada\", \"region\": \"N. America\", \"gdppcap08\": 36444, \"polityIV\": 20.0, \"Oil Producer\": false, \"Oil Producing\": \"No\"}, {\"country\": \"Central African Republic\", \"region\": \"Africa\", \"gdppcap08\": 736, \"polityIV\": 10.2, \"Oil Producer\": false, \"Oil Producing\": \"No\"}, {\"country\": \"Chad\", \"region\": \"Africa\", \"gdppcap08\": 1455, \"polityIV\": 8.0, \"Oil Producer\": false, \"Oil Producing\": \"No\"}, {\"country\": \"Chile\", \"region\": \"S. America\", \"gdppcap08\": 14465, \"polityIV\": 19.2, \"Oil Producer\": false, \"Oil Producing\": \"No\"}, {\"country\": \"China\", \"region\": \"Asia-Pacific\", \"gdppcap08\": 5962, \"polityIV\": 3.0, \"Oil Producer\": false, \"Oil Producing\": \"No\"}, {\"country\": \"Colombia\", \"region\": \"S. America\", \"gdppcap08\": 8885, \"polityIV\": 17.0, \"Oil Producer\": false, \"Oil Producing\": \"No\"}, {\"country\": \"Comoros\", \"region\": \"Africa\", \"gdppcap08\": 1169, \"polityIV\": 15.8, \"Oil Producer\": false, \"Oil Producing\": \"No\"}, {\"country\": \"Congo Brazzaville\", \"region\": \"Africa\", \"gdppcap08\": 3946, \"polityIV\": 6.0, \"Oil Producer\": false, \"Oil Producing\": \"No\"}, {\"country\": \"Congo Kinshasa\", \"region\": \"Africa\", \"gdppcap08\": 321, \"polityIV\": 15.0, \"Oil Producer\": false, \"Oil Producing\": \"No\"}, {\"country\": \"Costa Rica\", \"region\": \"S. America\", \"gdppcap08\": 11241, \"polityIV\": 20.0, \"Oil Producer\": false, \"Oil Producing\": \"No\"}, {\"country\": \"Croatia\", \"region\": \"C&E Europe\", \"gdppcap08\": 19084, \"polityIV\": 18.4, \"Oil Producer\": false, \"Oil Producing\": \"No\"}, {\"country\": \"Cuba\", \"region\": \"S. America\", \"gdppcap08\": 9500, \"polityIV\": 3.0, \"Oil Producer\": false, \"Oil Producing\": \"No\"}, {\"country\": \"Czech Republic\", \"region\": \"C&E Europe\", \"gdppcap08\": 24712, \"polityIV\": 20.0, \"Oil Producer\": false, \"Oil Producing\": \"No\"}, {\"country\": \"Denmark\", \"region\": \"Scandinavia\", \"gdppcap08\": 36607, \"polityIV\": 20.0, \"Oil Producer\": false, \"Oil Producing\": \"No\"}, {\"country\": \"Djibouti\", \"region\": \"Africa\", \"gdppcap08\": 2140, \"polityIV\": 12.0, \"Oil Producer\": false, \"Oil Producing\": \"No\"}, {\"country\": \"Ecuador\", \"region\": \"S. America\", \"gdppcap08\": 8009, \"polityIV\": 16.2, \"Oil Producer\": false, \"Oil Producing\": \"No\"}, {\"country\": \"Egypt\", \"region\": \"Middle East\", \"gdppcap08\": 5416, \"polityIV\": 4.0, \"Oil Producer\": false, \"Oil Producing\": \"No\"}, {\"country\": \"El Salvador\", \"region\": \"S. America\", \"gdppcap08\": 6794, \"polityIV\": 17.0, \"Oil Producer\": false, \"Oil Producing\": \"No\"}, {\"country\": \"Equatorial Guinea\", \"region\": \"Africa\", \"gdppcap08\": 33873, \"polityIV\": 5.0, \"Oil Producer\": true, \"Oil Producing\": \"Yes\"}, {\"country\": \"Eritrea\", \"region\": \"Africa\", \"gdppcap08\": 632, \"polityIV\": 3.0, \"Oil Producer\": false, \"Oil Producing\": \"No\"}, {\"country\": \"Estonia\", \"region\": \"C&E Europe\", \"gdppcap08\": 20662, \"polityIV\": 16.0, \"Oil Producer\": false, \"Oil Producing\": \"No\"}, {\"country\": \"Fiji\", \"region\": \"Asia-Pacific\", \"gdppcap08\": 4382, \"polityIV\": 13.8, \"Oil Producer\": false, \"Oil Producing\": \"No\"}, {\"country\": \"Finland\", \"region\": \"Scandinavia\", \"gdppcap08\": 35427, \"polityIV\": 20.0, \"Oil Producer\": false, \"Oil Producing\": \"No\"}, {\"country\": \"France\", \"region\": \"W. Europe\", \"gdppcap08\": 34045, \"polityIV\": 19.0, \"Oil Producer\": false, \"Oil Producing\": \"No\"}, {\"country\": \"Gabon\", \"region\": \"Africa\", \"gdppcap08\": 14527, \"polityIV\": 6.0, \"Oil Producer\": true, \"Oil Producing\": \"Yes\"}, {\"country\": \"Gambia\", \"region\": \"Africa\", \"gdppcap08\": 1363, \"polityIV\": 5.0, \"Oil Producer\": false, \"Oil Producing\": \"No\"}, {\"country\": \"Georgia\", \"region\": \"C&E Europe\", \"gdppcap08\": 4896, \"polityIV\": 15.666667, \"Oil Producer\": false, \"Oil Producing\": \"No\"}, {\"country\": \"Germany\", \"region\": \"W. Europe\", \"gdppcap08\": 35613, \"polityIV\": 20.0, \"Oil Producer\": false, \"Oil Producing\": \"No\"}, {\"country\": \"Ghana\", \"region\": \"Africa\", \"gdppcap08\": 1452, \"polityIV\": 16.666667, \"Oil Producer\": false, \"Oil Producing\": \"No\"}, {\"country\": \"Greece\", \"region\": \"W. Europe\", \"gdppcap08\": 29361, \"polityIV\": 20.0, \"Oil Producer\": false, \"Oil Producing\": \"No\"}, {\"country\": \"Guatemala\", \"region\": \"S. America\", \"gdppcap08\": 4760, \"polityIV\": 18.0, \"Oil Producer\": false, \"Oil Producing\": \"No\"}, {\"country\": \"Guinea\", \"region\": \"Africa\", \"gdppcap08\": 1204, \"polityIV\": 9.0, \"Oil Producer\": false, \"Oil Producing\": \"No\"}, {\"country\": \"Guinea-Bissau\", \"region\": \"Africa\", \"gdppcap08\": 538, \"polityIV\": 11.0, \"Oil Producer\": false, \"Oil Producing\": \"No\"}, {\"country\": \"Guyana\", \"region\": \"S. America\", \"gdppcap08\": 2542, \"polityIV\": 16.0, \"Oil Producer\": false, \"Oil Producing\": \"No\"}, {\"country\": \"Haiti\", \"region\": \"S. America\", \"gdppcap08\": 1177, \"polityIV\": 8.0, \"Oil Producer\": false, \"Oil Producing\": \"No\"}, {\"country\": \"Honduras\", \"region\": \"S. America\", \"gdppcap08\": 3965, \"polityIV\": 17.0, \"Oil Producer\": false, \"Oil Producing\": \"No\"}, {\"country\": \"Hungary\", \"region\": \"C&E Europe\", \"gdppcap08\": 19330, \"polityIV\": 20.0, \"Oil Producer\": false, \"Oil Producing\": \"No\"}, {\"country\": \"India\", \"region\": \"Asia-Pacific\", \"gdppcap08\": 2972, \"polityIV\": 19.0, \"Oil Producer\": false, \"Oil Producing\": \"No\"}, {\"country\": \"Indonesia\", \"region\": \"Asia-Pacific\", \"gdppcap08\": 3975, \"polityIV\": 16.666667, \"Oil Producer\": false, \"Oil Producing\": \"No\"}, {\"country\": \"Iran\", \"region\": \"Middle East\", \"gdppcap08\": 11666, \"polityIV\": 10.0, \"Oil Producer\": false, \"Oil Producing\": \"No\"}, {\"country\": \"Iraq\", \"region\": \"Middle East\", \"gdppcap08\": 3570, \"polityIV\": 1.0, \"Oil Producer\": false, \"Oil Producing\": \"No\"}, {\"country\": \"Ireland\", \"region\": \"W. Europe\", \"gdppcap08\": 44200, \"polityIV\": 20.0, \"Oil Producer\": false, \"Oil Producing\": \"No\"}, {\"country\": \"Israel\", \"region\": \"Middle East\", \"gdppcap08\": 27548, \"polityIV\": 20.0, \"Oil Producer\": false, \"Oil Producing\": \"No\"}, {\"country\": \"Italy\", \"region\": \"W. Europe\", \"gdppcap08\": 30756, \"polityIV\": 20.0, \"Oil Producer\": false, \"Oil Producing\": \"No\"}, {\"country\": \"Jamaica\", \"region\": \"S. America\", \"gdppcap08\": 7705, \"polityIV\": 19.0, \"Oil Producer\": false, \"Oil Producing\": \"No\"}, {\"country\": \"Japan\", \"region\": \"Asia-Pacific\", \"gdppcap08\": 34099, \"polityIV\": 20.0, \"Oil Producer\": false, \"Oil Producing\": \"No\"}, {\"country\": \"Jordan\", \"region\": \"Middle East\", \"gdppcap08\": 5283, \"polityIV\": 8.0, \"Oil Producer\": false, \"Oil Producing\": \"No\"}, {\"country\": \"Kazakhstan\", \"region\": \"C&E Europe\", \"gdppcap08\": 11315, \"polityIV\": 4.0, \"Oil Producer\": false, \"Oil Producing\": \"No\"}, {\"country\": \"Kenya\", \"region\": \"Africa\", \"gdppcap08\": 1590, \"polityIV\": 18.0, \"Oil Producer\": false, \"Oil Producing\": \"No\"}, {\"country\": \"Korea South\", \"region\": \"Asia-Pacific\", \"gdppcap08\": 27939, \"polityIV\": 18.0, \"Oil Producer\": false, \"Oil Producing\": \"No\"}, {\"country\": \"Kuwait\", \"region\": \"Middle East\", \"gdppcap08\": 39914, \"polityIV\": 3.0, \"Oil Producer\": true, \"Oil Producing\": \"Yes\"}, {\"country\": \"Kyrgyzstan\", \"region\": \"C&E Europe\", \"gdppcap08\": 2188, \"polityIV\": 7.0, \"Oil Producer\": false, \"Oil Producing\": \"No\"}, {\"country\": \"Laos\", \"region\": \"Asia-Pacific\", \"gdppcap08\": 2134, \"polityIV\": 3.0, \"Oil Producer\": false, \"Oil Producing\": \"No\"}, {\"country\": \"Latvia\", \"region\": \"C&E Europe\", \"gdppcap08\": 17100, \"polityIV\": 18.0, \"Oil Producer\": false, \"Oil Producing\": \"No\"}, {\"country\": \"Lesotho\", \"region\": \"Africa\", \"gdppcap08\": 1588, \"polityIV\": 18.0, \"Oil Producer\": false, \"Oil Producing\": \"No\"}, {\"country\": \"Liberia\", \"region\": \"Africa\", \"gdppcap08\": 388, \"polityIV\": 10.0, \"Oil Producer\": false, \"Oil Producing\": \"No\"}, {\"country\": \"Libya\", \"region\": \"Middle East\", \"gdppcap08\": 15402, \"polityIV\": 3.0, \"Oil Producer\": true, \"Oil Producing\": \"Yes\"}, {\"country\": \"Lithuania\", \"region\": \"C&E Europe\", \"gdppcap08\": 18824, \"polityIV\": 20.0, \"Oil Producer\": false, \"Oil Producing\": \"No\"}, {\"country\": \"Macedonia\", \"region\": \"C&E Europe\", \"gdppcap08\": 10041, \"polityIV\": 19.0, \"Oil Producer\": false, \"Oil Producing\": \"No\"}, {\"country\": \"Madagascar\", \"region\": \"Africa\", \"gdppcap08\": 1049, \"polityIV\": 17.0, \"Oil Producer\": false, \"Oil Producing\": \"No\"}, {\"country\": \"Malawi\", \"region\": \"Africa\", \"gdppcap08\": 837, \"polityIV\": 15.0, \"Oil Producer\": false, \"Oil Producing\": \"No\"}, {\"country\": \"Malaysia\", \"region\": \"Asia-Pacific\", \"gdppcap08\": 14215, \"polityIV\": 13.0, \"Oil Producer\": false, \"Oil Producing\": \"No\"}, {\"country\": \"Mali\", \"region\": \"Africa\", \"gdppcap08\": 1128, \"polityIV\": 16.0, \"Oil Producer\": false, \"Oil Producing\": \"No\"}, {\"country\": \"Mauritania\", \"region\": \"Africa\", \"gdppcap08\": 2052, \"polityIV\": 4.0, \"Oil Producer\": false, \"Oil Producing\": \"No\"}, {\"country\": \"Mauritius\", \"region\": \"Africa\", \"gdppcap08\": 12079, \"polityIV\": 20.0, \"Oil Producer\": false, \"Oil Producing\": \"No\"}, {\"country\": \"Mexico\", \"region\": \"N. America\", \"gdppcap08\": 14495, \"polityIV\": 18.0, \"Oil Producer\": false, \"Oil Producing\": \"No\"}, {\"country\": \"Moldova\", \"region\": \"C&E Europe\", \"gdppcap08\": 2925, \"polityIV\": 18.0, \"Oil Producer\": false, \"Oil Producing\": \"No\"}, {\"country\": \"Mongolia\", \"region\": \"Asia-Pacific\", \"gdppcap08\": 3566, \"polityIV\": 20.0, \"Oil Producer\": false, \"Oil Producing\": \"No\"}, {\"country\": \"Morocco\", \"region\": \"Middle East\", \"gdppcap08\": 4388, \"polityIV\": 4.0, \"Oil Producer\": false, \"Oil Producing\": \"No\"}, {\"country\": \"Mozambique\", \"region\": \"Africa\", \"gdppcap08\": 855, \"polityIV\": 16.0, \"Oil Producer\": false, \"Oil Producing\": \"No\"}, {\"country\": \"Namibia\", \"region\": \"Africa\", \"gdppcap08\": 6343, \"polityIV\": 16.0, \"Oil Producer\": false, \"Oil Producing\": \"No\"}, {\"country\": \"Nepal\", \"region\": \"Asia-Pacific\", \"gdppcap08\": 1112, \"polityIV\": 4.0, \"Oil Producer\": false, \"Oil Producing\": \"No\"}, {\"country\": \"Netherlands\", \"region\": \"W. Europe\", \"gdppcap08\": 40849, \"polityIV\": 20.0, \"Oil Producer\": false, \"Oil Producing\": \"No\"}, {\"country\": \"New Zealand\", \"region\": \"Asia-Pacific\", \"gdppcap08\": 27029, \"polityIV\": 20.0, \"Oil Producer\": false, \"Oil Producing\": \"No\"}, {\"country\": \"Nicaragua\", \"region\": \"S. America\", \"gdppcap08\": 2682, \"polityIV\": 18.0, \"Oil Producer\": false, \"Oil Producing\": \"No\"}, {\"country\": \"Niger\", \"region\": \"Africa\", \"gdppcap08\": 684, \"polityIV\": 15.333333, \"Oil Producer\": false, \"Oil Producing\": \"No\"}, {\"country\": \"Nigeria\", \"region\": \"Africa\", \"gdppcap08\": 2082, \"polityIV\": 14.0, \"Oil Producer\": false, \"Oil Producing\": \"No\"}, {\"country\": \"Norway\", \"region\": \"Scandinavia\", \"gdppcap08\": 58138, \"polityIV\": 20.0, \"Oil Producer\": true, \"Oil Producing\": \"Yes\"}, {\"country\": \"Oman\", \"region\": \"Middle East\", \"gdppcap08\": 22478, \"polityIV\": 2.0, \"Oil Producer\": true, \"Oil Producing\": \"Yes\"}, {\"country\": \"Pakistan\", \"region\": \"Asia-Pacific\", \"gdppcap08\": 2644, \"polityIV\": 5.0, \"Oil Producer\": false, \"Oil Producing\": \"No\"}, {\"country\": \"Papua New Guinea\", \"region\": \"Asia-Pacific\", \"gdppcap08\": 2208, \"polityIV\": 20.0, \"Oil Producer\": false, \"Oil Producing\": \"No\"}, {\"country\": \"Paraguay\", \"region\": \"S. America\", \"gdppcap08\": 4709, \"polityIV\": 17.666667, \"Oil Producer\": false, \"Oil Producing\": \"No\"}, {\"country\": \"Peru\", \"region\": \"S. America\", \"gdppcap08\": 8507, \"polityIV\": 19.0, \"Oil Producer\": false, \"Oil Producing\": \"No\"}, {\"country\": \"Philippines\", \"region\": \"Asia-Pacific\", \"gdppcap08\": 3510, \"polityIV\": 18.0, \"Oil Producer\": false, \"Oil Producing\": \"No\"}, {\"country\": \"Poland\", \"region\": \"C&E Europe\", \"gdppcap08\": 17625, \"polityIV\": 20.0, \"Oil Producer\": false, \"Oil Producing\": \"No\"}, {\"country\": \"Portugal\", \"region\": \"W. Europe\", \"gdppcap08\": 23074, \"polityIV\": 20.0, \"Oil Producer\": false, \"Oil Producing\": \"No\"}, {\"country\": \"Qatar\", \"region\": \"Middle East\", \"gdppcap08\": 85868, \"polityIV\": 0.0, \"Oil Producer\": true, \"Oil Producing\": \"Yes\"}, {\"country\": \"Romania\", \"region\": \"C&E Europe\", \"gdppcap08\": 14065, \"polityIV\": 18.333333, \"Oil Producer\": false, \"Oil Producing\": \"No\"}, {\"country\": \"Russia\", \"region\": \"C&E Europe\", \"gdppcap08\": 16139, \"polityIV\": 17.0, \"Oil Producer\": false, \"Oil Producing\": \"No\"}, {\"country\": \"Rwanda\", \"region\": \"Africa\", \"gdppcap08\": 1022, \"polityIV\": 6.6666667, \"Oil Producer\": false, \"Oil Producing\": \"No\"}, {\"country\": \"Saudi Arabia\", \"region\": \"Middle East\", \"gdppcap08\": 23920, \"polityIV\": 0.0, \"Oil Producer\": true, \"Oil Producing\": \"Yes\"}, {\"country\": \"Senegal\", \"region\": \"Africa\", \"gdppcap08\": 1772, \"polityIV\": 18.0, \"Oil Producer\": false, \"Oil Producing\": \"No\"}, {\"country\": \"Sierra Leone\", \"region\": \"Africa\", \"gdppcap08\": 766, \"polityIV\": 15.0, \"Oil Producer\": false, \"Oil Producing\": \"No\"}, {\"country\": \"Singapore\", \"region\": \"Asia-Pacific\", \"gdppcap08\": 49284, \"polityIV\": 8.0, \"Oil Producer\": false, \"Oil Producing\": \"No\"}, {\"country\": \"Slovakia\", \"region\": \"C&E Europe\", \"gdppcap08\": 22081, \"polityIV\": 19.0, \"Oil Producer\": false, \"Oil Producing\": \"No\"}, {\"country\": \"Slovenia\", \"region\": \"C&E Europe\", \"gdppcap08\": 27605, \"polityIV\": 20.0, \"Oil Producer\": false, \"Oil Producing\": \"No\"}, {\"country\": \"Solomon Islands\", \"region\": \"Asia-Pacific\", \"gdppcap08\": 2610, \"polityIV\": 18.0, \"Oil Producer\": false, \"Oil Producing\": \"No\"}, {\"country\": \"South Africa\", \"region\": \"Africa\", \"gdppcap08\": 10109, \"polityIV\": 19.0, \"Oil Producer\": false, \"Oil Producing\": \"No\"}, {\"country\": \"Spain\", \"region\": \"W. Europe\", \"gdppcap08\": 31954, \"polityIV\": 20.0, \"Oil Producer\": false, \"Oil Producing\": \"No\"}, {\"country\": \"Sri Lanka\", \"region\": \"Asia-Pacific\", \"gdppcap08\": 4560, \"polityIV\": 15.333333, \"Oil Producer\": false, \"Oil Producing\": \"No\"}, {\"country\": \"Sudan\", \"region\": \"Africa\", \"gdppcap08\": 2153, \"polityIV\": 4.0, \"Oil Producer\": false, \"Oil Producing\": \"No\"}, {\"country\": \"Swaziland\", \"region\": \"Africa\", \"gdppcap08\": 4928, \"polityIV\": 1.0, \"Oil Producer\": false, \"Oil Producing\": \"No\"}, {\"country\": \"Sweden\", \"region\": \"Scandinavia\", \"gdppcap08\": 37383, \"polityIV\": 20.0, \"Oil Producer\": false, \"Oil Producing\": \"No\"}, {\"country\": \"Switzerland\", \"region\": \"W. Europe\", \"gdppcap08\": 42536, \"polityIV\": 20.0, \"Oil Producer\": false, \"Oil Producing\": \"No\"}, {\"country\": \"Taiwan\", \"region\": \"Asia-Pacific\", \"gdppcap08\": 30881, \"polityIV\": 19.333333, \"Oil Producer\": false, \"Oil Producing\": \"No\"}, {\"country\": \"Tajikistan\", \"region\": \"C&E Europe\", \"gdppcap08\": 1906, \"polityIV\": 7.6666667, \"Oil Producer\": false, \"Oil Producing\": \"No\"}, {\"country\": \"Tanzania\", \"region\": \"Africa\", \"gdppcap08\": 1263, \"polityIV\": 11.0, \"Oil Producer\": false, \"Oil Producing\": \"No\"}, {\"country\": \"Thailand\", \"region\": \"Asia-Pacific\", \"gdppcap08\": 7703, \"polityIV\": 19.0, \"Oil Producer\": false, \"Oil Producing\": \"No\"}, {\"country\": \"Togo\", \"region\": \"Africa\", \"gdppcap08\": 829, \"polityIV\": 8.0, \"Oil Producer\": false, \"Oil Producing\": \"No\"}, {\"country\": \"Tunisia\", \"region\": \"Middle East\", \"gdppcap08\": 7996, \"polityIV\": 6.0, \"Oil Producer\": false, \"Oil Producing\": \"No\"}, {\"country\": \"Turkey\", \"region\": \"Middle East\", \"gdppcap08\": 13920, \"polityIV\": 17.0, \"Oil Producer\": false, \"Oil Producing\": \"No\"}, {\"country\": \"Turkmenistan\", \"region\": \"C&E Europe\", \"gdppcap08\": 6641, \"polityIV\": 1.0, \"Oil Producer\": false, \"Oil Producing\": \"No\"}, {\"country\": \"UAE\", \"region\": \"Middle East\", \"gdppcap08\": 38830, \"polityIV\": 2.0, \"Oil Producer\": true, \"Oil Producing\": \"Yes\"}, {\"country\": \"Uganda\", \"region\": \"Africa\", \"gdppcap08\": 1165, \"polityIV\": 6.0, \"Oil Producer\": false, \"Oil Producing\": \"No\"}, {\"country\": \"Ukraine\", \"region\": \"C&E Europe\", \"gdppcap08\": 7271, \"polityIV\": 16.0, \"Oil Producer\": false, \"Oil Producing\": \"No\"}, {\"country\": \"United Kingdom\", \"region\": \"W. Europe\", \"gdppcap08\": 35445, \"polityIV\": 20.0, \"Oil Producer\": false, \"Oil Producing\": \"No\"}, {\"country\": \"United States\", \"region\": \"N. America\", \"gdppcap08\": 46716, \"polityIV\": 20.0, \"Oil Producer\": false, \"Oil Producing\": \"No\"}, {\"country\": \"Uruguay\", \"region\": \"S. America\", \"gdppcap08\": 12734, \"polityIV\": 20.0, \"Oil Producer\": false, \"Oil Producing\": \"No\"}, {\"country\": \"Uzbekistan\", \"region\": \"C&E Europe\", \"gdppcap08\": 2656, \"polityIV\": 1.0, \"Oil Producer\": false, \"Oil Producing\": \"No\"}, {\"country\": \"Venezuela\", \"region\": \"S. America\", \"gdppcap08\": 12804, \"polityIV\": 16.0, \"Oil Producer\": false, \"Oil Producing\": \"No\"}, {\"country\": \"Vietnam\", \"region\": \"Asia-Pacific\", \"gdppcap08\": 2785, \"polityIV\": 3.0, \"Oil Producer\": false, \"Oil Producing\": \"No\"}, {\"country\": \"Yemen\", \"region\": \"Middle East\", \"gdppcap08\": 2400, \"polityIV\": 8.0, \"Oil Producer\": false, \"Oil Producing\": \"No\"}, {\"country\": \"Zambia\", \"region\": \"Africa\", \"gdppcap08\": 1356, \"polityIV\": 15.0, \"Oil Producer\": false, \"Oil Producing\": \"No\"}, {\"country\": \"Zimbabwe\", \"region\": \"Africa\", \"gdppcap08\": 188, \"polityIV\": 6.0, \"Oil Producer\": false, \"Oil Producing\": \"No\"}]}}, {\"mode\": \"vega-lite\"});\n",
       "</script>"
      ],
      "text/plain": [
       "alt.LayerChart(...)"
      ]
     },
     "metadata": {},
     "execution_count": 166
    }
   ],
   "metadata": {}
  }
 ],
 "metadata": {
  "orig_nbformat": 4,
  "language_info": {
   "name": "python",
   "version": "3.9.6",
   "mimetype": "text/x-python",
   "codemirror_mode": {
    "name": "ipython",
    "version": 3
   },
   "pygments_lexer": "ipython3",
   "nbconvert_exporter": "python",
   "file_extension": ".py"
  },
  "kernelspec": {
   "name": "python3",
   "display_name": "Python 3.9.6 64-bit ('base': conda)"
  },
  "interpreter": {
   "hash": "f5a15aebcfd6cf31746d094300eea13bdb53fd306d473f894a87d69a4b32cf89"
  }
 },
 "nbformat": 4,
 "nbformat_minor": 2
}