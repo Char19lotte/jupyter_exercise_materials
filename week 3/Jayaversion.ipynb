{
 "cells": [
  {
   "cell_type": "markdown",
   "source": [
    "# Series Exercises - due tuesday 09/14 | *by Jaya, Clarissa and Charlotte*\n",
    "---\n",
    "To get accustomed to Series, let’s explore some data on the wealth of 10 randomly selected countries. Data below presents the GDP per capita for these countries in 2008."
   ],
   "metadata": {}
  },
  {
   "cell_type": "markdown",
   "source": [
    "---\n",
    "## Exercise 1\n",
    "\n",
    "Use the code below to get started:"
   ],
   "metadata": {}
  },
  {
   "cell_type": "code",
   "execution_count": 23,
   "source": [
    "import pandas as pd\n",
    "gdppercap = pd.Series([34605, 34493, 12393, 44200, 10041,\n",
    "                       58138, 4709, 49284, 10109, 42536],\n",
    "                      index=['Bahrain', 'Belgium', 'Bulgaria',\n",
    "                             'Ireland', 'Macedonia', 'Norway',\n",
    "                             'Paraguay', 'Singapore',\n",
    "                             'South Africa', 'Switzerland']\n",
    "                      )"
   ],
   "outputs": [],
   "metadata": {}
  },
  {
   "cell_type": "markdown",
   "source": [
    "---\n",
    "## Exercise 2\n",
    "Find the mean, median, minimum and maximum values of GDP per capita in this data."
   ],
   "metadata": {}
  },
  {
   "cell_type": "code",
   "execution_count": 24,
   "source": [
    "f'Mean of GDP per capita of countries is {gdppercap.mean()}'"
   ],
   "outputs": [
    {
     "output_type": "execute_result",
     "data": {
      "text/plain": [
       "'Mean of GDP per capita of countries is 30050.8'"
      ]
     },
     "metadata": {},
     "execution_count": 24
    }
   ],
   "metadata": {}
  },
  {
   "cell_type": "code",
   "execution_count": 25,
   "source": [
    "f'Median of GDP per capita of countries is {gdppercap.median()}'"
   ],
   "outputs": [
    {
     "output_type": "execute_result",
     "data": {
      "text/plain": [
       "'Median of GDP per capita of countries is 34549.0'"
      ]
     },
     "metadata": {},
     "execution_count": 25
    }
   ],
   "metadata": {}
  },
  {
   "cell_type": "code",
   "execution_count": 26,
   "source": [
    "f'Minimum GDP per capita is {gdppercap.min()}'"
   ],
   "outputs": [
    {
     "output_type": "execute_result",
     "data": {
      "text/plain": [
       "'Minimum GDP per capita is 4709'"
      ]
     },
     "metadata": {},
     "execution_count": 26
    }
   ],
   "metadata": {}
  },
  {
   "cell_type": "code",
   "execution_count": 27,
   "source": [
    "f'Maxmimum GDP per capita is {gdppercap.max()}'"
   ],
   "outputs": [
    {
     "output_type": "execute_result",
     "data": {
      "text/plain": [
       "'Maxmimum GDP per capita is 58138'"
      ]
     },
     "metadata": {},
     "execution_count": 27
    }
   ],
   "metadata": {}
  },
  {
   "cell_type": "markdown",
   "source": [
    "---\n",
    "## Exercise 3\n",
    "Programmatically, determine which country in our data has the highest income per capita, and which has the lowest income per capita.\n",
    "\n",
    "(Obviously, this is easier to do by just looking at the data, but that’s only because this dataset is very small. With a real dataset, you would need to do it with code, so please write code to accomplish this task.)\n",
    "\n",
    "Hint: Country names form the index for this Series, so to get country names you’ll need to access the index."
   ],
   "metadata": {}
  },
  {
   "cell_type": "code",
   "execution_count": 28,
   "source": [
    "print(\"Country with the highest GDP per capita is\")\n",
    "gdppercap[gdppercap == gdppercap.max()]"
   ],
   "outputs": [
    {
     "output_type": "stream",
     "name": "stdout",
     "text": [
      "Country with the highest GDP per capita is\n"
     ]
    },
    {
     "output_type": "execute_result",
     "data": {
      "text/plain": [
       "Norway    58138\n",
       "dtype: int64"
      ]
     },
     "metadata": {},
     "execution_count": 28
    }
   ],
   "metadata": {}
  },
  {
   "cell_type": "code",
   "execution_count": 29,
   "source": [
    "print(\"Country with the lowest GDP per capita is\")\n",
    "gdppercap[gdppercap == gdppercap.min()]"
   ],
   "outputs": [
    {
     "output_type": "stream",
     "name": "stdout",
     "text": [
      "Country with the lowest GDP per capita is\n"
     ]
    },
    {
     "output_type": "execute_result",
     "data": {
      "text/plain": [
       "Paraguay    4709\n",
       "dtype: int64"
      ]
     },
     "metadata": {},
     "execution_count": 29
    }
   ],
   "metadata": {}
  },
  {
   "cell_type": "markdown",
   "source": [
    "---\n",
    "## Exercise 4\n",
    "Get Python to print out the names of all the countries that have GDP per capitas less than $20,000."
   ],
   "metadata": {}
  },
  {
   "cell_type": "code",
   "execution_count": 30,
   "source": [
    "print(\"Countries with GDP per capita below $20,000 are\")\n",
    "gdppercap[gdppercap < 20000]"
   ],
   "outputs": [
    {
     "output_type": "stream",
     "name": "stdout",
     "text": [
      "Countries with GDP per capita below $20,000 are\n"
     ]
    },
    {
     "output_type": "execute_result",
     "data": {
      "text/plain": [
       "Bulgaria        12393\n",
       "Macedonia       10041\n",
       "Paraguay         4709\n",
       "South Africa    10109\n",
       "dtype: int64"
      ]
     },
     "metadata": {},
     "execution_count": 30
    }
   ],
   "metadata": {}
  },
  {
   "cell_type": "markdown",
   "source": [
    "## Exercise 5\n",
    "Get Python to print out the GDP per capita of Switzerland."
   ],
   "metadata": {}
  },
  {
   "cell_type": "code",
   "execution_count": 31,
   "source": [
    "print(\"GDP per capita of Switzerland is\")\n",
    "gdppercap['Switzerland']"
   ],
   "outputs": [
    {
     "output_type": "stream",
     "name": "stdout",
     "text": [
      "GDP per capita of Switzerland is\n"
     ]
    },
    {
     "output_type": "execute_result",
     "data": {
      "text/plain": [
       "42536"
      ]
     },
     "metadata": {},
     "execution_count": 31
    }
   ],
   "metadata": {}
  },
  {
   "cell_type": "markdown",
   "source": [
    "---\n",
    "## Exercise 6\n",
    "Using this formula, calculate the Gini coefficient for our income data.\n",
    "\n",
    "**HINT**: Be careful with 0-indexing! Python counts from 0, but mathematical formulas count from 1!\n",
    "\n",
    "**HINT 2**: I’m gonna make you calculate Gini coefficients again later, so maybe you should write a function to do this and make life easier later?"
   ],
   "metadata": {}
  },
  {
   "cell_type": "code",
   "execution_count": 32,
   "source": [
    "rank = 0 \n",
    "num = 0\n",
    "den = 0\n",
    "for gdp in gdppercap.sort_values():\n",
    "    rank += 1\n",
    "    num += rank*gdp\n",
    "    den += gdp\n",
    "gc = ((2*num)/(rank*den)) - ((rank + 1)/rank)\n",
    "f'The Gini Coefficient of countries in 2018 is {gc:.2f}'"
   ],
   "outputs": [
    {
     "output_type": "execute_result",
     "data": {
      "text/plain": [
       "'The Gini Coefficient of countries in 2018 is 0.34'"
      ]
     },
     "metadata": {},
     "execution_count": 32
    }
   ],
   "metadata": {}
  },
  {
   "cell_type": "markdown",
   "source": [
    "---\n",
    "## Exercise 7\n",
    "The result we just generated offers a snap-shot of inequality for this subset of countries. But what are the dynamics of inequality for these countries?\n",
    "\n",
    "There is an idea in economics called the “convergence hypothesis”, which argues that poorer countries are likely to grow faster, and as a result global inequality is likely to decline. Economists advocating for this hypothesis pointed out that while rich countries had to invent new technologies in order to grow, many poor countries simply had to take advantage of innovations already developed by rich countries.\n",
    "\n",
    "To test this hypothesis, let’s do a small analysis of the dynamics of income inequality in our sample. Create the following Series in your Python session, which provides the average growth rate of GDP per capita for all the countries in our sample from 2000 to 2018."
   ],
   "metadata": {}
  },
  {
   "cell_type": "code",
   "execution_count": 33,
   "source": [
    "for gdp in gdppercap.sort_values():\n",
    "    print(gdp)"
   ],
   "outputs": [
    {
     "output_type": "stream",
     "name": "stdout",
     "text": [
      "4709\n",
      "10041\n",
      "10109\n",
      "12393\n",
      "34493\n",
      "34605\n",
      "42536\n",
      "44200\n",
      "49284\n",
      "58138\n"
     ]
    }
   ],
   "metadata": {}
  },
  {
   "cell_type": "code",
   "execution_count": 34,
   "source": [
    "avg_growth = pd.Series([-0.29768835, 0.980299584, 4.52991925,\n",
    "                        3.686556736, 2.621416804, 0.775132075,\n",
    "                        2.015489468, 3.345793635, 1.349993318,\n",
    "                        0.982775018],\n",
    "                        index=['Bahrain', 'Belgium', 'Bulgaria',\n",
    "                               'Ireland', 'Macedonia', 'Norway',\n",
    "                               'Paraguay', 'Singapore',\n",
    "                               'South Africa', 'Switzerland']\n",
    "                      )"
   ],
   "outputs": [],
   "metadata": {}
  },
  {
   "cell_type": "markdown",
   "source": [
    "Using this data on average growth rates in GDP per capita, and assuming growth rates from 2000 to 2018 continue into the future, estimate what our Gini Coefficient may look like in 2025 (remembering that income in our data is from 2008, so we’re extrapolating ahead 17 years)?"
   ],
   "metadata": {}
  },
  {
   "cell_type": "code",
   "execution_count": 35,
   "source": [
    "gdp2025 = pd.Series([0, 0, 0, 0, 0, 0, 0, 0, 0, 0], index=['Bahrain', 'Belgium', 'Bulgaria',\n",
    "                               'Ireland', 'Macedonia', 'Norway',\n",
    "                               'Paraguay', 'Singapore',\n",
    "                               'South Africa', 'Switzerland'])\n",
    "for i in (['Bahrain', 'Belgium', 'Bulgaria', 'Ireland', 'Macedonia', 'Norway', 'Paraguay', 'Singapore', 'South Africa', 'Switzerland']):\n",
    "    a = gdppercap[i] * (1+(avg_growth[i]))**17\n",
    "    gdp2025[i] = a\n",
    "gdp2025\n",
    "\n",
    "rank = 0 \n",
    "num = 0\n",
    "den = 0\n",
    "for gdp in gdp2025.sort_values():\n",
    "    rank += 1\n",
    "    num += rank*gdp\n",
    "    den += gdp\n",
    "gc = ((2*num)/(rank*den)) - ((rank + 1)/rank)\n",
    "f'The Gini Coefficient of countries in 2025 is {gc:.2f}'\n"
   ],
   "outputs": [
    {
     "output_type": "execute_result",
     "data": {
      "text/plain": [
       "'The Gini Coefficient of countries in 2025 is 0.85'"
      ]
     },
     "metadata": {},
     "execution_count": 35
    }
   ],
   "metadata": {}
  },
  {
   "cell_type": "markdown",
   "source": [
    "---\n",
    "## Exercise 8\n",
    "\n",
    "Interpret your result – does it seem to imply that we are seeing covergence or not?"
   ],
   "metadata": {}
  },
  {
   "cell_type": "markdown",
   "source": [
    "- With these results the null hypothesis can be rejected for now as it seems that **the convergence hypothesis is confirmed** by the estimated output in this analysis: the Gini coefficient increases from 0.34 to 0.85, i.e. on average equality increases over the respective time frame. "
   ],
   "metadata": {}
  }
 ],
 "metadata": {
  "orig_nbformat": 4,
  "language_info": {
   "name": "python",
   "version": "3.9.6",
   "mimetype": "text/x-python",
   "codemirror_mode": {
    "name": "ipython",
    "version": 3
   },
   "pygments_lexer": "ipython3",
   "nbconvert_exporter": "python",
   "file_extension": ".py"
  },
  "kernelspec": {
   "name": "python3",
   "display_name": "Python 3.9.6 64-bit ('base': conda)"
  },
  "interpreter": {
   "hash": "f5a15aebcfd6cf31746d094300eea13bdb53fd306d473f894a87d69a4b32cf89"
  }
 },
 "nbformat": 4,
 "nbformat_minor": 2
}