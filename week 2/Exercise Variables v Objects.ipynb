{
    "cells": [
        {
            "cell_type": "markdown",
            "source": [
                "# Variables v. Objects Exercises - due tuesday 09/07 \n",
                "---\n",
                "\n",
                "## Exercise 1\n",
                "Using the space below, write out, one line at a time, the execution of the following block of code which first creates a dictionary will the names of all the animals in my very small (and weird) zoo. \n",
                "\n",
                "Now, given this code, what would the value of animals_in_my_zoo['Meerkat'] be?\n",
                "\n",
                "- Both x and animals_in_my_zoo are variables (data frames) that point to the same list (object) of animals in the zoo. Hence when we add a Meerkat called Peeps to the list that object x points to, if we ask Python to pull information from the shelf that animals_in_my_zoo points to, we end up with the same information because it points to the same shelf as x. I.e. we can find the Meerkat called Peeps. Hence, the value of animals_in_my_zoo['Meerkat'] would give us the name \"*Peeps*\". **See the last three rows on page 2 on the code template pdf for a sketch of the code.**"
            ],
            "metadata": {}
        },
        {
            "cell_type": "markdown",
            "source": [
                "\n",
                "Once you’ve gotten an answer, open up Python and run the code to see if you were correct. If not, can you tell why?"
            ],
            "metadata": {}
        },
        {
            "cell_type": "code",
            "execution_count": 25,
            "source": [
                "animals_in_my_zoo = {'Zebras': ['Stripey', 'Black and White'],\n",
                "                     'Polar Bears': 'Fluffy',\n",
                "                     'Dinosaurs': 'Bitey'}\n",
                "x = animals_in_my_zoo\n",
                "x['Meerkat'] = 'Peeps'"
            ],
            "outputs": [],
            "metadata": {}
        },
        {
            "cell_type": "markdown",
            "source": [
                "#### Checking whether our assumption was correct:"
            ],
            "metadata": {}
        },
        {
            "cell_type": "code",
            "execution_count": 26,
            "source": [
                "print(animals_in_my_zoo['Meerkat'])"
            ],
            "outputs": [
                {
                    "output_type": "stream",
                    "name": "stdout",
                    "text": [
                        "Peeps\n"
                    ]
                }
            ],
            "metadata": {}
        },
        {
            "cell_type": "markdown",
            "source": [
                "**Yay, we were correct!**\n"
            ],
            "metadata": {}
        },
        {
            "cell_type": "markdown",
            "source": [
                "---\n",
                "\n",
                "## Exercise 2\n",
                "\n",
                "Now let’s do a few list manipulations. For these manipulations, you may need to open Python to check the documentation for different functions to figure out whether they mutate the list in-place, or whether they create a new object.\n",
                "Sketch out this code, and make a prediction for the value of y. Then run the code in Python to check your answer."
            ],
            "metadata": {}
        },
        {
            "cell_type": "code",
            "execution_count": 27,
            "source": [
                "x = [1, 2, 3, 4]\n",
                "y = x\n",
                "x.pop(1)"
            ],
            "outputs": [
                {
                    "output_type": "execute_result",
                    "data": {
                        "text/plain": [
                            "2"
                        ]
                    },
                    "metadata": {},
                    "execution_count": 27
                }
            ],
            "metadata": {}
        },
        {
            "cell_type": "markdown",
            "source": [
                "- As y is set to point to the same objects that x is pointing to, whatever manipulation done to x should be found with y too. Our manipulation mutates the list in-place. I.e. when we remove the first position (2) from the list that x is pointing to when we call y we will also no longer find the 2. y should return the following value [1, 3, 4]. **Check row 1-3 in the code-drawing template please for the sketch of the code.**"
            ],
            "metadata": {}
        },
        {
            "cell_type": "code",
            "execution_count": 28,
            "source": [
                "y"
            ],
            "outputs": [
                {
                    "output_type": "execute_result",
                    "data": {
                        "text/plain": [
                            "[1, 3, 4]"
                        ]
                    },
                    "metadata": {},
                    "execution_count": 28
                }
            ],
            "metadata": {}
        },
        {
            "cell_type": "markdown",
            "source": [
                "**Correct!**"
            ],
            "metadata": {}
        },
        {
            "cell_type": "markdown",
            "source": [
                "---\n",
                "\n",
                "## Exercise 3\n",
                "\n",
                "Now sketch this code. Again, use Python to check the documentation for sorted if you aren’t sure if it mutates or not.\n"
            ],
            "metadata": {}
        },
        {
            "cell_type": "code",
            "execution_count": 29,
            "source": [
                "x = [1, 4, 3, 2]\n",
                "y = x\n",
                "sorted(x)"
            ],
            "outputs": [
                {
                    "output_type": "execute_result",
                    "data": {
                        "text/plain": [
                            "[1, 2, 3, 4]"
                        ]
                    },
                    "metadata": {},
                    "execution_count": 29
                }
            ],
            "metadata": {}
        },
        {
            "cell_type": "markdown",
            "source": [
                "Sketch out this code, and make a prediction for the value of y. Then run the code in Python to check your answer.\n",
                "\n",
                "- **Check the associated rows on the template please.** As we can see it's an in-place manipulation and y and x both point to one list. When we sort the shelf x points to we get the same results when we pull the shelf from y. I.e. prediction for y: [1,2,3,4]"
            ],
            "metadata": {}
        },
        {
            "cell_type": "code",
            "execution_count": 30,
            "source": [
                "y"
            ],
            "outputs": [
                {
                    "output_type": "execute_result",
                    "data": {
                        "text/plain": [
                            "[1, 4, 3, 2]"
                        ]
                    },
                    "metadata": {},
                    "execution_count": 30
                }
            ],
            "metadata": {}
        },
        {
            "cell_type": "code",
            "execution_count": 31,
            "source": [
                "x"
            ],
            "outputs": [
                {
                    "output_type": "execute_result",
                    "data": {
                        "text/plain": [
                            "[1, 4, 3, 2]"
                        ]
                    },
                    "metadata": {},
                    "execution_count": 31
                }
            ],
            "metadata": {}
        },
        {
            "cell_type": "markdown",
            "source": [
                "**Incorrect.** Running the code showed that the prediction was wrong. We understand this is because the command was *sorted(x)*, displaying x sorted only for that line. When running y without that property, y returns the values of the original list. When we check and run x without the property of *sorted* then it also returns the values unsorted. With *sorted* the shelf is not permanently changed. If however we had used *x.sort()* instead, the command would have changed the list and shelf permanently and this change would have been reflected in y too. Let's check:"
            ],
            "metadata": {}
        },
        {
            "cell_type": "code",
            "execution_count": 32,
            "source": [
                "x.sort()\n",
                "y"
            ],
            "outputs": [
                {
                    "output_type": "execute_result",
                    "data": {
                        "text/plain": [
                            "[1, 2, 3, 4]"
                        ]
                    },
                    "metadata": {},
                    "execution_count": 32
                }
            ],
            "metadata": {}
        },
        {
            "cell_type": "markdown",
            "source": [
                "**And this assumption was correct!**"
            ],
            "metadata": {}
        },
        {
            "cell_type": "markdown",
            "source": [
                "---\n",
                "## Exercise 4\n",
                "Now sketch out this code, and make a prediction for the value of x and the value of y. Then run Python to check your answer.\n",
                "\n",
                "If the result surprises you, you can find some discussion of what likely happened here."
            ],
            "metadata": {}
        },
        {
            "cell_type": "code",
            "execution_count": 33,
            "source": [
                "x = [1, 4, 3, 2]\n",
                "y = x\n",
                "x = x.sort()"
            ],
            "outputs": [],
            "metadata": {}
        },
        {
            "cell_type": "markdown",
            "source": [
                "- We would assume, as outlined in Exercise 3 that y would now take the value of [1,2,3,4] because the *x.sort()* command applies to the shelf that x and y both point at. x would also take that value of [1,2,3,4]. **See code template.**"
            ],
            "metadata": {}
        },
        {
            "cell_type": "code",
            "execution_count": 34,
            "source": [
                "y"
            ],
            "outputs": [
                {
                    "output_type": "execute_result",
                    "data": {
                        "text/plain": [
                            "[1, 2, 3, 4]"
                        ]
                    },
                    "metadata": {},
                    "execution_count": 34
                }
            ],
            "metadata": {}
        },
        {
            "cell_type": "markdown",
            "source": [
                "**Correct!**"
            ],
            "metadata": {}
        },
        {
            "cell_type": "code",
            "execution_count": 35,
            "source": [
                "print(x)"
            ],
            "outputs": [
                {
                    "output_type": "stream",
                    "name": "stdout",
                    "text": [
                        "None\n"
                    ]
                }
            ],
            "metadata": {}
        },
        {
            "cell_type": "markdown",
            "source": [
                "**Incorrect.** What happened here? We reassigned the the result of the method to x. Why is x *none* then? "
            ],
            "metadata": {}
        },
        {
            "cell_type": "markdown",
            "source": [
                "---\n",
                "## Exercise 5\n",
                "One of the thing that’s very useful about lists, dictionaries, and sets in Python is that they are recursive, meaning a list can contain a list. While powerful, though, this can also be tricky! Let’s draw out the following code:"
            ],
            "metadata": {}
        },
        {
            "cell_type": "code",
            "execution_count": 36,
            "source": [
                "x = [3.14, 42]\n",
                "z = {'boring numbers': [1, 2, 3],\n",
                "     'interesting numbers': x}\n",
                "y = x\n",
                "y.append(1.618)"
            ],
            "outputs": [],
            "metadata": {}
        },
        {
            "cell_type": "markdown",
            "source": [
                "Now, what is the value of z['interesting numbers']?\n",
                "- the value should be [3.14, 42, 1.618]"
            ],
            "metadata": {}
        },
        {
            "cell_type": "code",
            "execution_count": 37,
            "source": [
                "z['interesting numbers']"
            ],
            "outputs": [
                {
                    "output_type": "execute_result",
                    "data": {
                        "text/plain": [
                            "[3.14, 42, 1.618]"
                        ]
                    },
                    "metadata": {},
                    "execution_count": 37
                }
            ],
            "metadata": {}
        },
        {
            "cell_type": "markdown",
            "source": [
                "**Correct!**"
            ],
            "metadata": {}
        },
        {
            "cell_type": "markdown",
            "source": [
                "---\n",
                "## Exercise 6\n",
                "As noted in our tutorial, in general, almost all collections of things in Python are mutable with the exception of tuples. Tuples are, quite simply, immutable lists. Let’s play a little with tuples."
            ],
            "metadata": {}
        },
        {
            "cell_type": "code",
            "execution_count": 38,
            "source": [
                "x = [42, -1]\n",
                "y = (1, 2, x)\n",
                "x.append(-2)"
            ],
            "outputs": [],
            "metadata": {}
        },
        {
            "cell_type": "markdown",
            "source": [
                "Write down what you think will be the values of x and y? Now check your answers in Python.\n",
                "\n",
                "If you got this wrong, you can find discussion of this result here\n",
                "- We would assume x to append to [42, -1, -2]. As y is *recursive*, i.e. includes x which is a reference of the shelf, we expect y to be (1,2,x), i.e. (1,2, [41,-1,-2]). **See code template**"
            ],
            "metadata": {}
        },
        {
            "cell_type": "code",
            "execution_count": 40,
            "source": [
                "x"
            ],
            "outputs": [
                {
                    "output_type": "execute_result",
                    "data": {
                        "text/plain": [
                            "[42, -1, -2]"
                        ]
                    },
                    "metadata": {},
                    "execution_count": 40
                }
            ],
            "metadata": {}
        },
        {
            "cell_type": "code",
            "execution_count": 39,
            "source": [
                "y"
            ],
            "outputs": [
                {
                    "output_type": "execute_result",
                    "data": {
                        "text/plain": [
                            "(1, 2, [42, -1, -2])"
                        ]
                    },
                    "metadata": {},
                    "execution_count": 39
                }
            ],
            "metadata": {}
        },
        {
            "cell_type": "markdown",
            "source": [
                "**Correct!**"
            ],
            "metadata": {}
        },
        {
            "cell_type": "markdown",
            "source": [
                "---\n",
                "## Exercise 7\n"
            ],
            "metadata": {}
        },
        {
            "cell_type": "code",
            "execution_count": 41,
            "source": [
                "x = {'dog_names': ['fido', 'woofer'],\n",
                "     'cat_names': ['fluffy', 'bite-y']}\n",
                "y = x.copy()\n",
                "y['dinosaur_names'] = ['big guy', 'super lizard']\n",
                "y['cat_names'].append('tiger')"
            ],
            "outputs": [],
            "metadata": {}
        },
        {
            "cell_type": "markdown",
            "source": [
                "What would you get if you ran x['dinosaur_names']?\n",
                "\n",
                "- We would get no results because there is no reference of the dinosaur_names list stored in x.  **See code template.**\n",
                "\n",
                "What would you get if you ran x['cat_names']?\n",
                "\n",
                "- We would get ['fluffy', 'bite-y', 'tiger']. We would get that because we did not do a deep copy but only a regular copy where we only copied the arrow of cat_names pointing to the shelf, hence when we append the shelf using y, the pointer cat_names in x finds those values too! **See code template.** \n",
                "\n",
                "Check your answers with Python."
            ],
            "metadata": {}
        },
        {
            "cell_type": "code",
            "execution_count": 42,
            "source": [
                "x['dinosaur_names']"
            ],
            "outputs": [
                {
                    "output_type": "error",
                    "ename": "KeyError",
                    "evalue": "'dinosaur_names'",
                    "traceback": [
                        "\u001b[0;31m---------------------------------------------------------------------------\u001b[0m",
                        "\u001b[0;31mKeyError\u001b[0m                                  Traceback (most recent call last)",
                        "\u001b[0;32m/var/folders/h9/g02cmrsn6y571zb1v96gs56c0000gn/T/ipykernel_39698/1188399946.py\u001b[0m in \u001b[0;36m<module>\u001b[0;34m\u001b[0m\n\u001b[0;32m----> 1\u001b[0;31m \u001b[0mx\u001b[0m\u001b[0;34m[\u001b[0m\u001b[0;34m'dinosaur_names'\u001b[0m\u001b[0;34m]\u001b[0m\u001b[0;34m\u001b[0m\u001b[0;34m\u001b[0m\u001b[0m\n\u001b[0m",
                        "\u001b[0;31mKeyError\u001b[0m: 'dinosaur_names'"
                    ]
                }
            ],
            "metadata": {}
        },
        {
            "cell_type": "markdown",
            "source": [
                "**Correct!**"
            ],
            "metadata": {}
        },
        {
            "cell_type": "code",
            "execution_count": 43,
            "source": [
                "x['cat_names']"
            ],
            "outputs": [
                {
                    "output_type": "execute_result",
                    "data": {
                        "text/plain": [
                            "['fluffy', 'bite-y', 'tiger']"
                        ]
                    },
                    "metadata": {},
                    "execution_count": 43
                }
            ],
            "metadata": {}
        },
        {
            "cell_type": "markdown",
            "source": [
                "**Correct!**"
            ],
            "metadata": {}
        }
    ],
    "metadata": {
        "orig_nbformat": 4,
        "language_info": {
            "name": "python",
            "version": "3.9.6",
            "mimetype": "text/x-python",
            "codemirror_mode": {
                "name": "ipython",
                "version": 3
            },
            "pygments_lexer": "ipython3",
            "nbconvert_exporter": "python",
            "file_extension": ".py"
        },
        "kernelspec": {
            "name": "python3",
            "display_name": "Python 3.9.6 64-bit ('base': conda)"
        },
        "interpreter": {
            "hash": "f5a15aebcfd6cf31746d094300eea13bdb53fd306d473f894a87d69a4b32cf89"
        }
    },
    "nbformat": 4,
    "nbformat_minor": 2
}