{
 "cells": [
  {
   "cell_type": "markdown",
   "source": [
    "# Numpy Exercises - due tuesday 09/09 | *by Larissa and Charlotte*\n",
    "---\n",
    "## Exercise 1\n",
    "\n",
    "First, lets make a common array to work with."
   ],
   "metadata": {}
  },
  {
   "cell_type": "code",
   "execution_count": 1,
   "source": [
    "import numpy as np\n",
    "np.random.seed(21) # This guarantees the code will generate the same set of random numbers whenever executed\n",
    "random_integers = np.random.randint(1,high=500000, size=(20, 5))\n",
    "random_integers"
   ],
   "outputs": [
    {
     "output_type": "execute_result",
     "data": {
      "text/plain": [
       "array([[ 80842, 333008, 202553, 140037,  81969],\n",
       "       [ 63857,  42105, 261540, 481981, 176739],\n",
       "       [489984, 326386, 110795, 394863,  25024],\n",
       "       [ 38317,  49982, 408830, 485118,  16119],\n",
       "       [407675, 231729, 265455, 109413, 103399],\n",
       "       [174677, 343356, 301717, 224120, 401101],\n",
       "       [140473, 254634, 112262,  25063, 108262],\n",
       "       [375059, 406983, 208947, 115641, 296685],\n",
       "       [444899, 129585, 171318, 313094, 425041],\n",
       "       [188411, 335140, 141681,  59641, 211420],\n",
       "       [287650,   8973, 477425, 382803, 465168],\n",
       "       [  3975,  32213, 160603, 275485, 388234],\n",
       "       [246225,  56174, 244097,   9350, 496966],\n",
       "       [225516, 273338,  73335, 283013, 212813],\n",
       "       [ 38175, 282399, 318413, 337639, 379802],\n",
       "       [198049, 101115, 419547, 260219, 325793],\n",
       "       [148593, 425024, 348570, 117968, 107007],\n",
       "       [ 52547, 180346, 178760, 305186, 262153],\n",
       "       [ 11835, 449971, 494184, 472031, 353049],\n",
       "       [476442,  35455, 191553, 384154,  29917]])"
      ]
     },
     "metadata": {},
     "execution_count": 1
    }
   ],
   "metadata": {}
  },
  {
   "cell_type": "markdown",
   "source": [
    "---\n",
    "## Exercise 2\n",
    "\n",
    "What is the average value of the second column (to two decimal places)"
   ],
   "metadata": {}
  },
  {
   "cell_type": "code",
   "execution_count": 2,
   "source": [
    "np.mean(random_integers[:,1])"
   ],
   "outputs": [
    {
     "output_type": "execute_result",
     "data": {
      "text/plain": [
       "214895.8"
      ]
     },
     "metadata": {},
     "execution_count": 2
    }
   ],
   "metadata": {}
  },
  {
   "cell_type": "markdown",
   "source": [
    "---\n",
    "## Exercise 3\n",
    "\n",
    "What is the average value of the first 5 rows of the third and fourth columns?"
   ],
   "metadata": {}
  },
  {
   "cell_type": "code",
   "execution_count": 3,
   "source": [
    "np.mean(random_integers[0:5, 2:4])"
   ],
   "outputs": [
    {
     "output_type": "execute_result",
     "data": {
      "text/plain": [
       "286058.5"
      ]
     },
     "metadata": {},
     "execution_count": 3
    }
   ],
   "metadata": {}
  },
  {
   "cell_type": "markdown",
   "source": [
    "---\n",
    "## Exercise 4\n",
    "\n",
    "**Close Python.** On a piece of paper, write down the final result of the following code: <br> <br>\n",
    "import numpy as np <br>\n",
    "first_matrix = np.array([[1, 2, 3], [4, 5, 6]]) <br>\n",
    "print(first_matrix) <br>\n",
    "second_matrix = np.array([1, 2, 3]) <br>\n",
    "print(second_matrix) <br>\n",
    "first_matrix + second_matrix"
   ],
   "metadata": {}
  },
  {
   "cell_type": "markdown",
   "source": [
    "\n",
    "- Result should be: \n",
    "<br>\n",
    "[2 4 6] <br>\n",
    "[4 5 6]"
   ],
   "metadata": {}
  },
  {
   "cell_type": "markdown",
   "source": [
    "---\n",
    "## Exercise 5\n",
    "Keep Python **Closed!** Write down the final result of the following code: <br> <br>\n",
    "my_vector = np.array([1, 2, 3, 4, 5, 6]) <br>\n",
    "selection = my_vector % 2 == 0 <br>\n",
    "my_vector[selection]"
   ],
   "metadata": {}
  },
  {
   "cell_type": "markdown",
   "source": [
    "- Result should be: <br>\n",
    "[2 4 6]"
   ],
   "metadata": {}
  },
  {
   "cell_type": "markdown",
   "source": [
    "---\n",
    "## Exercise 6\n",
    "\n",
    "Now open python and check your answers to Exercises 4 and 5."
   ],
   "metadata": {}
  },
  {
   "cell_type": "code",
   "execution_count": 6,
   "source": [
    "first_matrix + second_matrix"
   ],
   "outputs": [
    {
     "output_type": "execute_result",
     "data": {
      "text/plain": [
       "array([[2, 4, 6],\n",
       "       [5, 7, 9]])"
      ]
     },
     "metadata": {},
     "execution_count": 6
    }
   ],
   "metadata": {}
  },
  {
   "cell_type": "markdown",
   "source": [
    "**Incorrect.** But the result does indeed make sense, because the second matrix is added to both rows of the first_matrix."
   ],
   "metadata": {}
  },
  {
   "cell_type": "code",
   "execution_count": 7,
   "source": [
    "my_vector = np.array([1, 2, 3, 4, 5, 6])\n",
    "selection = my_vector % 2 == 0\n",
    "my_vector[selection]"
   ],
   "outputs": [
    {
     "output_type": "execute_result",
     "data": {
      "text/plain": [
       "array([2, 4, 6])"
      ]
     },
     "metadata": {},
     "execution_count": 7
    }
   ],
   "metadata": {}
  },
  {
   "cell_type": "markdown",
   "source": [
    "**Correct assumption.**"
   ],
   "metadata": {}
  },
  {
   "cell_type": "markdown",
   "source": [
    "---\n",
    "## Exercise 7 \n",
    "Close your computer / laptop. Let’s try and work out a few problems in our heads to test our understanding of numpy views. Let’s start with the following array: <br> <br>\n",
    "my_array = np.array([[1, 2, 3], [4, 5, 6]]) <br>\n",
    "print(my_array) <br> <br>\n",
    "[[1 2 3] <br>\n",
    " [4 5 6]]"
   ],
   "metadata": {}
  },
  {
   "cell_type": "markdown",
   "source": [
    "Now, on a piece of paper write down the value of my_slice = my_array[:, 1:3].\n",
    "- Result should be: <br>\n",
    "[2  3] <br>\n",
    "[5 6]\n"
   ],
   "metadata": {}
  },
  {
   "cell_type": "markdown",
   "source": [
    "---\n",
    "## Exercise 8\n",
    "\n",
    "Now suppose we run the code my_array[:, :] = my_array * 2. Now what does my_slice look like?"
   ],
   "metadata": {}
  },
  {
   "cell_type": "markdown",
   "source": [
    "- Result should be: <br>\n",
    "[4 6] <br>\n",
    "[10 12] <br>\n",
    "... because we made a view and not a copy, i.e. changes in my_array will be reflected in my_slice too."
   ],
   "metadata": {}
  },
  {
   "cell_type": "markdown",
   "source": [
    "---\n",
    "## Exercise 9\n",
    "\n",
    "Now suppose we run my_array = my_array * 2. What does my_slice look like?"
   ],
   "metadata": {}
  },
  {
   "cell_type": "markdown",
   "source": [
    "- Result should still be: <br>\n",
    "[4 6] <br>\n",
    "[10 12] <br>\n",
    "... because the same applies as in exercise 8."
   ],
   "metadata": {}
  },
  {
   "cell_type": "markdown",
   "source": [
    "---\n",
    "## Exercise 10\n",
    "\n",
    "Stop, open Python, and try running these examples. Were your predictions correct? If not, why not?"
   ],
   "metadata": {}
  },
  {
   "cell_type": "code",
   "execution_count": 14,
   "source": [
    "my_array = np.array([[1, 2, 3], [4, 5, 6]])\n",
    "print(my_array)"
   ],
   "outputs": [
    {
     "output_type": "stream",
     "name": "stdout",
     "text": [
      "[[1 2 3]\n",
      " [4 5 6]]\n"
     ]
    }
   ],
   "metadata": {}
  },
  {
   "cell_type": "code",
   "execution_count": 15,
   "source": [
    "my_slice = my_array[:, 1:3]\n",
    "print(my_slice)"
   ],
   "outputs": [
    {
     "output_type": "stream",
     "name": "stdout",
     "text": [
      "[[2 3]\n",
      " [5 6]]\n"
     ]
    }
   ],
   "metadata": {}
  },
  {
   "cell_type": "markdown",
   "source": [
    "**Correct!**"
   ],
   "metadata": {}
  },
  {
   "cell_type": "code",
   "execution_count": 16,
   "source": [
    "my_array[:, :] = my_array * 2\n",
    "print(my_slice)"
   ],
   "outputs": [
    {
     "output_type": "stream",
     "name": "stdout",
     "text": [
      "[[ 4  6]\n",
      " [10 12]]\n"
     ]
    }
   ],
   "metadata": {}
  },
  {
   "cell_type": "markdown",
   "source": [
    "**Correct!**"
   ],
   "metadata": {}
  },
  {
   "cell_type": "code",
   "execution_count": 17,
   "source": [
    "my_array = my_array * 2\n",
    "print(my_slice)"
   ],
   "outputs": [
    {
     "output_type": "stream",
     "name": "stdout",
     "text": [
      "[[ 4  6]\n",
      " [10 12]]\n"
     ]
    }
   ],
   "metadata": {}
  },
  {
   "cell_type": "markdown",
   "source": [
    "**Correct!**"
   ],
   "metadata": {}
  },
  {
   "cell_type": "markdown",
   "source": [
    "--- \n",
    "## Exercise 11\n",
    "\n",
    "OK, let’s close Python again and go back to pen and paper. Let’s also reset my_array and start over with the following code: <br> <br>\n",
    "\n",
    "my_array = np.array([[1, 2, 3], [4, 5, 6]]) <br>\n",
    "print(my_array) <br>\n",
    "[[1 2 3] <br>\n",
    " [4 5 6]] <br> <br>\n",
    "\n",
    "my_slice = my_array[:, 1:3].copy() <br>\n",
    "print(my_slice) <br>\n",
    "[[2 3] <br>\n",
    " [5 6]]"
   ],
   "metadata": {}
  },
  {
   "cell_type": "markdown",
   "source": [
    "Now suppose we run the following code: my_array[:, :] = my_array * 2. What does my_slice look like?"
   ],
   "metadata": {}
  },
  {
   "cell_type": "markdown",
   "source": [
    "- Result should be: <br>\n",
    "[2 3] <br>\n",
    "[5 6] <br>\n",
    "...because we created a copy and not a view. When we change my_array this change will not be reflected in my_slice because they point to two different lists."
   ],
   "metadata": {}
  },
  {
   "cell_type": "code",
   "execution_count": 18,
   "source": [
    "my_array = np.array([[1, 2, 3], [4, 5, 6]])\n",
    "print(my_array)\n",
    "my_slice = my_array[:, 1:3].copy()\n",
    "print(my_slice)\n",
    "my_array[:, :] = my_array * 2\n",
    "print(my_slice)\n"
   ],
   "outputs": [
    {
     "output_type": "stream",
     "name": "stdout",
     "text": [
      "[[1 2 3]\n",
      " [4 5 6]]\n",
      "[[2 3]\n",
      " [5 6]]\n",
      "[[2 3]\n",
      " [5 6]]\n"
     ]
    }
   ],
   "metadata": {}
  },
  {
   "cell_type": "markdown",
   "source": [
    "**Assumption was correct!**"
   ],
   "metadata": {}
  }
 ],
 "metadata": {
  "orig_nbformat": 4,
  "language_info": {
   "name": "python",
   "version": "3.9.6",
   "mimetype": "text/x-python",
   "codemirror_mode": {
    "name": "ipython",
    "version": 3
   },
   "pygments_lexer": "ipython3",
   "nbconvert_exporter": "python",
   "file_extension": ".py"
  },
  "kernelspec": {
   "name": "python3",
   "display_name": "Python 3.9.6 64-bit ('base': conda)"
  },
  "interpreter": {
   "hash": "f5a15aebcfd6cf31746d094300eea13bdb53fd306d473f894a87d69a4b32cf89"
  }
 },
 "nbformat": 4,
 "nbformat_minor": 2
}